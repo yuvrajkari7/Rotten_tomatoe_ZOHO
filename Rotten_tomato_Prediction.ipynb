{
  "nbformat": 4,
  "nbformat_minor": 0,
  "metadata": {
    "colab": {
      "provenance": [],
      "toc_visible": true
    },
    "kernelspec": {
      "name": "python3",
      "display_name": "Python 3"
    },
    "language_info": {
      "name": "python"
    }
  },
  "cells": [
    {
      "cell_type": "markdown",
      "source": [
        "# Importing basic Libraries and setting up device"
      ],
      "metadata": {
        "id": "lmiv1ul_ZuMe"
      }
    },
    {
      "cell_type": "code",
      "execution_count": 2,
      "metadata": {
        "id": "X81BZaylXrpU"
      },
      "outputs": [],
      "source": [
        "import torch\n",
        "from torch import nn"
      ]
    },
    {
      "cell_type": "code",
      "source": [
        "device = \"cuda\" if torch.cuda.is_available() else torch.device('cpu')\n",
        "device"
      ],
      "metadata": {
        "colab": {
          "base_uri": "https://localhost:8080/"
        },
        "id": "ZI-fQRmEYlH9",
        "outputId": "c9a060c2-f64a-4865-bf88-27de9257767f"
      },
      "execution_count": 3,
      "outputs": [
        {
          "output_type": "execute_result",
          "data": {
            "text/plain": [
              "device(type='cpu')"
            ]
          },
          "metadata": {},
          "execution_count": 3
        }
      ]
    },
    {
      "cell_type": "markdown",
      "source": [
        "# Get /  Download the data from Github"
      ],
      "metadata": {
        "id": "p6IJvlMZZ-8-"
      }
    },
    {
      "cell_type": "code",
      "source": [
        "import requests\n",
        "import zipfile\n",
        "from pathlib import Path\n",
        "\n",
        "# Setup path to data folder\n",
        "data_path = Path(\"data/\")\n",
        "movie_data_path = data_path / \"Rotten_tomato_movie\"\n",
        "\n",
        "# If the image folder doesn't exist, download it and prepare it...\n",
        "if movie_data_path.is_dir():\n",
        "    print(f\"{movie_data_path} directory exists.\")\n",
        "else:\n",
        "    print(f\"Did not find {movie_data_path} directory, creating one...\")\n",
        "    movie_data_path.mkdir(parents=True, exist_ok=True)\n",
        "\n",
        "    # Download pizza, steak, sushi data\n",
        "    with open(data_path / \"Rotten_Tomatoes_Movies3.xls.zip\", \"wb\") as f:\n",
        "        request = requests.get(\"https://github.com/yuvrajkari7/Rotten_tomatoe_ZOHO/raw/main/Rotten_Tomatoes_Movies3.xls.zip\")\n",
        "        print(\"Downloading Rotten tomato movie data...\")\n",
        "        f.write(request.content)\n",
        "\n",
        "    # Unzip pizza, steak, sushi data\n",
        "    with zipfile.ZipFile(data_path / \"Rotten_Tomatoes_Movies3.xls.zip\", \"r\") as zip_ref:\n",
        "        print(\"Unzipping Rotten tomato movie data...\")\n",
        "        zip_ref.extractall(movie_data_path)"
      ],
      "metadata": {
        "colab": {
          "base_uri": "https://localhost:8080/"
        },
        "id": "V6ajPNTmZi5T",
        "outputId": "5c1dc53c-7feb-49b1-9c18-c00c632e7ca8"
      },
      "execution_count": 4,
      "outputs": [
        {
          "output_type": "stream",
          "name": "stdout",
          "text": [
            "Did not find data/Rotten_tomato_movie directory, creating one...\n",
            "Downloading Rotten tomato movie data...\n",
            "Unzipping Rotten tomato movie data...\n"
          ]
        }
      ]
    },
    {
      "cell_type": "markdown",
      "source": [
        "# Importing basic Libraries"
      ],
      "metadata": {
        "id": "H3zViUv1bxW9"
      }
    },
    {
      "cell_type": "code",
      "source": [
        "import numpy as np\n",
        "import pandas as pd\n",
        "import matplotlib.pyplot as plt\n",
        "import seaborn as sns\n",
        "from scipy.stats import iqr\n",
        "from sklearn.preprocessing import StandardScaler\n",
        "from sklearn.model_selection import train_test_split\n",
        "from sklearn.tree import DecisionTreeClassifier, plot_tree\n",
        "from sklearn.ensemble import RandomForestClassifier\n",
        "from sklearn.metrics import accuracy_score, classification_report, confusion_matrix\n",
        "from sklearn.utils.class_weight import compute_class_weight\n",
        "from xgboost import XGBClassifier"
      ],
      "metadata": {
        "id": "iUzLKPFdbxM-"
      },
      "execution_count": 5,
      "outputs": []
    },
    {
      "cell_type": "markdown",
      "source": [
        "# Importing and Exploring The Data"
      ],
      "metadata": {
        "id": "i0YKNMFpb8ZV"
      }
    },
    {
      "cell_type": "code",
      "source": [
        "df_movies=pd.read_excel(movie_data_path / \"Rotten_Tomatoes_Movies3.xls\")\n",
        "df_movies.head()"
      ],
      "metadata": {
        "colab": {
          "base_uri": "https://localhost:8080/",
          "height": 712
        },
        "id": "S53PnBFyb5Q3",
        "outputId": "69bafe0f-8a95-440e-9d4e-d758fc8ab65c"
      },
      "execution_count": 41,
      "outputs": [
        {
          "output_type": "execute_result",
          "data": {
            "text/plain": [
              "                                         movie_title  \\\n",
              "0  Percy Jackson & the Olympians: The Lightning T...   \n",
              "1                                        Please Give   \n",
              "2                                                 10   \n",
              "3                    12 Angry Men (Twelve Angry Men)   \n",
              "4                       20,000 Leagues Under The Sea   \n",
              "\n",
              "                                          movie_info  \\\n",
              "0  A teenager discovers he's the descendant of a ...   \n",
              "1  Kate has a lot on her mind. There's the ethics...   \n",
              "2  Blake Edwards' 10 stars Dudley Moore as George...   \n",
              "3  A Puerto Rican youth is on trial for murder, a...   \n",
              "4  This 1954 Disney version of Jules Verne's 20,0...   \n",
              "\n",
              "                                   critics_consensus rating  \\\n",
              "0  Though it may seem like just another Harry Pot...     PG   \n",
              "1  Nicole Holofcener's newest might seem slight i...      R   \n",
              "2                                                NaN      R   \n",
              "3  Sidney Lumet's feature debut is a superbly wri...     NR   \n",
              "4  One of Disney's finest live-action adventures,...      G   \n",
              "\n",
              "                                               genre          directors  \\\n",
              "0  Action & Adventure, Comedy, Drama, Science Fic...     Chris Columbus   \n",
              "1                                             Comedy  Nicole Holofcener   \n",
              "2                                    Comedy, Romance      Blake Edwards   \n",
              "3                                    Classics, Drama       Sidney Lumet   \n",
              "4           Action & Adventure, Drama, Kids & Family  Richard Fleischer   \n",
              "\n",
              "             writers                                               cast  \\\n",
              "0       Craig Titley  Logan Lerman, Brandon T. Jackson, Alexandra Da...   \n",
              "1  Nicole Holofcener  Catherine Keener, Amanda Peet, Oliver Platt, R...   \n",
              "2      Blake Edwards  Dudley Moore, Bo Derek, Julie Andrews, Robert ...   \n",
              "3      Reginald Rose  Martin Balsam, John Fiedler, Lee J. Cobb, E.G....   \n",
              "4        Earl Felton  James Mason, Kirk Douglas, Paul Lukas, Peter L...   \n",
              "\n",
              "  in_theaters_date on_streaming_date  runtime_in_minutes  \\\n",
              "0       2010-02-12        2010-06-29                83.0   \n",
              "1       2010-04-30        2010-10-19                90.0   \n",
              "2       1979-10-05        1997-08-27               118.0   \n",
              "3       1957-04-13        2001-03-06                95.0   \n",
              "4       1954-01-01        2003-05-20               127.0   \n",
              "\n",
              "              studio_name tomatometer_status  tomatometer_rating  \\\n",
              "0        20th Century Fox             Rotten                  49   \n",
              "1  Sony Pictures Classics    Certified Fresh                  86   \n",
              "2             Waner Bros.              Fresh                  68   \n",
              "3    Criterion Collection    Certified Fresh                 100   \n",
              "4                  Disney              Fresh                  89   \n",
              "\n",
              "   tomatometer_count  audience_rating  \n",
              "0                144             53.0  \n",
              "1                140             64.0  \n",
              "2                 22             53.0  \n",
              "3                 51             97.0  \n",
              "4                 27             74.0  "
            ],
            "text/html": [
              "\n",
              "  <div id=\"df-780605c8-a6e1-4106-9f1b-900f281fc8cd\" class=\"colab-df-container\">\n",
              "    <div>\n",
              "<style scoped>\n",
              "    .dataframe tbody tr th:only-of-type {\n",
              "        vertical-align: middle;\n",
              "    }\n",
              "\n",
              "    .dataframe tbody tr th {\n",
              "        vertical-align: top;\n",
              "    }\n",
              "\n",
              "    .dataframe thead th {\n",
              "        text-align: right;\n",
              "    }\n",
              "</style>\n",
              "<table border=\"1\" class=\"dataframe\">\n",
              "  <thead>\n",
              "    <tr style=\"text-align: right;\">\n",
              "      <th></th>\n",
              "      <th>movie_title</th>\n",
              "      <th>movie_info</th>\n",
              "      <th>critics_consensus</th>\n",
              "      <th>rating</th>\n",
              "      <th>genre</th>\n",
              "      <th>directors</th>\n",
              "      <th>writers</th>\n",
              "      <th>cast</th>\n",
              "      <th>in_theaters_date</th>\n",
              "      <th>on_streaming_date</th>\n",
              "      <th>runtime_in_minutes</th>\n",
              "      <th>studio_name</th>\n",
              "      <th>tomatometer_status</th>\n",
              "      <th>tomatometer_rating</th>\n",
              "      <th>tomatometer_count</th>\n",
              "      <th>audience_rating</th>\n",
              "    </tr>\n",
              "  </thead>\n",
              "  <tbody>\n",
              "    <tr>\n",
              "      <th>0</th>\n",
              "      <td>Percy Jackson &amp; the Olympians: The Lightning T...</td>\n",
              "      <td>A teenager discovers he's the descendant of a ...</td>\n",
              "      <td>Though it may seem like just another Harry Pot...</td>\n",
              "      <td>PG</td>\n",
              "      <td>Action &amp; Adventure, Comedy, Drama, Science Fic...</td>\n",
              "      <td>Chris Columbus</td>\n",
              "      <td>Craig Titley</td>\n",
              "      <td>Logan Lerman, Brandon T. Jackson, Alexandra Da...</td>\n",
              "      <td>2010-02-12</td>\n",
              "      <td>2010-06-29</td>\n",
              "      <td>83.0</td>\n",
              "      <td>20th Century Fox</td>\n",
              "      <td>Rotten</td>\n",
              "      <td>49</td>\n",
              "      <td>144</td>\n",
              "      <td>53.0</td>\n",
              "    </tr>\n",
              "    <tr>\n",
              "      <th>1</th>\n",
              "      <td>Please Give</td>\n",
              "      <td>Kate has a lot on her mind. There's the ethics...</td>\n",
              "      <td>Nicole Holofcener's newest might seem slight i...</td>\n",
              "      <td>R</td>\n",
              "      <td>Comedy</td>\n",
              "      <td>Nicole Holofcener</td>\n",
              "      <td>Nicole Holofcener</td>\n",
              "      <td>Catherine Keener, Amanda Peet, Oliver Platt, R...</td>\n",
              "      <td>2010-04-30</td>\n",
              "      <td>2010-10-19</td>\n",
              "      <td>90.0</td>\n",
              "      <td>Sony Pictures Classics</td>\n",
              "      <td>Certified Fresh</td>\n",
              "      <td>86</td>\n",
              "      <td>140</td>\n",
              "      <td>64.0</td>\n",
              "    </tr>\n",
              "    <tr>\n",
              "      <th>2</th>\n",
              "      <td>10</td>\n",
              "      <td>Blake Edwards' 10 stars Dudley Moore as George...</td>\n",
              "      <td>NaN</td>\n",
              "      <td>R</td>\n",
              "      <td>Comedy, Romance</td>\n",
              "      <td>Blake Edwards</td>\n",
              "      <td>Blake Edwards</td>\n",
              "      <td>Dudley Moore, Bo Derek, Julie Andrews, Robert ...</td>\n",
              "      <td>1979-10-05</td>\n",
              "      <td>1997-08-27</td>\n",
              "      <td>118.0</td>\n",
              "      <td>Waner Bros.</td>\n",
              "      <td>Fresh</td>\n",
              "      <td>68</td>\n",
              "      <td>22</td>\n",
              "      <td>53.0</td>\n",
              "    </tr>\n",
              "    <tr>\n",
              "      <th>3</th>\n",
              "      <td>12 Angry Men (Twelve Angry Men)</td>\n",
              "      <td>A Puerto Rican youth is on trial for murder, a...</td>\n",
              "      <td>Sidney Lumet's feature debut is a superbly wri...</td>\n",
              "      <td>NR</td>\n",
              "      <td>Classics, Drama</td>\n",
              "      <td>Sidney Lumet</td>\n",
              "      <td>Reginald Rose</td>\n",
              "      <td>Martin Balsam, John Fiedler, Lee J. Cobb, E.G....</td>\n",
              "      <td>1957-04-13</td>\n",
              "      <td>2001-03-06</td>\n",
              "      <td>95.0</td>\n",
              "      <td>Criterion Collection</td>\n",
              "      <td>Certified Fresh</td>\n",
              "      <td>100</td>\n",
              "      <td>51</td>\n",
              "      <td>97.0</td>\n",
              "    </tr>\n",
              "    <tr>\n",
              "      <th>4</th>\n",
              "      <td>20,000 Leagues Under The Sea</td>\n",
              "      <td>This 1954 Disney version of Jules Verne's 20,0...</td>\n",
              "      <td>One of Disney's finest live-action adventures,...</td>\n",
              "      <td>G</td>\n",
              "      <td>Action &amp; Adventure, Drama, Kids &amp; Family</td>\n",
              "      <td>Richard Fleischer</td>\n",
              "      <td>Earl Felton</td>\n",
              "      <td>James Mason, Kirk Douglas, Paul Lukas, Peter L...</td>\n",
              "      <td>1954-01-01</td>\n",
              "      <td>2003-05-20</td>\n",
              "      <td>127.0</td>\n",
              "      <td>Disney</td>\n",
              "      <td>Fresh</td>\n",
              "      <td>89</td>\n",
              "      <td>27</td>\n",
              "      <td>74.0</td>\n",
              "    </tr>\n",
              "  </tbody>\n",
              "</table>\n",
              "</div>\n",
              "    <div class=\"colab-df-buttons\">\n",
              "\n",
              "  <div class=\"colab-df-container\">\n",
              "    <button class=\"colab-df-convert\" onclick=\"convertToInteractive('df-780605c8-a6e1-4106-9f1b-900f281fc8cd')\"\n",
              "            title=\"Convert this dataframe to an interactive table.\"\n",
              "            style=\"display:none;\">\n",
              "\n",
              "  <svg xmlns=\"http://www.w3.org/2000/svg\" height=\"24px\" viewBox=\"0 -960 960 960\">\n",
              "    <path d=\"M120-120v-720h720v720H120Zm60-500h600v-160H180v160Zm220 220h160v-160H400v160Zm0 220h160v-160H400v160ZM180-400h160v-160H180v160Zm440 0h160v-160H620v160ZM180-180h160v-160H180v160Zm440 0h160v-160H620v160Z\"/>\n",
              "  </svg>\n",
              "    </button>\n",
              "\n",
              "  <style>\n",
              "    .colab-df-container {\n",
              "      display:flex;\n",
              "      gap: 12px;\n",
              "    }\n",
              "\n",
              "    .colab-df-convert {\n",
              "      background-color: #E8F0FE;\n",
              "      border: none;\n",
              "      border-radius: 50%;\n",
              "      cursor: pointer;\n",
              "      display: none;\n",
              "      fill: #1967D2;\n",
              "      height: 32px;\n",
              "      padding: 0 0 0 0;\n",
              "      width: 32px;\n",
              "    }\n",
              "\n",
              "    .colab-df-convert:hover {\n",
              "      background-color: #E2EBFA;\n",
              "      box-shadow: 0px 1px 2px rgba(60, 64, 67, 0.3), 0px 1px 3px 1px rgba(60, 64, 67, 0.15);\n",
              "      fill: #174EA6;\n",
              "    }\n",
              "\n",
              "    .colab-df-buttons div {\n",
              "      margin-bottom: 4px;\n",
              "    }\n",
              "\n",
              "    [theme=dark] .colab-df-convert {\n",
              "      background-color: #3B4455;\n",
              "      fill: #D2E3FC;\n",
              "    }\n",
              "\n",
              "    [theme=dark] .colab-df-convert:hover {\n",
              "      background-color: #434B5C;\n",
              "      box-shadow: 0px 1px 3px 1px rgba(0, 0, 0, 0.15);\n",
              "      filter: drop-shadow(0px 1px 2px rgba(0, 0, 0, 0.3));\n",
              "      fill: #FFFFFF;\n",
              "    }\n",
              "  </style>\n",
              "\n",
              "    <script>\n",
              "      const buttonEl =\n",
              "        document.querySelector('#df-780605c8-a6e1-4106-9f1b-900f281fc8cd button.colab-df-convert');\n",
              "      buttonEl.style.display =\n",
              "        google.colab.kernel.accessAllowed ? 'block' : 'none';\n",
              "\n",
              "      async function convertToInteractive(key) {\n",
              "        const element = document.querySelector('#df-780605c8-a6e1-4106-9f1b-900f281fc8cd');\n",
              "        const dataTable =\n",
              "          await google.colab.kernel.invokeFunction('convertToInteractive',\n",
              "                                                    [key], {});\n",
              "        if (!dataTable) return;\n",
              "\n",
              "        const docLinkHtml = 'Like what you see? Visit the ' +\n",
              "          '<a target=\"_blank\" href=https://colab.research.google.com/notebooks/data_table.ipynb>data table notebook</a>'\n",
              "          + ' to learn more about interactive tables.';\n",
              "        element.innerHTML = '';\n",
              "        dataTable['output_type'] = 'display_data';\n",
              "        await google.colab.output.renderOutput(dataTable, element);\n",
              "        const docLink = document.createElement('div');\n",
              "        docLink.innerHTML = docLinkHtml;\n",
              "        element.appendChild(docLink);\n",
              "      }\n",
              "    </script>\n",
              "  </div>\n",
              "\n",
              "\n",
              "<div id=\"df-ae02eb00-51d6-4d79-9ed9-27e9b060e63a\">\n",
              "  <button class=\"colab-df-quickchart\" onclick=\"quickchart('df-ae02eb00-51d6-4d79-9ed9-27e9b060e63a')\"\n",
              "            title=\"Suggest charts\"\n",
              "            style=\"display:none;\">\n",
              "\n",
              "<svg xmlns=\"http://www.w3.org/2000/svg\" height=\"24px\"viewBox=\"0 0 24 24\"\n",
              "     width=\"24px\">\n",
              "    <g>\n",
              "        <path d=\"M19 3H5c-1.1 0-2 .9-2 2v14c0 1.1.9 2 2 2h14c1.1 0 2-.9 2-2V5c0-1.1-.9-2-2-2zM9 17H7v-7h2v7zm4 0h-2V7h2v10zm4 0h-2v-4h2v4z\"/>\n",
              "    </g>\n",
              "</svg>\n",
              "  </button>\n",
              "\n",
              "<style>\n",
              "  .colab-df-quickchart {\n",
              "      --bg-color: #E8F0FE;\n",
              "      --fill-color: #1967D2;\n",
              "      --hover-bg-color: #E2EBFA;\n",
              "      --hover-fill-color: #174EA6;\n",
              "      --disabled-fill-color: #AAA;\n",
              "      --disabled-bg-color: #DDD;\n",
              "  }\n",
              "\n",
              "  [theme=dark] .colab-df-quickchart {\n",
              "      --bg-color: #3B4455;\n",
              "      --fill-color: #D2E3FC;\n",
              "      --hover-bg-color: #434B5C;\n",
              "      --hover-fill-color: #FFFFFF;\n",
              "      --disabled-bg-color: #3B4455;\n",
              "      --disabled-fill-color: #666;\n",
              "  }\n",
              "\n",
              "  .colab-df-quickchart {\n",
              "    background-color: var(--bg-color);\n",
              "    border: none;\n",
              "    border-radius: 50%;\n",
              "    cursor: pointer;\n",
              "    display: none;\n",
              "    fill: var(--fill-color);\n",
              "    height: 32px;\n",
              "    padding: 0;\n",
              "    width: 32px;\n",
              "  }\n",
              "\n",
              "  .colab-df-quickchart:hover {\n",
              "    background-color: var(--hover-bg-color);\n",
              "    box-shadow: 0 1px 2px rgba(60, 64, 67, 0.3), 0 1px 3px 1px rgba(60, 64, 67, 0.15);\n",
              "    fill: var(--button-hover-fill-color);\n",
              "  }\n",
              "\n",
              "  .colab-df-quickchart-complete:disabled,\n",
              "  .colab-df-quickchart-complete:disabled:hover {\n",
              "    background-color: var(--disabled-bg-color);\n",
              "    fill: var(--disabled-fill-color);\n",
              "    box-shadow: none;\n",
              "  }\n",
              "\n",
              "  .colab-df-spinner {\n",
              "    border: 2px solid var(--fill-color);\n",
              "    border-color: transparent;\n",
              "    border-bottom-color: var(--fill-color);\n",
              "    animation:\n",
              "      spin 1s steps(1) infinite;\n",
              "  }\n",
              "\n",
              "  @keyframes spin {\n",
              "    0% {\n",
              "      border-color: transparent;\n",
              "      border-bottom-color: var(--fill-color);\n",
              "      border-left-color: var(--fill-color);\n",
              "    }\n",
              "    20% {\n",
              "      border-color: transparent;\n",
              "      border-left-color: var(--fill-color);\n",
              "      border-top-color: var(--fill-color);\n",
              "    }\n",
              "    30% {\n",
              "      border-color: transparent;\n",
              "      border-left-color: var(--fill-color);\n",
              "      border-top-color: var(--fill-color);\n",
              "      border-right-color: var(--fill-color);\n",
              "    }\n",
              "    40% {\n",
              "      border-color: transparent;\n",
              "      border-right-color: var(--fill-color);\n",
              "      border-top-color: var(--fill-color);\n",
              "    }\n",
              "    60% {\n",
              "      border-color: transparent;\n",
              "      border-right-color: var(--fill-color);\n",
              "    }\n",
              "    80% {\n",
              "      border-color: transparent;\n",
              "      border-right-color: var(--fill-color);\n",
              "      border-bottom-color: var(--fill-color);\n",
              "    }\n",
              "    90% {\n",
              "      border-color: transparent;\n",
              "      border-bottom-color: var(--fill-color);\n",
              "    }\n",
              "  }\n",
              "</style>\n",
              "\n",
              "  <script>\n",
              "    async function quickchart(key) {\n",
              "      const quickchartButtonEl =\n",
              "        document.querySelector('#' + key + ' button');\n",
              "      quickchartButtonEl.disabled = true;  // To prevent multiple clicks.\n",
              "      quickchartButtonEl.classList.add('colab-df-spinner');\n",
              "      try {\n",
              "        const charts = await google.colab.kernel.invokeFunction(\n",
              "            'suggestCharts', [key], {});\n",
              "      } catch (error) {\n",
              "        console.error('Error during call to suggestCharts:', error);\n",
              "      }\n",
              "      quickchartButtonEl.classList.remove('colab-df-spinner');\n",
              "      quickchartButtonEl.classList.add('colab-df-quickchart-complete');\n",
              "    }\n",
              "    (() => {\n",
              "      let quickchartButtonEl =\n",
              "        document.querySelector('#df-ae02eb00-51d6-4d79-9ed9-27e9b060e63a button');\n",
              "      quickchartButtonEl.style.display =\n",
              "        google.colab.kernel.accessAllowed ? 'block' : 'none';\n",
              "    })();\n",
              "  </script>\n",
              "</div>\n",
              "\n",
              "    </div>\n",
              "  </div>\n"
            ],
            "application/vnd.google.colaboratory.intrinsic+json": {
              "type": "dataframe",
              "variable_name": "df_movies",
              "summary": "{\n  \"name\": \"df_movies\",\n  \"rows\": 16638,\n  \"fields\": [\n    {\n      \"column\": \"movie_title\",\n      \"properties\": {\n        \"dtype\": \"string\",\n        \"num_unique_values\": 16106,\n        \"samples\": [\n          \"White Dog\",\n          \"Out to Sea\",\n          \"The Social Network\"\n        ],\n        \"semantic_type\": \"\",\n        \"description\": \"\"\n      }\n    },\n    {\n      \"column\": \"movie_info\",\n      \"properties\": {\n        \"dtype\": \"string\",\n        \"num_unique_values\": 16613,\n        \"samples\": [\n          \"The Wild West meets the Far East in a battle for honor, royalty and a trunk full of gold when acrobatic Imperial Guard Chong Wang comes to America to rescue a beautiful kidnapped Chinese princess. With the help of a partner he doesn't trust, a wife he doesn't want, a horse he cannot ride and martial arts moves that no one can believe, Chan finds himself facing the meanest gunslingers in the West.\",\n          \"Yusef is a first-generation Pakistani-American engineering student who moves off-campus with a group of Muslim punks in Buffalo, New York. His new \\\"un-orthodox\\\" housemates soon introduce him to Taqwacore - a hardcore, Muslim punk rock scene. As the seasons change, Taqwacore influences the house more and more. The living room becomes a mosque during the day, while it continues to host punk shows at night. Ultimately, Yusef begins to challenge his own faith and ideologies. A powerful and original story of punk Islam in the USA and the discovery of oneself within the confines of religion. -- (C) Strand\",\n          \"Filthy. Rich. Spoiled. Rotten. A band of overprivileged rich boys run wild in this savagely funny satire of money, sex and power. In the elite realm of Oxford University, no society is more exclusive than The Riot Club, the ultra-selective fraternity for Britain's most privileged sons. When he's recruited to join, down-to-earth first-year student Miles (Max Irons) is at first amused-but he's about to get a taste of upper-crust entitlement at its ugliest when a hedonistic night of drinking and drugs spins out of control. The Hunger Games' Sam Claflin co-stars in this deliciously dark look at boys behaving badly from the Oscar(R)-nominated director of An Education. (C) IFC\"\n        ],\n        \"semantic_type\": \"\",\n        \"description\": \"\"\n      }\n    },\n    {\n      \"column\": \"critics_consensus\",\n      \"properties\": {\n        \"dtype\": \"category\",\n        \"num_unique_values\": 8307,\n        \"samples\": [\n          \"Lost and Delirious becomes exactly that, as the film sinks into overwrought melodrama and cliched, obvious symbolism.\",\n          \"Churchill gets sterling work out of Brian Cox in the leading role, but it isn't enough to overcome a muddled and ultimately unsuccessful approach to an incredible real-life story.\",\n          \"The Last Face's noble intentions are nowhere near enough to carry a fundamentally misguided story that arguably demeans the demographic it wants to defend.\"\n        ],\n        \"semantic_type\": \"\",\n        \"description\": \"\"\n      }\n    },\n    {\n      \"column\": \"rating\",\n      \"properties\": {\n        \"dtype\": \"category\",\n        \"num_unique_values\": 8,\n        \"samples\": [\n          \"R\",\n          \"PG-13)\",\n          \"PG\"\n        ],\n        \"semantic_type\": \"\",\n        \"description\": \"\"\n      }\n    },\n    {\n      \"column\": \"genre\",\n      \"properties\": {\n        \"dtype\": \"category\",\n        \"num_unique_values\": 1080,\n        \"samples\": [\n          \"Drama, Kids & Family, Musical & Performing Arts\",\n          \"Drama, Western, Romance\",\n          \"Art House & International, Comedy, Drama, Musical & Performing Arts, Science Fiction & Fantasy\"\n        ],\n        \"semantic_type\": \"\",\n        \"description\": \"\"\n      }\n    },\n    {\n      \"column\": \"directors\",\n      \"properties\": {\n        \"dtype\": \"category\",\n        \"num_unique_values\": 8314,\n        \"samples\": [\n          \"David Caesar\",\n          \"Mikkel Br\\u221a\\u00b6nne Sandemose\",\n          \"K.C. Bascombe\"\n        ],\n        \"semantic_type\": \"\",\n        \"description\": \"\"\n      }\n    },\n    {\n      \"column\": \"writers\",\n      \"properties\": {\n        \"dtype\": \"string\",\n        \"num_unique_values\": 12121,\n        \"samples\": [\n          \"Peter Tolan\",\n          \"Pedro Gonz\\u221a\\u00b0lez-Rubio\",\n          \"Fran\\u221a\\u00dfois Truffaut, Jean-Louis Richard, Helen Scott, David Rudkin\"\n        ],\n        \"semantic_type\": \"\",\n        \"description\": \"\"\n      }\n    },\n    {\n      \"column\": \"cast\",\n      \"properties\": {\n        \"dtype\": \"string\",\n        \"num_unique_values\": 16326,\n        \"samples\": [\n          \"Casper Van Dien, Jane March, Steven Waddington, Winston Ntshona, Rapulana Seiphemo, Sean Taylor, Gys de Villiers, Russel Savadier, Paul Buckby, Zane Meas, Barry Berk, Michael Gritten, Dimitri Cassar, Tony Caprari, Kurt Wurstman, Chris Olley, Joshua Lindberg, Henry van der Berg, Pete Janschk, Danie van Reinsberg, Aubrey Lovett, Paolo Tocha, Nickie Grigg, Neville Strydom, Dieter Hoffman, Pierre van Rensburg, Bismulah Mdaka, Sello Sebotiane, Sello Dlamini, Chester Fukazi, Grant Swanby, Adam Crousdale, Nick Rujewick, Brendan Stapelton, Amy Pearson, Jeneane Wyatt-Mair, Cheryl Lang, Flash Trobajane\",\n          \"Jeanne Bell, Robert De Niro, Harvey Keitel, Amy Robinson, David Proval, Richard Romanus, Cesare Danova, George Memmoli, Julie Andelman, Lenny Scaletta, Jeannie Bell, Victor Argo, Murray Moston, David Carradine, Robert Carradine, Jeanie Bell, Lois Walden, Harry Northrup, Dino Seragusa, D'Mitch Davis, Peter Fain, Juli Andelman, Robert Wilder, Ken Sinclair, Catherine Scorsese, Martin Scorsese, Jaime Alba\",\n          \"Billy Crudup, Ezra Miller, Michael Angarano, Tye Sheridan, Johnny Simmons, Olivia Thirlby, Logan Miller, Thomas Mann, Keir Gilchrist, Gaius Charles, Ki Hong Lee, James Wolk, Moises Arias, Jack Kilmer, Chris Sheffield, James Frecheville, Nicholas Braun, Nelsan Ellis, Matt Bennett, Jesse Carere, Brett Davern, Miles Heizer, Callan McAuliffe, Benedict Samuel, Harrison Thomas, Albert Malafronte, Danielle Lauder, Kate Butler, Jim Klock, Fred Ochs, Alec Holden, Jack Foley, Ross Philips, Aidan Sussman, Armand Vasquez, Kim Robert Koscki\"\n        ],\n        \"semantic_type\": \"\",\n        \"description\": \"\"\n      }\n    },\n    {\n      \"column\": \"in_theaters_date\",\n      \"properties\": {\n        \"dtype\": \"date\",\n        \"min\": \"1914-06-01 00:00:00\",\n        \"max\": \"2019-12-07 00:00:00\",\n        \"num_unique_values\": 5586,\n        \"samples\": [\n          \"1984-01-27 00:00:00\",\n          \"2001-11-02 00:00:00\",\n          \"2007-01-18 00:00:00\"\n        ],\n        \"semantic_type\": \"\",\n        \"description\": \"\"\n      }\n    },\n    {\n      \"column\": \"on_streaming_date\",\n      \"properties\": {\n        \"dtype\": \"date\",\n        \"min\": \"1935-06-06 00:00:00\",\n        \"max\": \"2019-11-01 00:00:00\",\n        \"num_unique_values\": 2260,\n        \"samples\": [\n          \"1995-03-14 00:00:00\",\n          \"2018-07-27 00:00:00\",\n          \"2013-08-27 00:00:00\"\n        ],\n        \"semantic_type\": \"\",\n        \"description\": \"\"\n      }\n    },\n    {\n      \"column\": \"runtime_in_minutes\",\n      \"properties\": {\n        \"dtype\": \"number\",\n        \"std\": 25.02801086709842,\n        \"min\": 1.0,\n        \"max\": 2000.0,\n        \"num_unique_values\": 201,\n        \"samples\": [\n          66.0,\n          86.0,\n          91.0\n        ],\n        \"semantic_type\": \"\",\n        \"description\": \"\"\n      }\n    },\n    {\n      \"column\": \"studio_name\",\n      \"properties\": {\n        \"dtype\": \"category\",\n        \"num_unique_values\": 2886,\n        \"samples\": [\n          \"Three Kings\",\n          \"Original Cinema\",\n          \"Rockstone Releasing\"\n        ],\n        \"semantic_type\": \"\",\n        \"description\": \"\"\n      }\n    },\n    {\n      \"column\": \"tomatometer_status\",\n      \"properties\": {\n        \"dtype\": \"category\",\n        \"num_unique_values\": 3,\n        \"samples\": [\n          \"Rotten\",\n          \"Certified Fresh\",\n          \"Fresh\"\n        ],\n        \"semantic_type\": \"\",\n        \"description\": \"\"\n      }\n    },\n    {\n      \"column\": \"tomatometer_rating\",\n      \"properties\": {\n        \"dtype\": \"number\",\n        \"std\": 28,\n        \"min\": 0,\n        \"max\": 100,\n        \"num_unique_values\": 101,\n        \"samples\": [\n          95,\n          72,\n          12\n        ],\n        \"semantic_type\": \"\",\n        \"description\": \"\"\n      }\n    },\n    {\n      \"column\": \"tomatometer_count\",\n      \"properties\": {\n        \"dtype\": \"number\",\n        \"std\": 66,\n        \"min\": 5,\n        \"max\": 497,\n        \"num_unique_values\": 393,\n        \"samples\": [\n          65,\n          250,\n          308\n        ],\n        \"semantic_type\": \"\",\n        \"description\": \"\"\n      }\n    },\n    {\n      \"column\": \"audience_rating\",\n      \"properties\": {\n        \"dtype\": \"number\",\n        \"std\": 20.462367575517256,\n        \"min\": 0.0,\n        \"max\": 100.0,\n        \"num_unique_values\": 98,\n        \"samples\": [\n          44.0,\n          55.0,\n          99.0\n        ],\n        \"semantic_type\": \"\",\n        \"description\": \"\"\n      }\n    }\n  ]\n}"
            }
          },
          "metadata": {},
          "execution_count": 41
        }
      ]
    },
    {
      "cell_type": "code",
      "source": [
        "df_movies.shape"
      ],
      "metadata": {
        "colab": {
          "base_uri": "https://localhost:8080/"
        },
        "id": "XFNjagtlb5OO",
        "outputId": "9806f9eb-3933-4714-9abb-14dea2168c5e"
      },
      "execution_count": 7,
      "outputs": [
        {
          "output_type": "execute_result",
          "data": {
            "text/plain": [
              "(16638, 16)"
            ]
          },
          "metadata": {},
          "execution_count": 7
        }
      ]
    },
    {
      "cell_type": "code",
      "source": [
        "df_movies.info()"
      ],
      "metadata": {
        "colab": {
          "base_uri": "https://localhost:8080/"
        },
        "id": "64_dBhLab5Lt",
        "outputId": "512d1aa0-7eaf-432f-971f-cb751623488e"
      },
      "execution_count": 8,
      "outputs": [
        {
          "output_type": "stream",
          "name": "stdout",
          "text": [
            "<class 'pandas.core.frame.DataFrame'>\n",
            "RangeIndex: 16638 entries, 0 to 16637\n",
            "Data columns (total 16 columns):\n",
            " #   Column              Non-Null Count  Dtype         \n",
            "---  ------              --------------  -----         \n",
            " 0   movie_title         16638 non-null  object        \n",
            " 1   movie_info          16614 non-null  object        \n",
            " 2   critics_consensus   8309 non-null   object        \n",
            " 3   rating              16638 non-null  object        \n",
            " 4   genre               16621 non-null  object        \n",
            " 5   directors           16524 non-null  object        \n",
            " 6   writers             15289 non-null  object        \n",
            " 7   cast                16354 non-null  object        \n",
            " 8   in_theaters_date    15823 non-null  datetime64[ns]\n",
            " 9   on_streaming_date   16636 non-null  datetime64[ns]\n",
            " 10  runtime_in_minutes  16483 non-null  float64       \n",
            " 11  studio_name         16222 non-null  object        \n",
            " 12  tomatometer_status  16638 non-null  object        \n",
            " 13  tomatometer_rating  16638 non-null  int64         \n",
            " 14  tomatometer_count   16638 non-null  int64         \n",
            " 15  audience_rating     16386 non-null  float64       \n",
            "dtypes: datetime64[ns](2), float64(2), int64(2), object(10)\n",
            "memory usage: 2.0+ MB\n"
          ]
        }
      ]
    },
    {
      "cell_type": "code",
      "source": [
        "# find the null values in the dataframe in ascending order\n",
        "df_movies.isnull().sum().sort_values(ascending=False)"
      ],
      "metadata": {
        "colab": {
          "base_uri": "https://localhost:8080/",
          "height": 585
        },
        "id": "LqtPAfs5b5Jd",
        "outputId": "e3c36296-cfa4-4c28-897b-79ad73fc76b8"
      },
      "execution_count": 9,
      "outputs": [
        {
          "output_type": "execute_result",
          "data": {
            "text/plain": [
              "critics_consensus     8329\n",
              "writers               1349\n",
              "in_theaters_date       815\n",
              "studio_name            416\n",
              "cast                   284\n",
              "audience_rating        252\n",
              "runtime_in_minutes     155\n",
              "directors              114\n",
              "movie_info              24\n",
              "genre                   17\n",
              "on_streaming_date        2\n",
              "movie_title              0\n",
              "rating                   0\n",
              "tomatometer_status       0\n",
              "tomatometer_rating       0\n",
              "tomatometer_count        0\n",
              "dtype: int64"
            ],
            "text/html": [
              "<div>\n",
              "<style scoped>\n",
              "    .dataframe tbody tr th:only-of-type {\n",
              "        vertical-align: middle;\n",
              "    }\n",
              "\n",
              "    .dataframe tbody tr th {\n",
              "        vertical-align: top;\n",
              "    }\n",
              "\n",
              "    .dataframe thead th {\n",
              "        text-align: right;\n",
              "    }\n",
              "</style>\n",
              "<table border=\"1\" class=\"dataframe\">\n",
              "  <thead>\n",
              "    <tr style=\"text-align: right;\">\n",
              "      <th></th>\n",
              "      <th>0</th>\n",
              "    </tr>\n",
              "  </thead>\n",
              "  <tbody>\n",
              "    <tr>\n",
              "      <th>critics_consensus</th>\n",
              "      <td>8329</td>\n",
              "    </tr>\n",
              "    <tr>\n",
              "      <th>writers</th>\n",
              "      <td>1349</td>\n",
              "    </tr>\n",
              "    <tr>\n",
              "      <th>in_theaters_date</th>\n",
              "      <td>815</td>\n",
              "    </tr>\n",
              "    <tr>\n",
              "      <th>studio_name</th>\n",
              "      <td>416</td>\n",
              "    </tr>\n",
              "    <tr>\n",
              "      <th>cast</th>\n",
              "      <td>284</td>\n",
              "    </tr>\n",
              "    <tr>\n",
              "      <th>audience_rating</th>\n",
              "      <td>252</td>\n",
              "    </tr>\n",
              "    <tr>\n",
              "      <th>runtime_in_minutes</th>\n",
              "      <td>155</td>\n",
              "    </tr>\n",
              "    <tr>\n",
              "      <th>directors</th>\n",
              "      <td>114</td>\n",
              "    </tr>\n",
              "    <tr>\n",
              "      <th>movie_info</th>\n",
              "      <td>24</td>\n",
              "    </tr>\n",
              "    <tr>\n",
              "      <th>genre</th>\n",
              "      <td>17</td>\n",
              "    </tr>\n",
              "    <tr>\n",
              "      <th>on_streaming_date</th>\n",
              "      <td>2</td>\n",
              "    </tr>\n",
              "    <tr>\n",
              "      <th>movie_title</th>\n",
              "      <td>0</td>\n",
              "    </tr>\n",
              "    <tr>\n",
              "      <th>rating</th>\n",
              "      <td>0</td>\n",
              "    </tr>\n",
              "    <tr>\n",
              "      <th>tomatometer_status</th>\n",
              "      <td>0</td>\n",
              "    </tr>\n",
              "    <tr>\n",
              "      <th>tomatometer_rating</th>\n",
              "      <td>0</td>\n",
              "    </tr>\n",
              "    <tr>\n",
              "      <th>tomatometer_count</th>\n",
              "      <td>0</td>\n",
              "    </tr>\n",
              "  </tbody>\n",
              "</table>\n",
              "</div><br><label><b>dtype:</b> int64</label>"
            ]
          },
          "metadata": {},
          "execution_count": 9
        }
      ]
    },
    {
      "cell_type": "code",
      "source": [
        "df_movies.drop('critics_consensus', axis=1, inplace=True)"
      ],
      "metadata": {
        "id": "t3lVIMH4b5He"
      },
      "execution_count": 10,
      "outputs": []
    },
    {
      "cell_type": "code",
      "source": [
        "df_movies.dropna(inplace=True, axis=0)"
      ],
      "metadata": {
        "id": "bOQSwVMpbxKv"
      },
      "execution_count": 11,
      "outputs": []
    },
    {
      "cell_type": "code",
      "source": [
        "df_movies.shape"
      ],
      "metadata": {
        "colab": {
          "base_uri": "https://localhost:8080/"
        },
        "id": "Ivhu5cNPbxId",
        "outputId": "2dcfb868-01e0-4a21-c8db-94f9a60f7f81"
      },
      "execution_count": 12,
      "outputs": [
        {
          "output_type": "execute_result",
          "data": {
            "text/plain": [
              "(14090, 15)"
            ]
          },
          "metadata": {},
          "execution_count": 12
        }
      ]
    },
    {
      "cell_type": "code",
      "source": [
        "#Checking Duplicated Data in the dataframe\n",
        "df_movies.duplicated().sum()"
      ],
      "metadata": {
        "colab": {
          "base_uri": "https://localhost:8080/"
        },
        "id": "qXXFOcTPbxGe",
        "outputId": "001e6417-00d6-4f52-9267-e3cda47ceed0"
      },
      "execution_count": 13,
      "outputs": [
        {
          "output_type": "execute_result",
          "data": {
            "text/plain": [
              "0"
            ]
          },
          "metadata": {},
          "execution_count": 13
        }
      ]
    },
    {
      "cell_type": "markdown",
      "source": [
        "# Exploratory Data Analysis (EDA)"
      ],
      "metadata": {
        "id": "phtAv9q2e4Xe"
      }
    },
    {
      "cell_type": "code",
      "source": [
        "df_movies.select_dtypes('object').nunique()"
      ],
      "metadata": {
        "colab": {
          "base_uri": "https://localhost:8080/",
          "height": 366
        },
        "id": "yK0zEvhze8pJ",
        "outputId": "593bd274-3e4b-4902-eaba-143c3d511834"
      },
      "execution_count": 14,
      "outputs": [
        {
          "output_type": "execute_result",
          "data": {
            "text/plain": [
              "movie_title           13667\n",
              "movie_info            14090\n",
              "rating                    8\n",
              "genre                   979\n",
              "directors              6877\n",
              "writers               11157\n",
              "cast                  14087\n",
              "studio_name            2386\n",
              "tomatometer_status        3\n",
              "dtype: int64"
            ],
            "text/html": [
              "<div>\n",
              "<style scoped>\n",
              "    .dataframe tbody tr th:only-of-type {\n",
              "        vertical-align: middle;\n",
              "    }\n",
              "\n",
              "    .dataframe tbody tr th {\n",
              "        vertical-align: top;\n",
              "    }\n",
              "\n",
              "    .dataframe thead th {\n",
              "        text-align: right;\n",
              "    }\n",
              "</style>\n",
              "<table border=\"1\" class=\"dataframe\">\n",
              "  <thead>\n",
              "    <tr style=\"text-align: right;\">\n",
              "      <th></th>\n",
              "      <th>0</th>\n",
              "    </tr>\n",
              "  </thead>\n",
              "  <tbody>\n",
              "    <tr>\n",
              "      <th>movie_title</th>\n",
              "      <td>13667</td>\n",
              "    </tr>\n",
              "    <tr>\n",
              "      <th>movie_info</th>\n",
              "      <td>14090</td>\n",
              "    </tr>\n",
              "    <tr>\n",
              "      <th>rating</th>\n",
              "      <td>8</td>\n",
              "    </tr>\n",
              "    <tr>\n",
              "      <th>genre</th>\n",
              "      <td>979</td>\n",
              "    </tr>\n",
              "    <tr>\n",
              "      <th>directors</th>\n",
              "      <td>6877</td>\n",
              "    </tr>\n",
              "    <tr>\n",
              "      <th>writers</th>\n",
              "      <td>11157</td>\n",
              "    </tr>\n",
              "    <tr>\n",
              "      <th>cast</th>\n",
              "      <td>14087</td>\n",
              "    </tr>\n",
              "    <tr>\n",
              "      <th>studio_name</th>\n",
              "      <td>2386</td>\n",
              "    </tr>\n",
              "    <tr>\n",
              "      <th>tomatometer_status</th>\n",
              "      <td>3</td>\n",
              "    </tr>\n",
              "  </tbody>\n",
              "</table>\n",
              "</div><br><label><b>dtype:</b> int64</label>"
            ]
          },
          "metadata": {},
          "execution_count": 14
        }
      ]
    },
    {
      "cell_type": "code",
      "source": [
        "#Number of directors in each movie\n",
        "df_movies['num_directors'] = df_movies['directors'].apply(lambda x : len(x.split(',')))\n",
        "#Movie with the highest number of directors\n",
        "df_movies[df_movies[\"num_directors\"] == df_movies[\"num_directors\"].max()]"
      ],
      "metadata": {
        "colab": {
          "base_uri": "https://localhost:8080/",
          "height": 187
        },
        "id": "u9lxiaJSe8me",
        "outputId": "df289b45-c123-4a27-f8d4-e9fd68b5db90"
      },
      "execution_count": 15,
      "outputs": [
        {
          "output_type": "execute_result",
          "data": {
            "text/plain": [
              "           movie_title                                         movie_info  \\\n",
              "10976  Paris Je T'aime  Twenty acclaimed filmmakers from around the wo...   \n",
              "\n",
              "      rating                                      genre  \\\n",
              "10976      R  Art House & International, Drama, Romance   \n",
              "\n",
              "                                               directors  \\\n",
              "10976  Christoffer Boe, Olivier Assayas, Fr√©d√©ric A...   \n",
              "\n",
              "                                                 writers  \\\n",
              "10976  Bruno Podalyd√®s, Paul Mayeda Berges, Gurinder...   \n",
              "\n",
              "                                                    cast in_theaters_date  \\\n",
              "10976  Juliette Binoche, Steve Buscemi, Sergio Castel...       2007-05-04   \n",
              "\n",
              "      on_streaming_date  runtime_in_minutes          studio_name  \\\n",
              "10976        2007-11-13               120.0  First Look Pictures   \n",
              "\n",
              "      tomatometer_status  tomatometer_rating  tomatometer_count  \\\n",
              "10976    Certified Fresh                  87                112   \n",
              "\n",
              "       audience_rating  num_directors  \n",
              "10976             84.0             22  "
            ],
            "text/html": [
              "\n",
              "  <div id=\"df-415afcd7-333c-4707-9b18-cca8511c4c9d\" class=\"colab-df-container\">\n",
              "    <div>\n",
              "<style scoped>\n",
              "    .dataframe tbody tr th:only-of-type {\n",
              "        vertical-align: middle;\n",
              "    }\n",
              "\n",
              "    .dataframe tbody tr th {\n",
              "        vertical-align: top;\n",
              "    }\n",
              "\n",
              "    .dataframe thead th {\n",
              "        text-align: right;\n",
              "    }\n",
              "</style>\n",
              "<table border=\"1\" class=\"dataframe\">\n",
              "  <thead>\n",
              "    <tr style=\"text-align: right;\">\n",
              "      <th></th>\n",
              "      <th>movie_title</th>\n",
              "      <th>movie_info</th>\n",
              "      <th>rating</th>\n",
              "      <th>genre</th>\n",
              "      <th>directors</th>\n",
              "      <th>writers</th>\n",
              "      <th>cast</th>\n",
              "      <th>in_theaters_date</th>\n",
              "      <th>on_streaming_date</th>\n",
              "      <th>runtime_in_minutes</th>\n",
              "      <th>studio_name</th>\n",
              "      <th>tomatometer_status</th>\n",
              "      <th>tomatometer_rating</th>\n",
              "      <th>tomatometer_count</th>\n",
              "      <th>audience_rating</th>\n",
              "      <th>num_directors</th>\n",
              "    </tr>\n",
              "  </thead>\n",
              "  <tbody>\n",
              "    <tr>\n",
              "      <th>10976</th>\n",
              "      <td>Paris Je T'aime</td>\n",
              "      <td>Twenty acclaimed filmmakers from around the wo...</td>\n",
              "      <td>R</td>\n",
              "      <td>Art House &amp; International, Drama, Romance</td>\n",
              "      <td>Christoffer Boe, Olivier Assayas, Fr√©d√©ric A...</td>\n",
              "      <td>Bruno Podalyd√®s, Paul Mayeda Berges, Gurinder...</td>\n",
              "      <td>Juliette Binoche, Steve Buscemi, Sergio Castel...</td>\n",
              "      <td>2007-05-04</td>\n",
              "      <td>2007-11-13</td>\n",
              "      <td>120.0</td>\n",
              "      <td>First Look Pictures</td>\n",
              "      <td>Certified Fresh</td>\n",
              "      <td>87</td>\n",
              "      <td>112</td>\n",
              "      <td>84.0</td>\n",
              "      <td>22</td>\n",
              "    </tr>\n",
              "  </tbody>\n",
              "</table>\n",
              "</div>\n",
              "    <div class=\"colab-df-buttons\">\n",
              "\n",
              "  <div class=\"colab-df-container\">\n",
              "    <button class=\"colab-df-convert\" onclick=\"convertToInteractive('df-415afcd7-333c-4707-9b18-cca8511c4c9d')\"\n",
              "            title=\"Convert this dataframe to an interactive table.\"\n",
              "            style=\"display:none;\">\n",
              "\n",
              "  <svg xmlns=\"http://www.w3.org/2000/svg\" height=\"24px\" viewBox=\"0 -960 960 960\">\n",
              "    <path d=\"M120-120v-720h720v720H120Zm60-500h600v-160H180v160Zm220 220h160v-160H400v160Zm0 220h160v-160H400v160ZM180-400h160v-160H180v160Zm440 0h160v-160H620v160ZM180-180h160v-160H180v160Zm440 0h160v-160H620v160Z\"/>\n",
              "  </svg>\n",
              "    </button>\n",
              "\n",
              "  <style>\n",
              "    .colab-df-container {\n",
              "      display:flex;\n",
              "      gap: 12px;\n",
              "    }\n",
              "\n",
              "    .colab-df-convert {\n",
              "      background-color: #E8F0FE;\n",
              "      border: none;\n",
              "      border-radius: 50%;\n",
              "      cursor: pointer;\n",
              "      display: none;\n",
              "      fill: #1967D2;\n",
              "      height: 32px;\n",
              "      padding: 0 0 0 0;\n",
              "      width: 32px;\n",
              "    }\n",
              "\n",
              "    .colab-df-convert:hover {\n",
              "      background-color: #E2EBFA;\n",
              "      box-shadow: 0px 1px 2px rgba(60, 64, 67, 0.3), 0px 1px 3px 1px rgba(60, 64, 67, 0.15);\n",
              "      fill: #174EA6;\n",
              "    }\n",
              "\n",
              "    .colab-df-buttons div {\n",
              "      margin-bottom: 4px;\n",
              "    }\n",
              "\n",
              "    [theme=dark] .colab-df-convert {\n",
              "      background-color: #3B4455;\n",
              "      fill: #D2E3FC;\n",
              "    }\n",
              "\n",
              "    [theme=dark] .colab-df-convert:hover {\n",
              "      background-color: #434B5C;\n",
              "      box-shadow: 0px 1px 3px 1px rgba(0, 0, 0, 0.15);\n",
              "      filter: drop-shadow(0px 1px 2px rgba(0, 0, 0, 0.3));\n",
              "      fill: #FFFFFF;\n",
              "    }\n",
              "  </style>\n",
              "\n",
              "    <script>\n",
              "      const buttonEl =\n",
              "        document.querySelector('#df-415afcd7-333c-4707-9b18-cca8511c4c9d button.colab-df-convert');\n",
              "      buttonEl.style.display =\n",
              "        google.colab.kernel.accessAllowed ? 'block' : 'none';\n",
              "\n",
              "      async function convertToInteractive(key) {\n",
              "        const element = document.querySelector('#df-415afcd7-333c-4707-9b18-cca8511c4c9d');\n",
              "        const dataTable =\n",
              "          await google.colab.kernel.invokeFunction('convertToInteractive',\n",
              "                                                    [key], {});\n",
              "        if (!dataTable) return;\n",
              "\n",
              "        const docLinkHtml = 'Like what you see? Visit the ' +\n",
              "          '<a target=\"_blank\" href=https://colab.research.google.com/notebooks/data_table.ipynb>data table notebook</a>'\n",
              "          + ' to learn more about interactive tables.';\n",
              "        element.innerHTML = '';\n",
              "        dataTable['output_type'] = 'display_data';\n",
              "        await google.colab.output.renderOutput(dataTable, element);\n",
              "        const docLink = document.createElement('div');\n",
              "        docLink.innerHTML = docLinkHtml;\n",
              "        element.appendChild(docLink);\n",
              "      }\n",
              "    </script>\n",
              "  </div>\n",
              "\n",
              "\n",
              "    </div>\n",
              "  </div>\n"
            ],
            "application/vnd.google.colaboratory.intrinsic+json": {
              "type": "dataframe",
              "summary": "{\n  \"name\": \"df_movies[df_movies[\\\"num_directors\\\"] == df_movies[\\\"num_directors\\\"]\",\n  \"rows\": 1,\n  \"fields\": [\n    {\n      \"column\": \"movie_title\",\n      \"properties\": {\n        \"dtype\": \"string\",\n        \"num_unique_values\": 1,\n        \"samples\": [\n          \"Paris Je T'aime\"\n        ],\n        \"semantic_type\": \"\",\n        \"description\": \"\"\n      }\n    },\n    {\n      \"column\": \"movie_info\",\n      \"properties\": {\n        \"dtype\": \"string\",\n        \"num_unique_values\": 1,\n        \"samples\": [\n          \"Twenty acclaimed filmmakers from around the world look at love in the City of Lights in this omnibus feature. Paris, Je T'Aime features 18 short stories, each set in a different part of Paris and each featuring a different cast and director (two segments were produced by two filmmakers in collaboration). In \\\"Faubourg Saint-Denis,\\\" Tom Tykwer directs Natalie Portman as an American actress who is the object of affection for a blind student (Melchior Belson). Christopher Doyle's \\\"Porte de Choisy\\\" follows a salesman (Barbet Schroeder) as he tries to pitch beauty aids in Chinatown. Nick Nolte and Ludivine Sagnier are father and daughter in \\\"Parc Monceau\\\" from Alfonso Cuar\\u221a\\u2265n. Animator Sylvain Chomet turns his eye to a pair of living, breathing mimes in \\\"Tour Eiffel.\\\" An interracial romance in France is offered by Gurinder Chadha in \\\"Quais de Seine.\\\" In \\\"Le Marais\\\" from Gus Van Sant, a man (Gaspard Ulliel) finds himself falling for a handsome gent (Elias McConnell) who works in a print shop. Isabel Coixet tells the tale of a man (Sergio Castellitto) who is making his final choice between his wife (Miranda Richardson) and his lover (Leonor Watling) in \\\"Bastille.\\\" Juliette Binoche plays a grieving mother in Nobuhiro Suwa's \\\"Place des Victoires,\\\" in which she's greeted by a spectral cowboy (Willem Dafoe). Richard LaGravanese's \\\"Pigalle\\\" finds a long-married man (Bob Hoskins) turning to a prostitute for advice on pleasing his wife (Fanny Ardant). G\\u221a\\u00a9rard Depardieu and Fr\\u221a\\u00a9d\\u221a\\u00a9ric Auburtin direct Gena Rowlands and Ben Gazzara as longtime marrieds meeting for one final pre-divorce encounter in \\\"Quartier Latin.\\\" Steve Buscemi learns a lesson about local etiquette in the Paris Metro in \\\"Tuileries\\\" from Joel and Ethan Coen. In \\\"Loin du 16\\u221a\\u00aeme\\\" by Walter Salles, a housekeeper (Catalina Sandino Moreno) longs for her own child as she tends to the infant of her wealthy employer. Elijah Wood stars in \\\"Quartier de la Madeleine,\\\" a vampire tale from Vincenzo Natali. Wes Craven presents another fantasy in \\\"P\\u221a\\u00aere-Lachaise,\\\" in which an engaged young man (Rufus Sewell) receives romantic advice from the spirit of Oscar Wilde (Alex Payne). A postal worker from Colorado (Margo Martindale) shares her thoughts on her visit to Paris in mangled French in Alexander Payne's witty \\\"14th Arrondissement.\\\" Other segments include \\\"Place des F\\u221a\\u2122tes\\\" from Oliver Schmitz, Bruno Podalyd\\u221a\\u00aes' \\\"Montmartre,\\\" and \\\"Quartier des Enfants Rouges\\\" by Olivier Assayas, which stars Maggie Gyllenhaal. Paris, Je T'Aime received its world premiere at the 2006 Cannes Film Festival.\"\n        ],\n        \"semantic_type\": \"\",\n        \"description\": \"\"\n      }\n    },\n    {\n      \"column\": \"rating\",\n      \"properties\": {\n        \"dtype\": \"string\",\n        \"num_unique_values\": 1,\n        \"samples\": [\n          \"R\"\n        ],\n        \"semantic_type\": \"\",\n        \"description\": \"\"\n      }\n    },\n    {\n      \"column\": \"genre\",\n      \"properties\": {\n        \"dtype\": \"string\",\n        \"num_unique_values\": 1,\n        \"samples\": [\n          \"Art House & International, Drama, Romance\"\n        ],\n        \"semantic_type\": \"\",\n        \"description\": \"\"\n      }\n    },\n    {\n      \"column\": \"directors\",\n      \"properties\": {\n        \"dtype\": \"string\",\n        \"num_unique_values\": 1,\n        \"samples\": [\n          \"Christoffer Boe, Olivier Assayas, Fr\\u221a\\u00a9d\\u221a\\u00a9ric Auburtin, G\\u221a\\u00a9rard Depardieu, Gurinder Chadha, Sylvain Chomet, Joel Coen, Ethan Coen, Isabel Coixet, Wes Craven, Alfonso Cuar\\u221a\\u2265n, Christopher Doyle, Richard LaGravenese, Vincenzo Natali, Alexander Payne, Bruno Podalyd\\u221a\\u00aes, Walter Salles, Daniela Thomas, Oliver Schmitz, Nobuhiro Suwa, Tom Tykwer, Gus Van Sant\"\n        ],\n        \"semantic_type\": \"\",\n        \"description\": \"\"\n      }\n    },\n    {\n      \"column\": \"writers\",\n      \"properties\": {\n        \"dtype\": \"string\",\n        \"num_unique_values\": 1,\n        \"samples\": [\n          \"Bruno Podalyd\\u221a\\u00aes, Paul Mayeda Berges, Gurinder Chadha, Gus Van Sant, Ethan Coen, Joel Coen, Walter Salles, Daniela Thomas, Christopher Doyle, Gabrielle Keng Peralta, Rain Kathy Li, Isabel Coixet, Nobuhiro Suwa, Sylvain Chomet, Alfonso Cuar\\u221a\\u2265n, Olivier Assayas, Oliver Schmitz, Richard LaGravenese, Vincenzo Natali, Wes Craven, Tom Tykwer, Gena Rowlands, Nadine Eid, Alexander Payne\"\n        ],\n        \"semantic_type\": \"\",\n        \"description\": \"\"\n      }\n    },\n    {\n      \"column\": \"cast\",\n      \"properties\": {\n        \"dtype\": \"string\",\n        \"num_unique_values\": 1,\n        \"samples\": [\n          \"Juliette Binoche, Steve Buscemi, Sergio Castellitto, Willem Dafoe, G\\u221a\\u00a9rard Depardieu, Marianne Faithfull, Fanny Ardant, Ben Gazzara, Maggie Gyllenhaal, Bob Hoskins, Margo Martindale, Emily Mortimer, Nick Nolte, Catalina Sandino Moreno, Li Xin, Natalie Portman, Elias McConnell, Miranda Richardson, Gena Rowlands, Ludivine Sagnier, Rufus Sewell, Gaspard Ulliel, Elijah Wood, Le\\u221a\\u00d8la Bekhti, Melchior Beslon, Seydou Boro, Javier C\\u221a\\u00b0mara, Cyril Descours, Joana Preiss, Yolande Moreau, Hippolyte Girardot, Florence Muller, Bruno Podalyd\\u221a\\u00aes, Paul Putner, Barbet Schroeder, Olga Kurylenko\"\n        ],\n        \"semantic_type\": \"\",\n        \"description\": \"\"\n      }\n    },\n    {\n      \"column\": \"in_theaters_date\",\n      \"properties\": {\n        \"dtype\": \"date\",\n        \"min\": \"2007-05-04 00:00:00\",\n        \"max\": \"2007-05-04 00:00:00\",\n        \"num_unique_values\": 1,\n        \"samples\": [\n          \"2007-05-04 00:00:00\"\n        ],\n        \"semantic_type\": \"\",\n        \"description\": \"\"\n      }\n    },\n    {\n      \"column\": \"on_streaming_date\",\n      \"properties\": {\n        \"dtype\": \"date\",\n        \"min\": \"2007-11-13 00:00:00\",\n        \"max\": \"2007-11-13 00:00:00\",\n        \"num_unique_values\": 1,\n        \"samples\": [\n          \"2007-11-13 00:00:00\"\n        ],\n        \"semantic_type\": \"\",\n        \"description\": \"\"\n      }\n    },\n    {\n      \"column\": \"runtime_in_minutes\",\n      \"properties\": {\n        \"dtype\": \"number\",\n        \"std\": null,\n        \"min\": 120.0,\n        \"max\": 120.0,\n        \"num_unique_values\": 1,\n        \"samples\": [\n          120.0\n        ],\n        \"semantic_type\": \"\",\n        \"description\": \"\"\n      }\n    },\n    {\n      \"column\": \"studio_name\",\n      \"properties\": {\n        \"dtype\": \"string\",\n        \"num_unique_values\": 1,\n        \"samples\": [\n          \"First Look Pictures\"\n        ],\n        \"semantic_type\": \"\",\n        \"description\": \"\"\n      }\n    },\n    {\n      \"column\": \"tomatometer_status\",\n      \"properties\": {\n        \"dtype\": \"string\",\n        \"num_unique_values\": 1,\n        \"samples\": [\n          \"Certified Fresh\"\n        ],\n        \"semantic_type\": \"\",\n        \"description\": \"\"\n      }\n    },\n    {\n      \"column\": \"tomatometer_rating\",\n      \"properties\": {\n        \"dtype\": \"number\",\n        \"std\": null,\n        \"min\": 87,\n        \"max\": 87,\n        \"num_unique_values\": 1,\n        \"samples\": [\n          87\n        ],\n        \"semantic_type\": \"\",\n        \"description\": \"\"\n      }\n    },\n    {\n      \"column\": \"tomatometer_count\",\n      \"properties\": {\n        \"dtype\": \"number\",\n        \"std\": null,\n        \"min\": 112,\n        \"max\": 112,\n        \"num_unique_values\": 1,\n        \"samples\": [\n          112\n        ],\n        \"semantic_type\": \"\",\n        \"description\": \"\"\n      }\n    },\n    {\n      \"column\": \"audience_rating\",\n      \"properties\": {\n        \"dtype\": \"number\",\n        \"std\": null,\n        \"min\": 84.0,\n        \"max\": 84.0,\n        \"num_unique_values\": 1,\n        \"samples\": [\n          84.0\n        ],\n        \"semantic_type\": \"\",\n        \"description\": \"\"\n      }\n    },\n    {\n      \"column\": \"num_directors\",\n      \"properties\": {\n        \"dtype\": \"number\",\n        \"std\": null,\n        \"min\": 22,\n        \"max\": 22,\n        \"num_unique_values\": 1,\n        \"samples\": [\n          22\n        ],\n        \"semantic_type\": \"\",\n        \"description\": \"\"\n      }\n    }\n  ]\n}"
            }
          },
          "metadata": {},
          "execution_count": 15
        }
      ]
    },
    {
      "cell_type": "code",
      "source": [
        "#Number of actors in each movie\n",
        "df_movies['num_actors'] = df_movies['cast'].apply(lambda x : len(x.split(',')))\n",
        "#Movie with the highest number of actors\n",
        "df_movies[df_movies[\"num_actors\"] == df_movies[\"num_actors\"].max()]"
      ],
      "metadata": {
        "colab": {
          "base_uri": "https://localhost:8080/",
          "height": 187
        },
        "id": "rkSXbtrLe8j-",
        "outputId": "e025e860-b0f4-412b-f49f-ed743075984c"
      },
      "execution_count": 16,
      "outputs": [
        {
          "output_type": "execute_result",
          "data": {
            "text/plain": [
              "    movie_title                                         movie_info rating  \\\n",
              "912   Malcolm X  Writer-director Spike Lee's epic portrayal of ...  PG-13   \n",
              "\n",
              "     genre  directors                 writers  \\\n",
              "912  Drama  Spike Lee  Spike Lee, Arnold Perl   \n",
              "\n",
              "                                                  cast in_theaters_date  \\\n",
              "912  Denzel Washington, Angela Bassett, Al Freeman ...       1992-11-18   \n",
              "\n",
              "    on_streaming_date  runtime_in_minutes   studio_name tomatometer_status  \\\n",
              "912        2000-01-18               201.0  Warner Bros.    Certified Fresh   \n",
              "\n",
              "     tomatometer_rating  tomatometer_count  audience_rating  num_directors  \\\n",
              "912                  88                 57             91.0              1   \n",
              "\n",
              "     num_actors  \n",
              "912         306  "
            ],
            "text/html": [
              "\n",
              "  <div id=\"df-7924fb61-009c-478e-949e-89dcf2341699\" class=\"colab-df-container\">\n",
              "    <div>\n",
              "<style scoped>\n",
              "    .dataframe tbody tr th:only-of-type {\n",
              "        vertical-align: middle;\n",
              "    }\n",
              "\n",
              "    .dataframe tbody tr th {\n",
              "        vertical-align: top;\n",
              "    }\n",
              "\n",
              "    .dataframe thead th {\n",
              "        text-align: right;\n",
              "    }\n",
              "</style>\n",
              "<table border=\"1\" class=\"dataframe\">\n",
              "  <thead>\n",
              "    <tr style=\"text-align: right;\">\n",
              "      <th></th>\n",
              "      <th>movie_title</th>\n",
              "      <th>movie_info</th>\n",
              "      <th>rating</th>\n",
              "      <th>genre</th>\n",
              "      <th>directors</th>\n",
              "      <th>writers</th>\n",
              "      <th>cast</th>\n",
              "      <th>in_theaters_date</th>\n",
              "      <th>on_streaming_date</th>\n",
              "      <th>runtime_in_minutes</th>\n",
              "      <th>studio_name</th>\n",
              "      <th>tomatometer_status</th>\n",
              "      <th>tomatometer_rating</th>\n",
              "      <th>tomatometer_count</th>\n",
              "      <th>audience_rating</th>\n",
              "      <th>num_directors</th>\n",
              "      <th>num_actors</th>\n",
              "    </tr>\n",
              "  </thead>\n",
              "  <tbody>\n",
              "    <tr>\n",
              "      <th>912</th>\n",
              "      <td>Malcolm X</td>\n",
              "      <td>Writer-director Spike Lee's epic portrayal of ...</td>\n",
              "      <td>PG-13</td>\n",
              "      <td>Drama</td>\n",
              "      <td>Spike Lee</td>\n",
              "      <td>Spike Lee, Arnold Perl</td>\n",
              "      <td>Denzel Washington, Angela Bassett, Al Freeman ...</td>\n",
              "      <td>1992-11-18</td>\n",
              "      <td>2000-01-18</td>\n",
              "      <td>201.0</td>\n",
              "      <td>Warner Bros.</td>\n",
              "      <td>Certified Fresh</td>\n",
              "      <td>88</td>\n",
              "      <td>57</td>\n",
              "      <td>91.0</td>\n",
              "      <td>1</td>\n",
              "      <td>306</td>\n",
              "    </tr>\n",
              "  </tbody>\n",
              "</table>\n",
              "</div>\n",
              "    <div class=\"colab-df-buttons\">\n",
              "\n",
              "  <div class=\"colab-df-container\">\n",
              "    <button class=\"colab-df-convert\" onclick=\"convertToInteractive('df-7924fb61-009c-478e-949e-89dcf2341699')\"\n",
              "            title=\"Convert this dataframe to an interactive table.\"\n",
              "            style=\"display:none;\">\n",
              "\n",
              "  <svg xmlns=\"http://www.w3.org/2000/svg\" height=\"24px\" viewBox=\"0 -960 960 960\">\n",
              "    <path d=\"M120-120v-720h720v720H120Zm60-500h600v-160H180v160Zm220 220h160v-160H400v160Zm0 220h160v-160H400v160ZM180-400h160v-160H180v160Zm440 0h160v-160H620v160ZM180-180h160v-160H180v160Zm440 0h160v-160H620v160Z\"/>\n",
              "  </svg>\n",
              "    </button>\n",
              "\n",
              "  <style>\n",
              "    .colab-df-container {\n",
              "      display:flex;\n",
              "      gap: 12px;\n",
              "    }\n",
              "\n",
              "    .colab-df-convert {\n",
              "      background-color: #E8F0FE;\n",
              "      border: none;\n",
              "      border-radius: 50%;\n",
              "      cursor: pointer;\n",
              "      display: none;\n",
              "      fill: #1967D2;\n",
              "      height: 32px;\n",
              "      padding: 0 0 0 0;\n",
              "      width: 32px;\n",
              "    }\n",
              "\n",
              "    .colab-df-convert:hover {\n",
              "      background-color: #E2EBFA;\n",
              "      box-shadow: 0px 1px 2px rgba(60, 64, 67, 0.3), 0px 1px 3px 1px rgba(60, 64, 67, 0.15);\n",
              "      fill: #174EA6;\n",
              "    }\n",
              "\n",
              "    .colab-df-buttons div {\n",
              "      margin-bottom: 4px;\n",
              "    }\n",
              "\n",
              "    [theme=dark] .colab-df-convert {\n",
              "      background-color: #3B4455;\n",
              "      fill: #D2E3FC;\n",
              "    }\n",
              "\n",
              "    [theme=dark] .colab-df-convert:hover {\n",
              "      background-color: #434B5C;\n",
              "      box-shadow: 0px 1px 3px 1px rgba(0, 0, 0, 0.15);\n",
              "      filter: drop-shadow(0px 1px 2px rgba(0, 0, 0, 0.3));\n",
              "      fill: #FFFFFF;\n",
              "    }\n",
              "  </style>\n",
              "\n",
              "    <script>\n",
              "      const buttonEl =\n",
              "        document.querySelector('#df-7924fb61-009c-478e-949e-89dcf2341699 button.colab-df-convert');\n",
              "      buttonEl.style.display =\n",
              "        google.colab.kernel.accessAllowed ? 'block' : 'none';\n",
              "\n",
              "      async function convertToInteractive(key) {\n",
              "        const element = document.querySelector('#df-7924fb61-009c-478e-949e-89dcf2341699');\n",
              "        const dataTable =\n",
              "          await google.colab.kernel.invokeFunction('convertToInteractive',\n",
              "                                                    [key], {});\n",
              "        if (!dataTable) return;\n",
              "\n",
              "        const docLinkHtml = 'Like what you see? Visit the ' +\n",
              "          '<a target=\"_blank\" href=https://colab.research.google.com/notebooks/data_table.ipynb>data table notebook</a>'\n",
              "          + ' to learn more about interactive tables.';\n",
              "        element.innerHTML = '';\n",
              "        dataTable['output_type'] = 'display_data';\n",
              "        await google.colab.output.renderOutput(dataTable, element);\n",
              "        const docLink = document.createElement('div');\n",
              "        docLink.innerHTML = docLinkHtml;\n",
              "        element.appendChild(docLink);\n",
              "      }\n",
              "    </script>\n",
              "  </div>\n",
              "\n",
              "\n",
              "    </div>\n",
              "  </div>\n"
            ],
            "application/vnd.google.colaboratory.intrinsic+json": {
              "type": "dataframe",
              "summary": "{\n  \"name\": \"df_movies[df_movies[\\\"num_actors\\\"] == df_movies[\\\"num_actors\\\"]\",\n  \"rows\": 1,\n  \"fields\": [\n    {\n      \"column\": \"movie_title\",\n      \"properties\": {\n        \"dtype\": \"string\",\n        \"num_unique_values\": 1,\n        \"samples\": [\n          \"Malcolm X\"\n        ],\n        \"semantic_type\": \"\",\n        \"description\": \"\"\n      }\n    },\n    {\n      \"column\": \"movie_info\",\n      \"properties\": {\n        \"dtype\": \"string\",\n        \"num_unique_values\": 1,\n        \"samples\": [\n          \"Writer-director Spike Lee's epic portrayal of the life and times of the slain civil rights leader Malcolm X begins with the cross-cut imagery of the police beating of black motorist Rodney King juxtaposed with an American flag burning into the shape of the letter X. When the film's narrative begins moments later, it jumps back to World War II-era Boston, where Malcolm Little (Denzel Washington) is making his living as a hustler. The son of a Baptist preacher who was murdered by the Ku Klux Klan, Little was raised by foster parents after his mother was deemed clinically insane; as an adult, he turned to a life of crime, which leads to his imprisonment on burglary charges. In jail, Little receives epiphany in the form of an introduction to Islam; he is especially taken with the lessons of Elijah Mohammed, who comes to him in a vision. Adopting the name 'Malcolm X' as a rejection of the 'Little' surname (given his family by white slave owners), he meets the real Elijah Mohammed (Al Freeman, Jr.) upon exiting prison, and begins work as a spokesman for the Nation of Islam. Marriage to a Muslim nurse named Betty Shabazz (Angela Bassett) follows, after which X spearheads a well-attended march on a Harlem hospital housing a Muslim recovering from an episode of police brutality. The march's success helps elevate X to the position of Islam's national spokesperson. There is dissension in the ranks, however, and soon X is targeted for assassination by other Nation leaders; even Elijah Mohammed fears Malcolm's growing influence. After getting wind of the murder plot, X leaves the Nation of Islam, embarking on a pilgrimage to Mecca that proves revelatory; renouncing his separatist beliefs, his oratories begin embracing all races and cultures. During a 1965 speech, Malcolm X is shot and killed, reportedly by Nation of Islam members. ~ Jason Ankeny, Rovi\"\n        ],\n        \"semantic_type\": \"\",\n        \"description\": \"\"\n      }\n    },\n    {\n      \"column\": \"rating\",\n      \"properties\": {\n        \"dtype\": \"string\",\n        \"num_unique_values\": 1,\n        \"samples\": [\n          \"PG-13\"\n        ],\n        \"semantic_type\": \"\",\n        \"description\": \"\"\n      }\n    },\n    {\n      \"column\": \"genre\",\n      \"properties\": {\n        \"dtype\": \"string\",\n        \"num_unique_values\": 1,\n        \"samples\": [\n          \"Drama\"\n        ],\n        \"semantic_type\": \"\",\n        \"description\": \"\"\n      }\n    },\n    {\n      \"column\": \"directors\",\n      \"properties\": {\n        \"dtype\": \"string\",\n        \"num_unique_values\": 1,\n        \"samples\": [\n          \"Spike Lee\"\n        ],\n        \"semantic_type\": \"\",\n        \"description\": \"\"\n      }\n    },\n    {\n      \"column\": \"writers\",\n      \"properties\": {\n        \"dtype\": \"string\",\n        \"num_unique_values\": 1,\n        \"samples\": [\n          \"Spike Lee, Arnold Perl\"\n        ],\n        \"semantic_type\": \"\",\n        \"description\": \"\"\n      }\n    },\n    {\n      \"column\": \"cast\",\n      \"properties\": {\n        \"dtype\": \"string\",\n        \"num_unique_values\": 1,\n        \"samples\": [\n          \"Denzel Washington, Angela Bassett, Al Freeman Jr., Delroy Lindo, Albert Hall, Theresa Randle, Kate Vernon, Spike Lee, Lonette McKee, Tommy Hollis, James McDaniel, Ernest Thomas, Jean-Claude La Marre, O.L. Duke, Larry McCoy, Maurice Sneed, Debi Mazar, Scot Anthony Robinson, James E. Gaines, Joe Seneca, LaTanya Richardson, Wendell Pierce, Michael Guess, Leland Gantt, Richard Gordon, Giancarlo Esposito, Leonard Thomas, Roger Guenveur Smith, Craig Wasson, Graham Brown, Gerica Cox, Kristan Rai Segure, Lauren Padick, Danielle Fletcher, Robinson Frank Adu, Aleta Mitchell, Curt Williams, John Ottavino, John Reidy, Frances Foster, Reggie Montgomery, David Patrick Kelly, Gary L. Catus, Sharon Washington, Shirley Stoler, Phyllis Yvonne Stickney, Oran \\\"Juice\\\" Jones, Ricky Gordon, George Lee Miles, Raye Dowell, Veronica Webb, Abdul Salaam El Razaac, Keith Smith, George Guidall, James L. Swain, Pee Wee Love, James C. Lawrence, Steve White, K. Smith, Christopher Rubin, Matthew Scott Harris, Zakee Howze, Cytia Fontenette, Marlaine Bass, Benjamin Atwell, Peter Dunn, Dion Smack Jr., Darnell Smith, TaiNesha Scott, Chelsea Counts, Chela Counts, Natalie Clanton, Jessica Givens, LaToyah Bigelow, Ashanti, Martaleah Jackson, Tamaraleah Jackson, Jasmine Smith, Valentino Smith, David Thomas Jr., Simon Do-Ley, Bill Goldberg, Leonard Parker, Lennis Washington, Dyan Humes, Lizabeth MacKay, Terry Layman, Terry Sumter, Jasper McGruder, Keith Randolph Smith, Mary Alice Smith, Kyle P. Smith, Wyatt T. Walker, Hazel Medina, Wendy E. Taylor, Ed Herlihy, Ralph Sr. Cooper, Nelson Mandela, Christian J. Dacosta, Karen Duffy, Walter Jones, Marc Phillips, Showman Uneke, Theara Ward, Larry Cherry, Clebert Ford, Grafton Trew, Simon Rogers, George T. Odom, Vincent Moscaritola, Larry Attile, Brendan Kelly, John Griesemer, Fia Porter, Billy J. Mitchell, Kent Jackman, Beatrice Winde, Fracaswell Hyman, Rion Johnson, Charles Weldon, Mike Hodge, Ira Little, Ilyasah Shabazz, Bahni Turpin, Aaron Blackshear, Nilyne Fields, John David Washington, Rudi Bascomb, Muhammad Parks, Chinere Parry, Ian Quiles, Sharmeek Martinez, Chuck Cooper, Damon Chandler, Shellye D. Broughton, Nicholas Barnwell, Sam Dixon, Barbara Smith, Rome Neal, Earl Whitted, Michael C. Mahon, Addison Cook, Byron Utley, George Rafferty, Maxwell Sinovoi, Eric Swirsly, Stewart J. Zully, Colleen Cowan, Armand Schultz, Reade Kelly, Janet Zarish, Annie Corley, Stephen James, Steven Randazzo, Christopher Skutch, William Swinton, Marcus Naylor, Anthony Nocerino, Gareth Williams, Stephen Mo Hanan, Richard Schiff, David Berman, Michael Imperioli, Steve Stapenhorst, Arthur French, Lex Monson, Judd Jones, C.E. Smith, Erika Smith-Brown, Raymond Anthony Thomas, Delilah Picart, Michael Ralph, Monique Cintron, Jake-Ann Jones, Amelia 'Mimi' Walker, Neisha Folkes-LeMelle, Lenore Pemberton, Felicia Wilson, Yvette Brooks, Teresa Yvon Farley, John Sayles, Martin Donovan, Jay Charbonneau, Joe Pentangelo, Mike Farley, Nick Muglia, David Reilly, Nicholas Turturro, James Murtaugh, William Fichtner, Tim Kelleher, Michael Cullen, James MacDonald, Steve Aronson, Bill Anagnos, Don Hewitt Sr., Jery Hewitt, Joe Fitos, Manny Siverio, Jack McLaughlin, Shaun O'Neil, Andy Duppin, Elmer Licciardello, Matt Dillon, Renton Kirk, Tim Hutchinson, Andre Blair, Abdul Kakeem Hijrah, Rony Clanton, Scott Whitehurst, Eric Payne, Ali Abdul Wahbah, Terry Hodges, Kevan Gibbs, Dana Hubbard, David Reivers, Robert Jason, Kevin Rock, Mansoor Najeeullah, Dion Graham, Zaahir Muhammad, Gregory Bargeman, Lee Summers, Rich Gordon, Larry Rushing, Monty Ross, Eddie Davis, Reggie Pittman, Patrick Rickman, Gerald Brazel, Clark Gaton, Richard Owens, Douglas Purviance, Mark Gross, Cleave Guyton Jr., Javon Jackson, Lance Bryant, Danielle LeMelle, David Fludd, Marcus Lauper, Dwayne 'Cook' Broadnax, Preston Vismale, Miki Howard, Terence Blanchard, Bruce David Barth, Rodney Whitaker, William E. Kilson, Sonny Allen, Vanessa Benton, Cheryl Burr, Leslie Dockery, Cisco Drayton, Byron Easley, John Elejalde, Debra Elkins, Gina Ellis, Sharon Ferguson, John Festa, Robert H. Fowler III, Ryan Francois, Phillip Gilmore, Jauquette Greene, Wendy King, Jerome Jamal Hardeman, Dawn Hampton, Monique Harcum, Raymond Harris, Delphine T. Mantz, Bernard Marsh, Greta Martin, Norma Miller, Frances Morgan, John Parks, Greg Poland, Judine Hawkins Richard, Eartha Robinson, Michelle Robinson, Traci Robinson, Ken Leigh Rogers, Eddie Sanabria, Eddie J. Shellman, Lynn Sterling, Keith Thomas, Debbie Williams, Charles F. Young, Anthony Dewitt, Cynthia Thomas, Sharon Brooks, Laurieann Gibson, El Tahara Ibrahim, Keith Lewis, Dereque Whithurs, Steve Reed, Jodie Farber, Randy Means, Columbia DuBose, Vincent D'Onofrio, Cliff Cudney, George Marshall Ruge, Bobby Seale, Al Sharpton, Christopher Plummer, Karen Allen, Peter Boyle, William Kunstler, Ossie Davis\"\n        ],\n        \"semantic_type\": \"\",\n        \"description\": \"\"\n      }\n    },\n    {\n      \"column\": \"in_theaters_date\",\n      \"properties\": {\n        \"dtype\": \"date\",\n        \"min\": \"1992-11-18 00:00:00\",\n        \"max\": \"1992-11-18 00:00:00\",\n        \"num_unique_values\": 1,\n        \"samples\": [\n          \"1992-11-18 00:00:00\"\n        ],\n        \"semantic_type\": \"\",\n        \"description\": \"\"\n      }\n    },\n    {\n      \"column\": \"on_streaming_date\",\n      \"properties\": {\n        \"dtype\": \"date\",\n        \"min\": \"2000-01-18 00:00:00\",\n        \"max\": \"2000-01-18 00:00:00\",\n        \"num_unique_values\": 1,\n        \"samples\": [\n          \"2000-01-18 00:00:00\"\n        ],\n        \"semantic_type\": \"\",\n        \"description\": \"\"\n      }\n    },\n    {\n      \"column\": \"runtime_in_minutes\",\n      \"properties\": {\n        \"dtype\": \"number\",\n        \"std\": null,\n        \"min\": 201.0,\n        \"max\": 201.0,\n        \"num_unique_values\": 1,\n        \"samples\": [\n          201.0\n        ],\n        \"semantic_type\": \"\",\n        \"description\": \"\"\n      }\n    },\n    {\n      \"column\": \"studio_name\",\n      \"properties\": {\n        \"dtype\": \"string\",\n        \"num_unique_values\": 1,\n        \"samples\": [\n          \"Warner Bros.\"\n        ],\n        \"semantic_type\": \"\",\n        \"description\": \"\"\n      }\n    },\n    {\n      \"column\": \"tomatometer_status\",\n      \"properties\": {\n        \"dtype\": \"string\",\n        \"num_unique_values\": 1,\n        \"samples\": [\n          \"Certified Fresh\"\n        ],\n        \"semantic_type\": \"\",\n        \"description\": \"\"\n      }\n    },\n    {\n      \"column\": \"tomatometer_rating\",\n      \"properties\": {\n        \"dtype\": \"number\",\n        \"std\": null,\n        \"min\": 88,\n        \"max\": 88,\n        \"num_unique_values\": 1,\n        \"samples\": [\n          88\n        ],\n        \"semantic_type\": \"\",\n        \"description\": \"\"\n      }\n    },\n    {\n      \"column\": \"tomatometer_count\",\n      \"properties\": {\n        \"dtype\": \"number\",\n        \"std\": null,\n        \"min\": 57,\n        \"max\": 57,\n        \"num_unique_values\": 1,\n        \"samples\": [\n          57\n        ],\n        \"semantic_type\": \"\",\n        \"description\": \"\"\n      }\n    },\n    {\n      \"column\": \"audience_rating\",\n      \"properties\": {\n        \"dtype\": \"number\",\n        \"std\": null,\n        \"min\": 91.0,\n        \"max\": 91.0,\n        \"num_unique_values\": 1,\n        \"samples\": [\n          91.0\n        ],\n        \"semantic_type\": \"\",\n        \"description\": \"\"\n      }\n    },\n    {\n      \"column\": \"num_directors\",\n      \"properties\": {\n        \"dtype\": \"number\",\n        \"std\": null,\n        \"min\": 1,\n        \"max\": 1,\n        \"num_unique_values\": 1,\n        \"samples\": [\n          1\n        ],\n        \"semantic_type\": \"\",\n        \"description\": \"\"\n      }\n    },\n    {\n      \"column\": \"num_actors\",\n      \"properties\": {\n        \"dtype\": \"number\",\n        \"std\": null,\n        \"min\": 306,\n        \"max\": 306,\n        \"num_unique_values\": 1,\n        \"samples\": [\n          306\n        ],\n        \"semantic_type\": \"\",\n        \"description\": \"\"\n      }\n    }\n  ]\n}"
            }
          },
          "metadata": {},
          "execution_count": 16
        }
      ]
    },
    {
      "cell_type": "code",
      "source": [
        "print(f'Movie with the highest runtime: \\n{df_movies[df_movies[\"runtime_in_minutes\"] == df_movies[\"runtime_in_minutes\"].max()][[\"runtime_in_minutes\", \"movie_title\"]]}')\n",
        "print(f'Movie with the lowest runtime: \\n{df_movies[df_movies[\"runtime_in_minutes\"] == df_movies[\"runtime_in_minutes\"].min()][[\"runtime_in_minutes\", \"movie_title\"]].iloc[0]}')"
      ],
      "metadata": {
        "colab": {
          "base_uri": "https://localhost:8080/"
        },
        "id": "A7WWlD2Ne8he",
        "outputId": "f14b948f-7178-40ca-ed92-2eb68a981a8c"
      },
      "execution_count": 17,
      "outputs": [
        {
          "output_type": "stream",
          "name": "stdout",
          "text": [
            "Movie with the highest runtime: \n",
            "       runtime_in_minutes   movie_title\n",
            "13539              2000.0  Terror Tract\n",
            "Movie with the lowest runtime: \n",
            "runtime_in_minutes           1.0\n",
            "movie_title           The Border\n",
            "Name: 323, dtype: object\n"
          ]
        }
      ]
    },
    {
      "cell_type": "code",
      "source": [
        "#Content Ratings Counts\n",
        "print(df_movies['rating'].value_counts())\n",
        "sns.countplot(data=df_movies, x='rating',hue=None,palette=\"tab10\",legend=False)\n",
        "plt.title('Content Ratings Counts')"
      ],
      "metadata": {
        "colab": {
          "base_uri": "https://localhost:8080/",
          "height": 770
        },
        "id": "Z-16Obire8fS",
        "outputId": "3f221c44-a552-4ce3-f87f-09f523b61c4b"
      },
      "execution_count": 21,
      "outputs": [
        {
          "output_type": "stream",
          "name": "stdout",
          "text": [
            "rating\n",
            "R         5650\n",
            "NR        3299\n",
            "PG-13     2672\n",
            "PG        1851\n",
            "G          580\n",
            "NC17        34\n",
            "PG-13)       3\n",
            "R)           1\n",
            "Name: count, dtype: int64\n"
          ]
        },
        {
          "output_type": "stream",
          "name": "stderr",
          "text": [
            "<ipython-input-21-c721f88e93a1>:3: FutureWarning: \n",
            "\n",
            "Passing `palette` without assigning `hue` is deprecated and will be removed in v0.14.0. Assign the `x` variable to `hue` and set `legend=False` for the same effect.\n",
            "\n",
            "  sns.countplot(data=df_movies, x='rating',hue=None,palette=\"tab10\",legend=False)\n"
          ]
        },
        {
          "output_type": "execute_result",
          "data": {
            "text/plain": [
              "Text(0.5, 1.0, 'Content Ratings Counts')"
            ]
          },
          "metadata": {},
          "execution_count": 21
        },
        {
          "output_type": "display_data",
          "data": {
            "text/plain": [
              "<Figure size 640x480 with 1 Axes>"
            ],
            "image/png": "[encoded data removed]"
          },
          "metadata": {}
        }
      ]
    },
    {
      "cell_type": "code",
      "source": [
        "#Number od Fresh, Certified Fresh and Rotten Movies\n",
        "print(df_movies['tomatometer_status'].value_counts())\n",
        "sns.countplot(data=df_movies, x='tomatometer_status',hue=None,palette=\"tab10\",legend=False)\n",
        "plt.title('Number of Fresh, Certified Fresh and Rotten Movies')"
      ],
      "metadata": {
        "colab": {
          "base_uri": "https://localhost:8080/",
          "height": 683
        },
        "id": "buktVou4MWhR",
        "outputId": "538e8739-50c7-493a-8ab3-ae2b9f1a0923"
      },
      "execution_count": 22,
      "outputs": [
        {
          "output_type": "stream",
          "name": "stdout",
          "text": [
            "tomatometer_status\n",
            "Rotten             6468\n",
            "Fresh              4969\n",
            "Certified Fresh    2653\n",
            "Name: count, dtype: int64\n"
          ]
        },
        {
          "output_type": "stream",
          "name": "stderr",
          "text": [
            "<ipython-input-22-0ff7a1308429>:3: FutureWarning: \n",
            "\n",
            "Passing `palette` without assigning `hue` is deprecated and will be removed in v0.14.0. Assign the `x` variable to `hue` and set `legend=False` for the same effect.\n",
            "\n",
            "  sns.countplot(data=df_movies, x='tomatometer_status',hue=None,palette=\"tab10\",legend=False)\n"
          ]
        },
        {
          "output_type": "execute_result",
          "data": {
            "text/plain": [
              "Text(0.5, 1.0, 'Number of Fresh, Certified Fresh and Rotten Movies')"
            ]
          },
          "metadata": {},
          "execution_count": 22
        },
        {
          "output_type": "display_data",
          "data": {
            "text/plain": [
              "<Figure size 640x480 with 1 Axes>"
            ],
            "image/png": "[encoded data removed]"
          },
          "metadata": {}
        }
      ]
    },
    {
      "cell_type": "code",
      "source": [
        "#Replacing tomatometer_status with numeric values\n",
        "df_movies['tomatometer_status'] = df_movies['tomatometer_status'].replace(\n",
        "    {'Rotten': 0, 'Fresh': 1, 'Certified Fresh': 2}\n",
        ")\n"
      ],
      "metadata": {
        "colab": {
          "base_uri": "https://localhost:8080/"
        },
        "id": "u387BTNBMWeX",
        "outputId": "8d88703c-9e54-4132-92ed-3791105e9978"
      },
      "execution_count": 26,
      "outputs": [
        {
          "output_type": "stream",
          "name": "stderr",
          "text": [
            "<ipython-input-26-89822136988c>:2: FutureWarning: Downcasting behavior in `replace` is deprecated and will be removed in a future version. To retain the old behavior, explicitly call `result.infer_objects(copy=False)`. To opt-in to the future behavior, set `pd.set_option('future.no_silent_downcasting', True)`\n",
            "  df_movies['tomatometer_status'] = df_movies['tomatometer_status'].replace(\n"
          ]
        }
      ]
    },
    {
      "cell_type": "code",
      "source": [
        "df_movies['tomatometer_status'].value_counts()"
      ],
      "metadata": {
        "colab": {
          "base_uri": "https://localhost:8080/",
          "height": 209
        },
        "id": "65E_3ryiMWZH",
        "outputId": "e845ef06-46f8-437c-adef-fc6aabbda9be"
      },
      "execution_count": 27,
      "outputs": [
        {
          "output_type": "execute_result",
          "data": {
            "text/plain": [
              "tomatometer_status\n",
              "0    6468\n",
              "1    4969\n",
              "2    2653\n",
              "Name: count, dtype: int64"
            ],
            "text/html": [
              "<div>\n",
              "<style scoped>\n",
              "    .dataframe tbody tr th:only-of-type {\n",
              "        vertical-align: middle;\n",
              "    }\n",
              "\n",
              "    .dataframe tbody tr th {\n",
              "        vertical-align: top;\n",
              "    }\n",
              "\n",
              "    .dataframe thead th {\n",
              "        text-align: right;\n",
              "    }\n",
              "</style>\n",
              "<table border=\"1\" class=\"dataframe\">\n",
              "  <thead>\n",
              "    <tr style=\"text-align: right;\">\n",
              "      <th></th>\n",
              "      <th>count</th>\n",
              "    </tr>\n",
              "    <tr>\n",
              "      <th>tomatometer_status</th>\n",
              "      <th></th>\n",
              "    </tr>\n",
              "  </thead>\n",
              "  <tbody>\n",
              "    <tr>\n",
              "      <th>0</th>\n",
              "      <td>6468</td>\n",
              "    </tr>\n",
              "    <tr>\n",
              "      <th>1</th>\n",
              "      <td>4969</td>\n",
              "    </tr>\n",
              "    <tr>\n",
              "      <th>2</th>\n",
              "      <td>2653</td>\n",
              "    </tr>\n",
              "  </tbody>\n",
              "</table>\n",
              "</div><br><label><b>dtype:</b> int64</label>"
            ]
          },
          "metadata": {},
          "execution_count": 27
        }
      ]
    },
    {
      "cell_type": "code",
      "source": [
        "#Number of Movies Produced by top 10 Company\n",
        "print(df_movies['studio_name'].value_counts()[:10])\n",
        "df_movies['studio_name'].value_counts()[:10].plot(kind='bar')\n",
        "plt.title('Audience Status Counts')"
      ],
      "metadata": {
        "colab": {
          "base_uri": "https://localhost:8080/",
          "height": 927
        },
        "id": "b8eCWPpMN6yu",
        "outputId": "32834360-80f4-4f08-bfa8-c6d2308d3ed7"
      },
      "execution_count": 28,
      "outputs": [
        {
          "output_type": "stream",
          "name": "stdout",
          "text": [
            "studio_name\n",
            "Paramount Pictures                  473\n",
            "Warner Bros. Pictures               472\n",
            "Universal Pictures                  457\n",
            "20th Century Fox                    404\n",
            "IFC Films                           355\n",
            "Sony Pictures Home Entertainment    346\n",
            "Warner Home Video                   338\n",
            "MGM                                 246\n",
            "MGM Home Entertainment              241\n",
            "Sony Pictures Classics              238\n",
            "Name: count, dtype: int64\n"
          ]
        },
        {
          "output_type": "execute_result",
          "data": {
            "text/plain": [
              "Text(0.5, 1.0, 'Audience Status Counts')"
            ]
          },
          "metadata": {},
          "execution_count": 28
        },
        {
          "output_type": "display_data",
          "data": {
            "text/plain": [
              "<Figure size 640x480 with 1 Axes>"
            ],
            "image/png": "[encoded data removed]"
          },
          "metadata": {}
        }
      ]
    },
    {
      "cell_type": "code",
      "source": [
        "#Movies per Year\n",
        "df_movies['original_release_date'] = pd.to_datetime(df_movies['in_theaters_date'])\n",
        "df_movies['original_release_year'] = df_movies['in_theaters_date'].dt.year"
      ],
      "metadata": {
        "id": "1cHMIP-dN6wG"
      },
      "execution_count": 34,
      "outputs": []
    },
    {
      "cell_type": "code",
      "source": [
        "sns.displot(data=df_movies, x='original_release_year')\n",
        "plt.ylabel('# MOVIES')\n",
        "plt.title('Movies per Year')\n",
        "print('Year with most number of movies: ', df_movies['original_release_year'].value_counts().index[0])\n",
        "print('Year with least number of movies: ', df_movies['original_release_year'].value_counts().index[-1])"
      ],
      "metadata": {
        "colab": {
          "base_uri": "https://localhost:8080/",
          "height": 564
        },
        "id": "Y6cW5J9DN6tu",
        "outputId": "e94cc78e-db93-43fc-d8a1-d0546a5d5bb3"
      },
      "execution_count": 35,
      "outputs": [
        {
          "output_type": "stream",
          "name": "stdout",
          "text": [
            "Year with most number of movies:  2014\n",
            "Year with least number of movies:  1914\n"
          ]
        },
        {
          "output_type": "display_data",
          "data": {
            "text/plain": [
              "<Figure size 500x500 with 1 Axes>"
            ],
            "image/png": "[encoded data removed]"
          },
          "metadata": {}
        }
      ]
    },
    {
      "cell_type": "code",
      "source": [
        "df_movies['genre'].value_counts()[:10].plot(kind='bar')\n",
        "plt.title('Distribution of Genres')\n",
        "plt.ylabel('Counts')"
      ],
      "metadata": {
        "colab": {
          "base_uri": "https://localhost:8080/",
          "height": 816
        },
        "id": "Vata-6-jN6rP",
        "outputId": "eda2e0ef-9042-4979-e12a-a314b803ed76"
      },
      "execution_count": 37,
      "outputs": [
        {
          "output_type": "execute_result",
          "data": {
            "text/plain": [
              "Text(0, 0.5, 'Counts')"
            ]
          },
          "metadata": {},
          "execution_count": 37
        },
        {
          "output_type": "display_data",
          "data": {
            "text/plain": [
              "<Figure size 640x480 with 1 Axes>"
            ],
            "image/png": "[encoded data removed]"
          },
          "metadata": {}
        }
      ]
    },
    {
      "cell_type": "code",
      "source": [
        "df_movies.describe()"
      ],
      "metadata": {
        "colab": {
          "base_uri": "https://localhost:8080/",
          "height": 424
        },
        "id": "NhzRRVrWMWU_",
        "outputId": "3e5498f2-2ae7-46ca-d724-67baa248dc18"
      },
      "execution_count": 38,
      "outputs": [
        {
          "output_type": "execute_result",
          "data": {
            "text/plain": [
              "                    in_theaters_date  on_streaming_date  runtime_in_minutes  \\\n",
              "count                          14090       14090.000000        14090.000000   \n",
              "mean   1999-01-14 04:06:30.404542208        2007.580696          103.646842   \n",
              "min              1914-06-01 00:00:00        1935.000000            1.000000   \n",
              "25%              1991-12-27 00:00:00        2002.000000           91.000000   \n",
              "50%              2005-12-21 00:00:00        2007.000000          100.000000   \n",
              "75%              2013-02-15 00:00:00        2013.000000          112.000000   \n",
              "max              2019-10-25 00:00:00        2019.000000         2000.000000   \n",
              "std                              NaN           6.356441           25.548225   \n",
              "\n",
              "       tomatometer_status  tomatometer_rating  tomatometer_count  \\\n",
              "count        14090.000000        14090.000000       14090.000000   \n",
              "mean             0.729241           58.903052          61.854365   \n",
              "min              0.000000            0.000000           5.000000   \n",
              "25%              0.000000           36.000000          14.000000   \n",
              "50%              1.000000           63.000000          32.000000   \n",
              "75%              1.000000           84.000000          88.000000   \n",
              "max              2.000000          100.000000         497.000000   \n",
              "std              0.757673           28.528839          68.860785   \n",
              "\n",
              "       audience_rating  num_directors    num_actors  \\\n",
              "count      14090.00000   14090.000000  14090.000000   \n",
              "mean          60.07885       1.122569     27.640667   \n",
              "min            0.00000       1.000000      1.000000   \n",
              "25%           44.00000       1.000000     12.000000   \n",
              "50%           62.00000       1.000000     22.000000   \n",
              "75%           77.00000       1.000000     38.000000   \n",
              "max          100.00000      22.000000    306.000000   \n",
              "std           20.34867       0.520386     20.719323   \n",
              "\n",
              "               original_release_date  original_release_year  \n",
              "count                          14090           14090.000000  \n",
              "mean   1999-01-14 04:06:30.404542208            1998.541945  \n",
              "min              1914-06-01 00:00:00            1914.000000  \n",
              "25%              1991-12-27 00:00:00            1991.000000  \n",
              "50%              2005-12-21 00:00:00            2005.000000  \n",
              "75%              2013-02-15 00:00:00            2013.000000  \n",
              "max              2019-10-25 00:00:00            2019.000000  \n",
              "std                              NaN              19.736686  "
            ],
            "text/html": [
              "\n",
              "  <div id=\"df-a376d1d7-c254-4964-83d3-f88b0924cb83\" class=\"colab-df-container\">\n",
              "    <div>\n",
              "<style scoped>\n",
              "    .dataframe tbody tr th:only-of-type {\n",
              "        vertical-align: middle;\n",
              "    }\n",
              "\n",
              "    .dataframe tbody tr th {\n",
              "        vertical-align: top;\n",
              "    }\n",
              "\n",
              "    .dataframe thead th {\n",
              "        text-align: right;\n",
              "    }\n",
              "</style>\n",
              "<table border=\"1\" class=\"dataframe\">\n",
              "  <thead>\n",
              "    <tr style=\"text-align: right;\">\n",
              "      <th></th>\n",
              "      <th>in_theaters_date</th>\n",
              "      <th>on_streaming_date</th>\n",
              "      <th>runtime_in_minutes</th>\n",
              "      <th>tomatometer_status</th>\n",
              "      <th>tomatometer_rating</th>\n",
              "      <th>tomatometer_count</th>\n",
              "      <th>audience_rating</th>\n",
              "      <th>num_directors</th>\n",
              "      <th>num_actors</th>\n",
              "      <th>original_release_date</th>\n",
              "      <th>original_release_year</th>\n",
              "    </tr>\n",
              "  </thead>\n",
              "  <tbody>\n",
              "    <tr>\n",
              "      <th>count</th>\n",
              "      <td>14090</td>\n",
              "      <td>14090.000000</td>\n",
              "      <td>14090.000000</td>\n",
              "      <td>14090.000000</td>\n",
              "      <td>14090.000000</td>\n",
              "      <td>14090.000000</td>\n",
              "      <td>14090.00000</td>\n",
              "      <td>14090.000000</td>\n",
              "      <td>14090.000000</td>\n",
              "      <td>14090</td>\n",
              "      <td>14090.000000</td>\n",
              "    </tr>\n",
              "    <tr>\n",
              "      <th>mean</th>\n",
              "      <td>1999-01-14 04:06:30.404542208</td>\n",
              "      <td>2007.580696</td>\n",
              "      <td>103.646842</td>\n",
              "      <td>0.729241</td>\n",
              "      <td>58.903052</td>\n",
              "      <td>61.854365</td>\n",
              "      <td>60.07885</td>\n",
              "      <td>1.122569</td>\n",
              "      <td>27.640667</td>\n",
              "      <td>1999-01-14 04:06:30.404542208</td>\n",
              "      <td>1998.541945</td>\n",
              "    </tr>\n",
              "    <tr>\n",
              "      <th>min</th>\n",
              "      <td>1914-06-01 00:00:00</td>\n",
              "      <td>1935.000000</td>\n",
              "      <td>1.000000</td>\n",
              "      <td>0.000000</td>\n",
              "      <td>0.000000</td>\n",
              "      <td>5.000000</td>\n",
              "      <td>0.00000</td>\n",
              "      <td>1.000000</td>\n",
              "      <td>1.000000</td>\n",
              "      <td>1914-06-01 00:00:00</td>\n",
              "      <td>1914.000000</td>\n",
              "    </tr>\n",
              "    <tr>\n",
              "      <th>25%</th>\n",
              "      <td>1991-12-27 00:00:00</td>\n",
              "      <td>2002.000000</td>\n",
              "      <td>91.000000</td>\n",
              "      <td>0.000000</td>\n",
              "      <td>36.000000</td>\n",
              "      <td>14.000000</td>\n",
              "      <td>44.00000</td>\n",
              "      <td>1.000000</td>\n",
              "      <td>12.000000</td>\n",
              "      <td>1991-12-27 00:00:00</td>\n",
              "      <td>1991.000000</td>\n",
              "    </tr>\n",
              "    <tr>\n",
              "      <th>50%</th>\n",
              "      <td>2005-12-21 00:00:00</td>\n",
              "      <td>2007.000000</td>\n",
              "      <td>100.000000</td>\n",
              "      <td>1.000000</td>\n",
              "      <td>63.000000</td>\n",
              "      <td>32.000000</td>\n",
              "      <td>62.00000</td>\n",
              "      <td>1.000000</td>\n",
              "      <td>22.000000</td>\n",
              "      <td>2005-12-21 00:00:00</td>\n",
              "      <td>2005.000000</td>\n",
              "    </tr>\n",
              "    <tr>\n",
              "      <th>75%</th>\n",
              "      <td>2013-02-15 00:00:00</td>\n",
              "      <td>2013.000000</td>\n",
              "      <td>112.000000</td>\n",
              "      <td>1.000000</td>\n",
              "      <td>84.000000</td>\n",
              "      <td>88.000000</td>\n",
              "      <td>77.00000</td>\n",
              "      <td>1.000000</td>\n",
              "      <td>38.000000</td>\n",
              "      <td>2013-02-15 00:00:00</td>\n",
              "      <td>2013.000000</td>\n",
              "    </tr>\n",
              "    <tr>\n",
              "      <th>max</th>\n",
              "      <td>2019-10-25 00:00:00</td>\n",
              "      <td>2019.000000</td>\n",
              "      <td>2000.000000</td>\n",
              "      <td>2.000000</td>\n",
              "      <td>100.000000</td>\n",
              "      <td>497.000000</td>\n",
              "      <td>100.00000</td>\n",
              "      <td>22.000000</td>\n",
              "      <td>306.000000</td>\n",
              "      <td>2019-10-25 00:00:00</td>\n",
              "      <td>2019.000000</td>\n",
              "    </tr>\n",
              "    <tr>\n",
              "      <th>std</th>\n",
              "      <td>NaN</td>\n",
              "      <td>6.356441</td>\n",
              "      <td>25.548225</td>\n",
              "      <td>0.757673</td>\n",
              "      <td>28.528839</td>\n",
              "      <td>68.860785</td>\n",
              "      <td>20.34867</td>\n",
              "      <td>0.520386</td>\n",
              "      <td>20.719323</td>\n",
              "      <td>NaN</td>\n",
              "      <td>19.736686</td>\n",
              "    </tr>\n",
              "  </tbody>\n",
              "</table>\n",
              "</div>\n",
              "    <div class=\"colab-df-buttons\">\n",
              "\n",
              "  <div class=\"colab-df-container\">\n",
              "    <button class=\"colab-df-convert\" onclick=\"convertToInteractive('df-a376d1d7-c254-4964-83d3-f88b0924cb83')\"\n",
              "            title=\"Convert this dataframe to an interactive table.\"\n",
              "            style=\"display:none;\">\n",
              "\n",
              "  <svg xmlns=\"http://www.w3.org/2000/svg\" height=\"24px\" viewBox=\"0 -960 960 960\">\n",
              "    <path d=\"M120-120v-720h720v720H120Zm60-500h600v-160H180v160Zm220 220h160v-160H400v160Zm0 220h160v-160H400v160ZM180-400h160v-160H180v160Zm440 0h160v-160H620v160ZM180-180h160v-160H180v160Zm440 0h160v-160H620v160Z\"/>\n",
              "  </svg>\n",
              "    </button>\n",
              "\n",
              "  <style>\n",
              "    .colab-df-container {\n",
              "      display:flex;\n",
              "      gap: 12px;\n",
              "    }\n",
              "\n",
              "    .colab-df-convert {\n",
              "      background-color: #E8F0FE;\n",
              "      border: none;\n",
              "      border-radius: 50%;\n",
              "      cursor: pointer;\n",
              "      display: none;\n",
              "      fill: #1967D2;\n",
              "      height: 32px;\n",
              "      padding: 0 0 0 0;\n",
              "      width: 32px;\n",
              "    }\n",
              "\n",
              "    .colab-df-convert:hover {\n",
              "      background-color: #E2EBFA;\n",
              "      box-shadow: 0px 1px 2px rgba(60, 64, 67, 0.3), 0px 1px 3px 1px rgba(60, 64, 67, 0.15);\n",
              "      fill: #174EA6;\n",
              "    }\n",
              "\n",
              "    .colab-df-buttons div {\n",
              "      margin-bottom: 4px;\n",
              "    }\n",
              "\n",
              "    [theme=dark] .colab-df-convert {\n",
              "      background-color: #3B4455;\n",
              "      fill: #D2E3FC;\n",
              "    }\n",
              "\n",
              "    [theme=dark] .colab-df-convert:hover {\n",
              "      background-color: #434B5C;\n",
              "      box-shadow: 0px 1px 3px 1px rgba(0, 0, 0, 0.15);\n",
              "      filter: drop-shadow(0px 1px 2px rgba(0, 0, 0, 0.3));\n",
              "      fill: #FFFFFF;\n",
              "    }\n",
              "  </style>\n",
              "\n",
              "    <script>\n",
              "      const buttonEl =\n",
              "        document.querySelector('#df-a376d1d7-c254-4964-83d3-f88b0924cb83 button.colab-df-convert');\n",
              "      buttonEl.style.display =\n",
              "        google.colab.kernel.accessAllowed ? 'block' : 'none';\n",
              "\n",
              "      async function convertToInteractive(key) {\n",
              "        const element = document.querySelector('#df-a376d1d7-c254-4964-83d3-f88b0924cb83');\n",
              "        const dataTable =\n",
              "          await google.colab.kernel.invokeFunction('convertToInteractive',\n",
              "                                                    [key], {});\n",
              "        if (!dataTable) return;\n",
              "\n",
              "        const docLinkHtml = 'Like what you see? Visit the ' +\n",
              "          '<a target=\"_blank\" href=https://colab.research.google.com/notebooks/data_table.ipynb>data table notebook</a>'\n",
              "          + ' to learn more about interactive tables.';\n",
              "        element.innerHTML = '';\n",
              "        dataTable['output_type'] = 'display_data';\n",
              "        await google.colab.output.renderOutput(dataTable, element);\n",
              "        const docLink = document.createElement('div');\n",
              "        docLink.innerHTML = docLinkHtml;\n",
              "        element.appendChild(docLink);\n",
              "      }\n",
              "    </script>\n",
              "  </div>\n",
              "\n",
              "\n",
              "<div id=\"df-6d0215d2-f020-4e7a-9853-75607827b1ad\">\n",
              "  <button class=\"colab-df-quickchart\" onclick=\"quickchart('df-6d0215d2-f020-4e7a-9853-75607827b1ad')\"\n",
              "            title=\"Suggest charts\"\n",
              "            style=\"display:none;\">\n",
              "\n",
              "<svg xmlns=\"http://www.w3.org/2000/svg\" height=\"24px\"viewBox=\"0 0 24 24\"\n",
              "     width=\"24px\">\n",
              "    <g>\n",
              "        <path d=\"M19 3H5c-1.1 0-2 .9-2 2v14c0 1.1.9 2 2 2h14c1.1 0 2-.9 2-2V5c0-1.1-.9-2-2-2zM9 17H7v-7h2v7zm4 0h-2V7h2v10zm4 0h-2v-4h2v4z\"/>\n",
              "    </g>\n",
              "</svg>\n",
              "  </button>\n",
              "\n",
              "<style>\n",
              "  .colab-df-quickchart {\n",
              "      --bg-color: #E8F0FE;\n",
              "      --fill-color: #1967D2;\n",
              "      --hover-bg-color: #E2EBFA;\n",
              "      --hover-fill-color: #174EA6;\n",
              "      --disabled-fill-color: #AAA;\n",
              "      --disabled-bg-color: #DDD;\n",
              "  }\n",
              "\n",
              "  [theme=dark] .colab-df-quickchart {\n",
              "      --bg-color: #3B4455;\n",
              "      --fill-color: #D2E3FC;\n",
              "      --hover-bg-color: #434B5C;\n",
              "      --hover-fill-color: #FFFFFF;\n",
              "      --disabled-bg-color: #3B4455;\n",
              "      --disabled-fill-color: #666;\n",
              "  }\n",
              "\n",
              "  .colab-df-quickchart {\n",
              "    background-color: var(--bg-color);\n",
              "    border: none;\n",
              "    border-radius: 50%;\n",
              "    cursor: pointer;\n",
              "    display: none;\n",
              "    fill: var(--fill-color);\n",
              "    height: 32px;\n",
              "    padding: 0;\n",
              "    width: 32px;\n",
              "  }\n",
              "\n",
              "  .colab-df-quickchart:hover {\n",
              "    background-color: var(--hover-bg-color);\n",
              "    box-shadow: 0 1px 2px rgba(60, 64, 67, 0.3), 0 1px 3px 1px rgba(60, 64, 67, 0.15);\n",
              "    fill: var(--button-hover-fill-color);\n",
              "  }\n",
              "\n",
              "  .colab-df-quickchart-complete:disabled,\n",
              "  .colab-df-quickchart-complete:disabled:hover {\n",
              "    background-color: var(--disabled-bg-color);\n",
              "    fill: var(--disabled-fill-color);\n",
              "    box-shadow: none;\n",
              "  }\n",
              "\n",
              "  .colab-df-spinner {\n",
              "    border: 2px solid var(--fill-color);\n",
              "    border-color: transparent;\n",
              "    border-bottom-color: var(--fill-color);\n",
              "    animation:\n",
              "      spin 1s steps(1) infinite;\n",
              "  }\n",
              "\n",
              "  @keyframes spin {\n",
              "    0% {\n",
              "      border-color: transparent;\n",
              "      border-bottom-color: var(--fill-color);\n",
              "      border-left-color: var(--fill-color);\n",
              "    }\n",
              "    20% {\n",
              "      border-color: transparent;\n",
              "      border-left-color: var(--fill-color);\n",
              "      border-top-color: var(--fill-color);\n",
              "    }\n",
              "    30% {\n",
              "      border-color: transparent;\n",
              "      border-left-color: var(--fill-color);\n",
              "      border-top-color: var(--fill-color);\n",
              "      border-right-color: var(--fill-color);\n",
              "    }\n",
              "    40% {\n",
              "      border-color: transparent;\n",
              "      border-right-color: var(--fill-color);\n",
              "      border-top-color: var(--fill-color);\n",
              "    }\n",
              "    60% {\n",
              "      border-color: transparent;\n",
              "      border-right-color: var(--fill-color);\n",
              "    }\n",
              "    80% {\n",
              "      border-color: transparent;\n",
              "      border-right-color: var(--fill-color);\n",
              "      border-bottom-color: var(--fill-color);\n",
              "    }\n",
              "    90% {\n",
              "      border-color: transparent;\n",
              "      border-bottom-color: var(--fill-color);\n",
              "    }\n",
              "  }\n",
              "</style>\n",
              "\n",
              "  <script>\n",
              "    async function quickchart(key) {\n",
              "      const quickchartButtonEl =\n",
              "        document.querySelector('#' + key + ' button');\n",
              "      quickchartButtonEl.disabled = true;  // To prevent multiple clicks.\n",
              "      quickchartButtonEl.classList.add('colab-df-spinner');\n",
              "      try {\n",
              "        const charts = await google.colab.kernel.invokeFunction(\n",
              "            'suggestCharts', [key], {});\n",
              "      } catch (error) {\n",
              "        console.error('Error during call to suggestCharts:', error);\n",
              "      }\n",
              "      quickchartButtonEl.classList.remove('colab-df-spinner');\n",
              "      quickchartButtonEl.classList.add('colab-df-quickchart-complete');\n",
              "    }\n",
              "    (() => {\n",
              "      let quickchartButtonEl =\n",
              "        document.querySelector('#df-6d0215d2-f020-4e7a-9853-75607827b1ad button');\n",
              "      quickchartButtonEl.style.display =\n",
              "        google.colab.kernel.accessAllowed ? 'block' : 'none';\n",
              "    })();\n",
              "  </script>\n",
              "</div>\n",
              "\n",
              "    </div>\n",
              "  </div>\n"
            ],
            "application/vnd.google.colaboratory.intrinsic+json": {
              "type": "dataframe",
              "summary": "{\n  \"name\": \"df_movies\",\n  \"rows\": 8,\n  \"fields\": [\n    {\n      \"column\": \"in_theaters_date\",\n      \"properties\": {\n        \"dtype\": \"date\",\n        \"min\": \"1914-06-01 00:00:00\",\n        \"max\": \"2019-10-25 00:00:00\",\n        \"num_unique_values\": 7,\n        \"samples\": [\n          \"14090\",\n          \"1999-01-14 04:06:30.404542208\",\n          \"2013-02-15 00:00:00\"\n        ],\n        \"semantic_type\": \"\",\n        \"description\": \"\"\n      }\n    },\n    {\n      \"column\": \"on_streaming_date\",\n      \"properties\": {\n        \"dtype\": \"number\",\n        \"std\": 4431.171056500164,\n        \"min\": 6.3564408443346405,\n        \"max\": 14090.0,\n        \"num_unique_values\": 8,\n        \"samples\": [\n          2007.5806955287437,\n          2013.0,\n          14090.0\n        ],\n        \"semantic_type\": \"\",\n        \"description\": \"\"\n      }\n    },\n    {\n      \"column\": \"runtime_in_minutes\",\n      \"properties\": {\n        \"dtype\": \"number\",\n        \"std\": 4905.439029095797,\n        \"min\": 1.0,\n        \"max\": 14090.0,\n        \"num_unique_values\": 8,\n        \"samples\": [\n          103.64684173172462,\n          112.0,\n          14090.0\n        ],\n        \"semantic_type\": \"\",\n        \"description\": \"\"\n      }\n    },\n    {\n      \"column\": \"tomatometer_status\",\n      \"properties\": {\n        \"dtype\": \"number\",\n        \"std\": 4981.290182685837,\n        \"min\": 0.0,\n        \"max\": 14090.0,\n        \"num_unique_values\": 6,\n        \"samples\": [\n          14090.0,\n          0.7292405961674947,\n          0.7576731658105087\n        ],\n        \"semantic_type\": \"\",\n        \"description\": \"\"\n      }\n    },\n    {\n      \"column\": \"tomatometer_rating\",\n      \"properties\": {\n        \"dtype\": \"number\",\n        \"std\": 4962.958408572628,\n        \"min\": 0.0,\n        \"max\": 14090.0,\n        \"num_unique_values\": 8,\n        \"samples\": [\n          58.90305180979418,\n          84.0,\n          14090.0\n        ],\n        \"semantic_type\": \"\",\n        \"description\": \"\"\n      }\n    },\n    {\n      \"column\": \"tomatometer_count\",\n      \"properties\": {\n        \"dtype\": \"number\",\n        \"std\": 4945.451266991126,\n        \"min\": 5.0,\n        \"max\": 14090.0,\n        \"num_unique_values\": 8,\n        \"samples\": [\n          61.854364797728884,\n          88.0,\n          14090.0\n        ],\n        \"semantic_type\": \"\",\n        \"description\": \"\"\n      }\n    },\n    {\n      \"column\": \"audience_rating\",\n      \"properties\": {\n        \"dtype\": \"number\",\n        \"std\": 4963.310195114259,\n        \"min\": 0.0,\n        \"max\": 14090.0,\n        \"num_unique_values\": 8,\n        \"samples\": [\n          60.07885024840312,\n          77.0,\n          14090.0\n        ],\n        \"semantic_type\": \"\",\n        \"description\": \"\"\n      }\n    },\n    {\n      \"column\": \"num_directors\",\n      \"properties\": {\n        \"dtype\": \"number\",\n        \"std\": 4980.176548861342,\n        \"min\": 0.5203859596047826,\n        \"max\": 14090.0,\n        \"num_unique_values\": 5,\n        \"samples\": [\n          1.122569198012775,\n          0.5203859596047826,\n          1.0\n        ],\n        \"semantic_type\": \"\",\n        \"description\": \"\"\n      }\n    },\n    {\n      \"column\": \"num_actors\",\n      \"properties\": {\n        \"dtype\": \"number\",\n        \"std\": 4961.001982049529,\n        \"min\": 1.0,\n        \"max\": 14090.0,\n        \"num_unique_values\": 8,\n        \"samples\": [\n          27.640667139815474,\n          38.0,\n          14090.0\n        ],\n        \"semantic_type\": \"\",\n        \"description\": \"\"\n      }\n    },\n    {\n      \"column\": \"original_release_date\",\n      \"properties\": {\n        \"dtype\": \"date\",\n        \"min\": \"1914-06-01 00:00:00\",\n        \"max\": \"2019-10-25 00:00:00\",\n        \"num_unique_values\": 7,\n        \"samples\": [\n          \"14090\",\n          \"1999-01-14 04:06:30.404542208\",\n          \"2013-02-15 00:00:00\"\n        ],\n        \"semantic_type\": \"\",\n        \"description\": \"\"\n      }\n    },\n    {\n      \"column\": \"original_release_year\",\n      \"properties\": {\n        \"dtype\": \"number\",\n        \"std\": 4431.567996421746,\n        \"min\": 19.73668617645037,\n        \"max\": 14090.0,\n        \"num_unique_values\": 8,\n        \"samples\": [\n          1998.5419446415897,\n          2013.0,\n          14090.0\n        ],\n        \"semantic_type\": \"\",\n        \"description\": \"\"\n      }\n    }\n  ]\n}"
            }
          },
          "metadata": {},
          "execution_count": 38
        }
      ]
    },
    {
      "cell_type": "code",
      "source": [
        "#Correlation\n",
        "corr = df_movies.select_dtypes('number').corr()\n",
        "plt.figure(figsize=(15, 10))\n",
        "sns.heatmap(corr, annot=True, cmap='binary')"
      ],
      "metadata": {
        "colab": {
          "base_uri": "https://localhost:8080/",
          "height": 885
        },
        "id": "euntlXwaMWR4",
        "outputId": "1d802644-4eb4-44a8-e6e3-42b406b81156"
      },
      "execution_count": 39,
      "outputs": [
        {
          "output_type": "execute_result",
          "data": {
            "text/plain": [
              "<Axes: >"
            ]
          },
          "metadata": {},
          "execution_count": 39
        },
        {
          "output_type": "display_data",
          "data": {
            "text/plain": [
              "<Figure size 1500x1000 with 2 Axes>"
            ],
            "image/png": "[encoded data removed]"
          },
          "metadata": {}
        }
      ]
    },
    {
      "cell_type": "code",
      "source": [
        "#Correlation with the target value 'tomatometer_status'\n",
        "df_movies.select_dtypes('number').corr()['tomatometer_status'].sort_values(ascending=False)"
      ],
      "metadata": {
        "colab": {
          "base_uri": "https://localhost:8080/",
          "height": 366
        },
        "id": "iJHUrQYzMWPG",
        "outputId": "55719f1a-e82b-4256-b715-521bf6e0976f"
      },
      "execution_count": 40,
      "outputs": [
        {
          "output_type": "execute_result",
          "data": {
            "text/plain": [
              "tomatometer_status       1.000000\n",
              "tomatometer_rating       0.813962\n",
              "audience_rating          0.590790\n",
              "tomatometer_count        0.290916\n",
              "runtime_in_minutes       0.126127\n",
              "on_streaming_date        0.030910\n",
              "num_directors            0.011629\n",
              "num_actors              -0.022036\n",
              "original_release_year   -0.083762\n",
              "Name: tomatometer_status, dtype: float64"
            ],
            "text/html": [
              "<div>\n",
              "<style scoped>\n",
              "    .dataframe tbody tr th:only-of-type {\n",
              "        vertical-align: middle;\n",
              "    }\n",
              "\n",
              "    .dataframe tbody tr th {\n",
              "        vertical-align: top;\n",
              "    }\n",
              "\n",
              "    .dataframe thead th {\n",
              "        text-align: right;\n",
              "    }\n",
              "</style>\n",
              "<table border=\"1\" class=\"dataframe\">\n",
              "  <thead>\n",
              "    <tr style=\"text-align: right;\">\n",
              "      <th></th>\n",
              "      <th>tomatometer_status</th>\n",
              "    </tr>\n",
              "  </thead>\n",
              "  <tbody>\n",
              "    <tr>\n",
              "      <th>tomatometer_status</th>\n",
              "      <td>1.000000</td>\n",
              "    </tr>\n",
              "    <tr>\n",
              "      <th>tomatometer_rating</th>\n",
              "      <td>0.813962</td>\n",
              "    </tr>\n",
              "    <tr>\n",
              "      <th>audience_rating</th>\n",
              "      <td>0.590790</td>\n",
              "    </tr>\n",
              "    <tr>\n",
              "      <th>tomatometer_count</th>\n",
              "      <td>0.290916</td>\n",
              "    </tr>\n",
              "    <tr>\n",
              "      <th>runtime_in_minutes</th>\n",
              "      <td>0.126127</td>\n",
              "    </tr>\n",
              "    <tr>\n",
              "      <th>on_streaming_date</th>\n",
              "      <td>0.030910</td>\n",
              "    </tr>\n",
              "    <tr>\n",
              "      <th>num_directors</th>\n",
              "      <td>0.011629</td>\n",
              "    </tr>\n",
              "    <tr>\n",
              "      <th>num_actors</th>\n",
              "      <td>-0.022036</td>\n",
              "    </tr>\n",
              "    <tr>\n",
              "      <th>original_release_year</th>\n",
              "      <td>-0.083762</td>\n",
              "    </tr>\n",
              "  </tbody>\n",
              "</table>\n",
              "</div><br><label><b>dtype:</b> float64</label>"
            ]
          },
          "metadata": {},
          "execution_count": 40
        }
      ]
    },
    {
      "cell_type": "code",
      "source": [
        "#Columns with high correlation\n",
        "#Checking for OUTLIERS\n",
        "box_col = ['tomatometer_rating', 'tomatometer_count', 'audience_rating']\n",
        "fig, ax = plt.subplots(2, 2, figsize=(10, 20))\n",
        "ax = ax.flatten()\n",
        "for index, value in enumerate(box_col):\n",
        "    sns.boxplot(data=df_movies, x=value, ax=ax[index])"
      ],
      "metadata": {
        "colab": {
          "base_uri": "https://localhost:8080/",
          "height": 1000
        },
        "id": "rU14UxObMWMX",
        "outputId": "b49101fc-5feb-48d8-9b1e-981011e729c8"
      },
      "execution_count": 44,
      "outputs": [
        {
          "output_type": "display_data",
          "data": {
            "text/plain": [
              "<Figure size 1000x2000 with 4 Axes>"
            ],
            "image/png": "[encoded data removed]"
          },
          "metadata": {}
        }
      ]
    },
    {
      "cell_type": "code",
      "source": [
        "#Removing Outliers\n",
        "mask1 = df_movies['tomatometer_count'] < iqr(df_movies['tomatometer_count']) * 1.5 + np.percentile(df_movies['tomatometer_count'], 75)"
      ],
      "metadata": {
        "id": "bny3t3dAVn4J"
      },
      "execution_count": 45,
      "outputs": []
    },
    {
      "cell_type": "code",
      "source": [
        "df_movies = df_movies[mask1]"
      ],
      "metadata": {
        "id": "zZnKs5YfVn17"
      },
      "execution_count": 46,
      "outputs": []
    },
    {
      "cell_type": "code",
      "source": [
        "df_movies.shape"
      ],
      "metadata": {
        "colab": {
          "base_uri": "https://localhost:8080/"
        },
        "id": "MwylTf-qVnzl",
        "outputId": "7f2d7f50-c053-43eb-f0a1-8f1cb7695d93"
      },
      "execution_count": 47,
      "outputs": [
        {
          "output_type": "execute_result",
          "data": {
            "text/plain": [
              "(15382, 16)"
            ]
          },
          "metadata": {},
          "execution_count": 47
        }
      ]
    },
    {
      "cell_type": "code",
      "source": [
        "hist_col = df_movies.select_dtypes(include=['int64','float64','datetime64']).columns\n",
        "hist_col.shape"
      ],
      "metadata": {
        "id": "ZL3RE16Ze8dG",
        "colab": {
          "base_uri": "https://localhost:8080/"
        },
        "outputId": "464222ad-c7da-4503-b2f0-c88c48e15e4f"
      },
      "execution_count": 77,
      "outputs": [
        {
          "output_type": "execute_result",
          "data": {
            "text/plain": [
              "(6,)"
            ]
          },
          "metadata": {},
          "execution_count": 77
        }
      ]
    },
    {
      "cell_type": "code",
      "source": [
        "df_movies.dtypes"
      ],
      "metadata": {
        "colab": {
          "base_uri": "https://localhost:8080/",
          "height": 554
        },
        "id": "ciTwcCrMaONq",
        "outputId": "fc8363a5-4074-4d05-9ab8-63dafee21dfe"
      },
      "execution_count": 78,
      "outputs": [
        {
          "output_type": "execute_result",
          "data": {
            "text/plain": [
              "movie_title                   object\n",
              "movie_info                    object\n",
              "critics_consensus             object\n",
              "rating                        object\n",
              "genre                         object\n",
              "directors                     object\n",
              "writers                       object\n",
              "cast                          object\n",
              "in_theaters_date      datetime64[ns]\n",
              "on_streaming_date     datetime64[ns]\n",
              "runtime_in_minutes           float64\n",
              "studio_name                   object\n",
              "tomatometer_rating             int64\n",
              "tomatometer_count              int64\n",
              "audience_rating              float64\n",
              "dtype: object"
            ],
            "text/html": [
              "<div>\n",
              "<style scoped>\n",
              "    .dataframe tbody tr th:only-of-type {\n",
              "        vertical-align: middle;\n",
              "    }\n",
              "\n",
              "    .dataframe tbody tr th {\n",
              "        vertical-align: top;\n",
              "    }\n",
              "\n",
              "    .dataframe thead th {\n",
              "        text-align: right;\n",
              "    }\n",
              "</style>\n",
              "<table border=\"1\" class=\"dataframe\">\n",
              "  <thead>\n",
              "    <tr style=\"text-align: right;\">\n",
              "      <th></th>\n",
              "      <th>0</th>\n",
              "    </tr>\n",
              "  </thead>\n",
              "  <tbody>\n",
              "    <tr>\n",
              "      <th>movie_title</th>\n",
              "      <td>object</td>\n",
              "    </tr>\n",
              "    <tr>\n",
              "      <th>movie_info</th>\n",
              "      <td>object</td>\n",
              "    </tr>\n",
              "    <tr>\n",
              "      <th>critics_consensus</th>\n",
              "      <td>object</td>\n",
              "    </tr>\n",
              "    <tr>\n",
              "      <th>rating</th>\n",
              "      <td>object</td>\n",
              "    </tr>\n",
              "    <tr>\n",
              "      <th>genre</th>\n",
              "      <td>object</td>\n",
              "    </tr>\n",
              "    <tr>\n",
              "      <th>directors</th>\n",
              "      <td>object</td>\n",
              "    </tr>\n",
              "    <tr>\n",
              "      <th>writers</th>\n",
              "      <td>object</td>\n",
              "    </tr>\n",
              "    <tr>\n",
              "      <th>cast</th>\n",
              "      <td>object</td>\n",
              "    </tr>\n",
              "    <tr>\n",
              "      <th>in_theaters_date</th>\n",
              "      <td>datetime64[ns]</td>\n",
              "    </tr>\n",
              "    <tr>\n",
              "      <th>on_streaming_date</th>\n",
              "      <td>datetime64[ns]</td>\n",
              "    </tr>\n",
              "    <tr>\n",
              "      <th>runtime_in_minutes</th>\n",
              "      <td>float64</td>\n",
              "    </tr>\n",
              "    <tr>\n",
              "      <th>studio_name</th>\n",
              "      <td>object</td>\n",
              "    </tr>\n",
              "    <tr>\n",
              "      <th>tomatometer_rating</th>\n",
              "      <td>int64</td>\n",
              "    </tr>\n",
              "    <tr>\n",
              "      <th>tomatometer_count</th>\n",
              "      <td>int64</td>\n",
              "    </tr>\n",
              "    <tr>\n",
              "      <th>audience_rating</th>\n",
              "      <td>float64</td>\n",
              "    </tr>\n",
              "  </tbody>\n",
              "</table>\n",
              "</div><br><label><b>dtype:</b> object</label>"
            ]
          },
          "metadata": {},
          "execution_count": 78
        }
      ]
    },
    {
      "cell_type": "code",
      "source": [
        "fig, ax = plt.subplots(3, 2, figsize=(10, 20))\n",
        "ax = ax.flatten()\n",
        "for index, value in enumerate(hist_col):\n",
        "    sns.histplot(data=df_movies, x=value, ax=ax[index])"
      ],
      "metadata": {
        "id": "DccN334re8av",
        "colab": {
          "base_uri": "https://localhost:8080/",
          "height": 1000
        },
        "outputId": "d008f355-8153-4385-a6b3-b061c7b89a26"
      },
      "execution_count": 80,
      "outputs": [
        {
          "output_type": "display_data",
          "data": {
            "text/plain": [
              "<Figure size 1000x2000 with 6 Axes>"
            ],
            "image/png": "[encoded data removed]"
          },
          "metadata": {}
        }
      ]
    },
    {
      "cell_type": "code",
      "source": [
        "#Encoding content_rating column\n",
        "content_rating = pd.get_dummies(df_movies['rating']).astype(int)\n",
        "content_rating"
      ],
      "metadata": {
        "id": "6CEC_0TLe4Iu",
        "colab": {
          "base_uri": "https://localhost:8080/",
          "height": 423
        },
        "outputId": "17263b33-a9a3-4ceb-e4bc-3ab584ee9782"
      },
      "execution_count": 87,
      "outputs": [
        {
          "output_type": "execute_result",
          "data": {
            "text/plain": [
              "       G  NC17  NR  PG  PG-13  PG-13)  R  R)\n",
              "0      0     0   0   1      0       0  0   0\n",
              "1      0     0   0   0      0       0  1   0\n",
              "2      0     0   0   0      0       0  1   0\n",
              "3      0     0   1   0      0       0  0   0\n",
              "4      1     0   0   0      0       0  0   0\n",
              "...   ..   ...  ..  ..    ...     ... ..  ..\n",
              "16632  0     0   0   1      0       0  0   0\n",
              "16633  0     0   0   0      0       0  1   0\n",
              "16635  0     0   1   0      0       0  0   0\n",
              "16636  0     0   0   1      0       0  0   0\n",
              "16637  0     0   0   1      0       0  0   0\n",
              "\n",
              "[15382 rows x 8 columns]"
            ],
            "text/html": [
              "\n",
              "  <div id=\"df-b45a7e45-ce84-4250-bda3-c05578b375f1\" class=\"colab-df-container\">\n",
              "    <div>\n",
              "<style scoped>\n",
              "    .dataframe tbody tr th:only-of-type {\n",
              "        vertical-align: middle;\n",
              "    }\n",
              "\n",
              "    .dataframe tbody tr th {\n",
              "        vertical-align: top;\n",
              "    }\n",
              "\n",
              "    .dataframe thead th {\n",
              "        text-align: right;\n",
              "    }\n",
              "</style>\n",
              "<table border=\"1\" class=\"dataframe\">\n",
              "  <thead>\n",
              "    <tr style=\"text-align: right;\">\n",
              "      <th></th>\n",
              "      <th>G</th>\n",
              "      <th>NC17</th>\n",
              "      <th>NR</th>\n",
              "      <th>PG</th>\n",
              "      <th>PG-13</th>\n",
              "      <th>PG-13)</th>\n",
              "      <th>R</th>\n",
              "      <th>R)</th>\n",
              "    </tr>\n",
              "  </thead>\n",
              "  <tbody>\n",
              "    <tr>\n",
              "      <th>0</th>\n",
              "      <td>0</td>\n",
              "      <td>0</td>\n",
              "      <td>0</td>\n",
              "      <td>1</td>\n",
              "      <td>0</td>\n",
              "      <td>0</td>\n",
              "      <td>0</td>\n",
              "      <td>0</td>\n",
              "    </tr>\n",
              "    <tr>\n",
              "      <th>1</th>\n",
              "      <td>0</td>\n",
              "      <td>0</td>\n",
              "      <td>0</td>\n",
              "      <td>0</td>\n",
              "      <td>0</td>\n",
              "      <td>0</td>\n",
              "      <td>1</td>\n",
              "      <td>0</td>\n",
              "    </tr>\n",
              "    <tr>\n",
              "      <th>2</th>\n",
              "      <td>0</td>\n",
              "      <td>0</td>\n",
              "      <td>0</td>\n",
              "      <td>0</td>\n",
              "      <td>0</td>\n",
              "      <td>0</td>\n",
              "      <td>1</td>\n",
              "      <td>0</td>\n",
              "    </tr>\n",
              "    <tr>\n",
              "      <th>3</th>\n",
              "      <td>0</td>\n",
              "      <td>0</td>\n",
              "      <td>1</td>\n",
              "      <td>0</td>\n",
              "      <td>0</td>\n",
              "      <td>0</td>\n",
              "      <td>0</td>\n",
              "      <td>0</td>\n",
              "    </tr>\n",
              "    <tr>\n",
              "      <th>4</th>\n",
              "      <td>1</td>\n",
              "      <td>0</td>\n",
              "      <td>0</td>\n",
              "      <td>0</td>\n",
              "      <td>0</td>\n",
              "      <td>0</td>\n",
              "      <td>0</td>\n",
              "      <td>0</td>\n",
              "    </tr>\n",
              "    <tr>\n",
              "      <th>...</th>\n",
              "      <td>...</td>\n",
              "      <td>...</td>\n",
              "      <td>...</td>\n",
              "      <td>...</td>\n",
              "      <td>...</td>\n",
              "      <td>...</td>\n",
              "      <td>...</td>\n",
              "      <td>...</td>\n",
              "    </tr>\n",
              "    <tr>\n",
              "      <th>16632</th>\n",
              "      <td>0</td>\n",
              "      <td>0</td>\n",
              "      <td>0</td>\n",
              "      <td>1</td>\n",
              "      <td>0</td>\n",
              "      <td>0</td>\n",
              "      <td>0</td>\n",
              "      <td>0</td>\n",
              "    </tr>\n",
              "    <tr>\n",
              "      <th>16633</th>\n",
              "      <td>0</td>\n",
              "      <td>0</td>\n",
              "      <td>0</td>\n",
              "      <td>0</td>\n",
              "      <td>0</td>\n",
              "      <td>0</td>\n",
              "      <td>1</td>\n",
              "      <td>0</td>\n",
              "    </tr>\n",
              "    <tr>\n",
              "      <th>16635</th>\n",
              "      <td>0</td>\n",
              "      <td>0</td>\n",
              "      <td>1</td>\n",
              "      <td>0</td>\n",
              "      <td>0</td>\n",
              "      <td>0</td>\n",
              "      <td>0</td>\n",
              "      <td>0</td>\n",
              "    </tr>\n",
              "    <tr>\n",
              "      <th>16636</th>\n",
              "      <td>0</td>\n",
              "      <td>0</td>\n",
              "      <td>0</td>\n",
              "      <td>1</td>\n",
              "      <td>0</td>\n",
              "      <td>0</td>\n",
              "      <td>0</td>\n",
              "      <td>0</td>\n",
              "    </tr>\n",
              "    <tr>\n",
              "      <th>16637</th>\n",
              "      <td>0</td>\n",
              "      <td>0</td>\n",
              "      <td>0</td>\n",
              "      <td>1</td>\n",
              "      <td>0</td>\n",
              "      <td>0</td>\n",
              "      <td>0</td>\n",
              "      <td>0</td>\n",
              "    </tr>\n",
              "  </tbody>\n",
              "</table>\n",
              "<p>15382 rows × 8 columns</p>\n",
              "</div>\n",
              "    <div class=\"colab-df-buttons\">\n",
              "\n",
              "  <div class=\"colab-df-container\">\n",
              "    <button class=\"colab-df-convert\" onclick=\"convertToInteractive('df-b45a7e45-ce84-4250-bda3-c05578b375f1')\"\n",
              "            title=\"Convert this dataframe to an interactive table.\"\n",
              "            style=\"display:none;\">\n",
              "\n",
              "  <svg xmlns=\"http://www.w3.org/2000/svg\" height=\"24px\" viewBox=\"0 -960 960 960\">\n",
              "    <path d=\"M120-120v-720h720v720H120Zm60-500h600v-160H180v160Zm220 220h160v-160H400v160Zm0 220h160v-160H400v160ZM180-400h160v-160H180v160Zm440 0h160v-160H620v160ZM180-180h160v-160H180v160Zm440 0h160v-160H620v160Z\"/>\n",
              "  </svg>\n",
              "    </button>\n",
              "\n",
              "  <style>\n",
              "    .colab-df-container {\n",
              "      display:flex;\n",
              "      gap: 12px;\n",
              "    }\n",
              "\n",
              "    .colab-df-convert {\n",
              "      background-color: #E8F0FE;\n",
              "      border: none;\n",
              "      border-radius: 50%;\n",
              "      cursor: pointer;\n",
              "      display: none;\n",
              "      fill: #1967D2;\n",
              "      height: 32px;\n",
              "      padding: 0 0 0 0;\n",
              "      width: 32px;\n",
              "    }\n",
              "\n",
              "    .colab-df-convert:hover {\n",
              "      background-color: #E2EBFA;\n",
              "      box-shadow: 0px 1px 2px rgba(60, 64, 67, 0.3), 0px 1px 3px 1px rgba(60, 64, 67, 0.15);\n",
              "      fill: #174EA6;\n",
              "    }\n",
              "\n",
              "    .colab-df-buttons div {\n",
              "      margin-bottom: 4px;\n",
              "    }\n",
              "\n",
              "    [theme=dark] .colab-df-convert {\n",
              "      background-color: #3B4455;\n",
              "      fill: #D2E3FC;\n",
              "    }\n",
              "\n",
              "    [theme=dark] .colab-df-convert:hover {\n",
              "      background-color: #434B5C;\n",
              "      box-shadow: 0px 1px 3px 1px rgba(0, 0, 0, 0.15);\n",
              "      filter: drop-shadow(0px 1px 2px rgba(0, 0, 0, 0.3));\n",
              "      fill: #FFFFFF;\n",
              "    }\n",
              "  </style>\n",
              "\n",
              "    <script>\n",
              "      const buttonEl =\n",
              "        document.querySelector('#df-b45a7e45-ce84-4250-bda3-c05578b375f1 button.colab-df-convert');\n",
              "      buttonEl.style.display =\n",
              "        google.colab.kernel.accessAllowed ? 'block' : 'none';\n",
              "\n",
              "      async function convertToInteractive(key) {\n",
              "        const element = document.querySelector('#df-b45a7e45-ce84-4250-bda3-c05578b375f1');\n",
              "        const dataTable =\n",
              "          await google.colab.kernel.invokeFunction('convertToInteractive',\n",
              "                                                    [key], {});\n",
              "        if (!dataTable) return;\n",
              "\n",
              "        const docLinkHtml = 'Like what you see? Visit the ' +\n",
              "          '<a target=\"_blank\" href=https://colab.research.google.com/notebooks/data_table.ipynb>data table notebook</a>'\n",
              "          + ' to learn more about interactive tables.';\n",
              "        element.innerHTML = '';\n",
              "        dataTable['output_type'] = 'display_data';\n",
              "        await google.colab.output.renderOutput(dataTable, element);\n",
              "        const docLink = document.createElement('div');\n",
              "        docLink.innerHTML = docLinkHtml;\n",
              "        element.appendChild(docLink);\n",
              "      }\n",
              "    </script>\n",
              "  </div>\n",
              "\n",
              "\n",
              "<div id=\"df-ff267e79-6fc9-4b8d-b961-a61280afe415\">\n",
              "  <button class=\"colab-df-quickchart\" onclick=\"quickchart('df-ff267e79-6fc9-4b8d-b961-a61280afe415')\"\n",
              "            title=\"Suggest charts\"\n",
              "            style=\"display:none;\">\n",
              "\n",
              "<svg xmlns=\"http://www.w3.org/2000/svg\" height=\"24px\"viewBox=\"0 0 24 24\"\n",
              "     width=\"24px\">\n",
              "    <g>\n",
              "        <path d=\"M19 3H5c-1.1 0-2 .9-2 2v14c0 1.1.9 2 2 2h14c1.1 0 2-.9 2-2V5c0-1.1-.9-2-2-2zM9 17H7v-7h2v7zm4 0h-2V7h2v10zm4 0h-2v-4h2v4z\"/>\n",
              "    </g>\n",
              "</svg>\n",
              "  </button>\n",
              "\n",
              "<style>\n",
              "  .colab-df-quickchart {\n",
              "      --bg-color: #E8F0FE;\n",
              "      --fill-color: #1967D2;\n",
              "      --hover-bg-color: #E2EBFA;\n",
              "      --hover-fill-color: #174EA6;\n",
              "      --disabled-fill-color: #AAA;\n",
              "      --disabled-bg-color: #DDD;\n",
              "  }\n",
              "\n",
              "  [theme=dark] .colab-df-quickchart {\n",
              "      --bg-color: #3B4455;\n",
              "      --fill-color: #D2E3FC;\n",
              "      --hover-bg-color: #434B5C;\n",
              "      --hover-fill-color: #FFFFFF;\n",
              "      --disabled-bg-color: #3B4455;\n",
              "      --disabled-fill-color: #666;\n",
              "  }\n",
              "\n",
              "  .colab-df-quickchart {\n",
              "    background-color: var(--bg-color);\n",
              "    border: none;\n",
              "    border-radius: 50%;\n",
              "    cursor: pointer;\n",
              "    display: none;\n",
              "    fill: var(--fill-color);\n",
              "    height: 32px;\n",
              "    padding: 0;\n",
              "    width: 32px;\n",
              "  }\n",
              "\n",
              "  .colab-df-quickchart:hover {\n",
              "    background-color: var(--hover-bg-color);\n",
              "    box-shadow: 0 1px 2px rgba(60, 64, 67, 0.3), 0 1px 3px 1px rgba(60, 64, 67, 0.15);\n",
              "    fill: var(--button-hover-fill-color);\n",
              "  }\n",
              "\n",
              "  .colab-df-quickchart-complete:disabled,\n",
              "  .colab-df-quickchart-complete:disabled:hover {\n",
              "    background-color: var(--disabled-bg-color);\n",
              "    fill: var(--disabled-fill-color);\n",
              "    box-shadow: none;\n",
              "  }\n",
              "\n",
              "  .colab-df-spinner {\n",
              "    border: 2px solid var(--fill-color);\n",
              "    border-color: transparent;\n",
              "    border-bottom-color: var(--fill-color);\n",
              "    animation:\n",
              "      spin 1s steps(1) infinite;\n",
              "  }\n",
              "\n",
              "  @keyframes spin {\n",
              "    0% {\n",
              "      border-color: transparent;\n",
              "      border-bottom-color: var(--fill-color);\n",
              "      border-left-color: var(--fill-color);\n",
              "    }\n",
              "    20% {\n",
              "      border-color: transparent;\n",
              "      border-left-color: var(--fill-color);\n",
              "      border-top-color: var(--fill-color);\n",
              "    }\n",
              "    30% {\n",
              "      border-color: transparent;\n",
              "      border-left-color: var(--fill-color);\n",
              "      border-top-color: var(--fill-color);\n",
              "      border-right-color: var(--fill-color);\n",
              "    }\n",
              "    40% {\n",
              "      border-color: transparent;\n",
              "      border-right-color: var(--fill-color);\n",
              "      border-top-color: var(--fill-color);\n",
              "    }\n",
              "    60% {\n",
              "      border-color: transparent;\n",
              "      border-right-color: var(--fill-color);\n",
              "    }\n",
              "    80% {\n",
              "      border-color: transparent;\n",
              "      border-right-color: var(--fill-color);\n",
              "      border-bottom-color: var(--fill-color);\n",
              "    }\n",
              "    90% {\n",
              "      border-color: transparent;\n",
              "      border-bottom-color: var(--fill-color);\n",
              "    }\n",
              "  }\n",
              "</style>\n",
              "\n",
              "  <script>\n",
              "    async function quickchart(key) {\n",
              "      const quickchartButtonEl =\n",
              "        document.querySelector('#' + key + ' button');\n",
              "      quickchartButtonEl.disabled = true;  // To prevent multiple clicks.\n",
              "      quickchartButtonEl.classList.add('colab-df-spinner');\n",
              "      try {\n",
              "        const charts = await google.colab.kernel.invokeFunction(\n",
              "            'suggestCharts', [key], {});\n",
              "      } catch (error) {\n",
              "        console.error('Error during call to suggestCharts:', error);\n",
              "      }\n",
              "      quickchartButtonEl.classList.remove('colab-df-spinner');\n",
              "      quickchartButtonEl.classList.add('colab-df-quickchart-complete');\n",
              "    }\n",
              "    (() => {\n",
              "      let quickchartButtonEl =\n",
              "        document.querySelector('#df-ff267e79-6fc9-4b8d-b961-a61280afe415 button');\n",
              "      quickchartButtonEl.style.display =\n",
              "        google.colab.kernel.accessAllowed ? 'block' : 'none';\n",
              "    })();\n",
              "  </script>\n",
              "</div>\n",
              "\n",
              "  <div id=\"id_4acc30c0-90b4-4121-a121-8a1ed27eb5ba\">\n",
              "    <style>\n",
              "      .colab-df-generate {\n",
              "        background-color: #E8F0FE;\n",
              "        border: none;\n",
              "        border-radius: 50%;\n",
              "        cursor: pointer;\n",
              "        display: none;\n",
              "        fill: #1967D2;\n",
              "        height: 32px;\n",
              "        padding: 0 0 0 0;\n",
              "        width: 32px;\n",
              "      }\n",
              "\n",
              "      .colab-df-generate:hover {\n",
              "        background-color: #E2EBFA;\n",
              "        box-shadow: 0px 1px 2px rgba(60, 64, 67, 0.3), 0px 1px 3px 1px rgba(60, 64, 67, 0.15);\n",
              "        fill: #174EA6;\n",
              "      }\n",
              "\n",
              "      [theme=dark] .colab-df-generate {\n",
              "        background-color: #3B4455;\n",
              "        fill: #D2E3FC;\n",
              "      }\n",
              "\n",
              "      [theme=dark] .colab-df-generate:hover {\n",
              "        background-color: #434B5C;\n",
              "        box-shadow: 0px 1px 3px 1px rgba(0, 0, 0, 0.15);\n",
              "        filter: drop-shadow(0px 1px 2px rgba(0, 0, 0, 0.3));\n",
              "        fill: #FFFFFF;\n",
              "      }\n",
              "    </style>\n",
              "    <button class=\"colab-df-generate\" onclick=\"generateWithVariable('content_rating')\"\n",
              "            title=\"Generate code using this dataframe.\"\n",
              "            style=\"display:none;\">\n",
              "\n",
              "  <svg xmlns=\"http://www.w3.org/2000/svg\" height=\"24px\"viewBox=\"0 0 24 24\"\n",
              "       width=\"24px\">\n",
              "    <path d=\"M7,19H8.4L18.45,9,17,7.55,7,17.6ZM5,21V16.75L18.45,3.32a2,2,0,0,1,2.83,0l1.4,1.43a1.91,1.91,0,0,1,.58,1.4,1.91,1.91,0,0,1-.58,1.4L9.25,21ZM18.45,9,17,7.55Zm-12,3A5.31,5.31,0,0,0,4.9,8.1,5.31,5.31,0,0,0,1,6.5,5.31,5.31,0,0,0,4.9,4.9,5.31,5.31,0,0,0,6.5,1,5.31,5.31,0,0,0,8.1,4.9,5.31,5.31,0,0,0,12,6.5,5.46,5.46,0,0,0,6.5,12Z\"/>\n",
              "  </svg>\n",
              "    </button>\n",
              "    <script>\n",
              "      (() => {\n",
              "      const buttonEl =\n",
              "        document.querySelector('#id_4acc30c0-90b4-4121-a121-8a1ed27eb5ba button.colab-df-generate');\n",
              "      buttonEl.style.display =\n",
              "        google.colab.kernel.accessAllowed ? 'block' : 'none';\n",
              "\n",
              "      buttonEl.onclick = () => {\n",
              "        google.colab.notebook.generateWithVariable('content_rating');\n",
              "      }\n",
              "      })();\n",
              "    </script>\n",
              "  </div>\n",
              "\n",
              "    </div>\n",
              "  </div>\n"
            ],
            "application/vnd.google.colaboratory.intrinsic+json": {
              "type": "dataframe",
              "variable_name": "content_rating",
              "summary": "{\n  \"name\": \"content_rating\",\n  \"rows\": 15382,\n  \"fields\": [\n    {\n      \"column\": \"G\",\n      \"properties\": {\n        \"dtype\": \"number\",\n        \"std\": 0,\n        \"min\": 0,\n        \"max\": 1,\n        \"num_unique_values\": 2,\n        \"samples\": [\n          1,\n          0\n        ],\n        \"semantic_type\": \"\",\n        \"description\": \"\"\n      }\n    },\n    {\n      \"column\": \"NC17\",\n      \"properties\": {\n        \"dtype\": \"number\",\n        \"std\": 0,\n        \"min\": 0,\n        \"max\": 1,\n        \"num_unique_values\": 2,\n        \"samples\": [\n          1,\n          0\n        ],\n        \"semantic_type\": \"\",\n        \"description\": \"\"\n      }\n    },\n    {\n      \"column\": \"NR\",\n      \"properties\": {\n        \"dtype\": \"number\",\n        \"std\": 0,\n        \"min\": 0,\n        \"max\": 1,\n        \"num_unique_values\": 2,\n        \"samples\": [\n          1,\n          0\n        ],\n        \"semantic_type\": \"\",\n        \"description\": \"\"\n      }\n    },\n    {\n      \"column\": \"PG\",\n      \"properties\": {\n        \"dtype\": \"number\",\n        \"std\": 0,\n        \"min\": 0,\n        \"max\": 1,\n        \"num_unique_values\": 2,\n        \"samples\": [\n          0,\n          1\n        ],\n        \"semantic_type\": \"\",\n        \"description\": \"\"\n      }\n    },\n    {\n      \"column\": \"PG-13\",\n      \"properties\": {\n        \"dtype\": \"number\",\n        \"std\": 0,\n        \"min\": 0,\n        \"max\": 1,\n        \"num_unique_values\": 2,\n        \"samples\": [\n          1,\n          0\n        ],\n        \"semantic_type\": \"\",\n        \"description\": \"\"\n      }\n    },\n    {\n      \"column\": \"PG-13)\",\n      \"properties\": {\n        \"dtype\": \"number\",\n        \"std\": 0,\n        \"min\": 0,\n        \"max\": 1,\n        \"num_unique_values\": 2,\n        \"samples\": [\n          1,\n          0\n        ],\n        \"semantic_type\": \"\",\n        \"description\": \"\"\n      }\n    },\n    {\n      \"column\": \"R\",\n      \"properties\": {\n        \"dtype\": \"number\",\n        \"std\": 0,\n        \"min\": 0,\n        \"max\": 1,\n        \"num_unique_values\": 2,\n        \"samples\": [\n          1,\n          0\n        ],\n        \"semantic_type\": \"\",\n        \"description\": \"\"\n      }\n    },\n    {\n      \"column\": \"R)\",\n      \"properties\": {\n        \"dtype\": \"number\",\n        \"std\": 0,\n        \"min\": 0,\n        \"max\": 1,\n        \"num_unique_values\": 2,\n        \"samples\": [\n          1,\n          0\n        ],\n        \"semantic_type\": \"\",\n        \"description\": \"\"\n      }\n    }\n  ]\n}"
            }
          },
          "metadata": {},
          "execution_count": 87
        }
      ]
    },
    {
      "cell_type": "code",
      "source": [
        "df_feature = pd.concat([df_movies[['runtime_in_minutes', 'tomatometer_rating', 'tomatometer_count', 'audience_rating' ]], content_rating], axis=1)"
      ],
      "metadata": {
        "id": "AjhHAoLMbxEN"
      },
      "execution_count": 90,
      "outputs": []
    },
    {
      "cell_type": "code",
      "source": [
        "df_feature.head()"
      ],
      "metadata": {
        "id": "F9rF2dJzbxCN",
        "colab": {
          "base_uri": "https://localhost:8080/",
          "height": 206
        },
        "outputId": "46ed619d-a848-42e1-fff5-8d5e49ae25d9"
      },
      "execution_count": 91,
      "outputs": [
        {
          "output_type": "execute_result",
          "data": {
            "text/plain": [
              "   runtime_in_minutes  tomatometer_rating  tomatometer_count  audience_rating  \\\n",
              "0                83.0                  49                144             53.0   \n",
              "1                90.0                  86                140             64.0   \n",
              "2               118.0                  68                 22             53.0   \n",
              "3                95.0                 100                 51             97.0   \n",
              "4               127.0                  89                 27             74.0   \n",
              "\n",
              "   G  NC17  NR  PG  PG-13  PG-13)  R  R)  \n",
              "0  0     0   0   1      0       0  0   0  \n",
              "1  0     0   0   0      0       0  1   0  \n",
              "2  0     0   0   0      0       0  1   0  \n",
              "3  0     0   1   0      0       0  0   0  \n",
              "4  1     0   0   0      0       0  0   0  "
            ],
            "text/html": [
              "\n",
              "  <div id=\"df-9da088d3-52ec-42f1-abcd-a9644fabb693\" class=\"colab-df-container\">\n",
              "    <div>\n",
              "<style scoped>\n",
              "    .dataframe tbody tr th:only-of-type {\n",
              "        vertical-align: middle;\n",
              "    }\n",
              "\n",
              "    .dataframe tbody tr th {\n",
              "        vertical-align: top;\n",
              "    }\n",
              "\n",
              "    .dataframe thead th {\n",
              "        text-align: right;\n",
              "    }\n",
              "</style>\n",
              "<table border=\"1\" class=\"dataframe\">\n",
              "  <thead>\n",
              "    <tr style=\"text-align: right;\">\n",
              "      <th></th>\n",
              "      <th>runtime_in_minutes</th>\n",
              "      <th>tomatometer_rating</th>\n",
              "      <th>tomatometer_count</th>\n",
              "      <th>audience_rating</th>\n",
              "      <th>G</th>\n",
              "      <th>NC17</th>\n",
              "      <th>NR</th>\n",
              "      <th>PG</th>\n",
              "      <th>PG-13</th>\n",
              "      <th>PG-13)</th>\n",
              "      <th>R</th>\n",
              "      <th>R)</th>\n",
              "    </tr>\n",
              "  </thead>\n",
              "  <tbody>\n",
              "    <tr>\n",
              "      <th>0</th>\n",
              "      <td>83.0</td>\n",
              "      <td>49</td>\n",
              "      <td>144</td>\n",
              "      <td>53.0</td>\n",
              "      <td>0</td>\n",
              "      <td>0</td>\n",
              "      <td>0</td>\n",
              "      <td>1</td>\n",
              "      <td>0</td>\n",
              "      <td>0</td>\n",
              "      <td>0</td>\n",
              "      <td>0</td>\n",
              "    </tr>\n",
              "    <tr>\n",
              "      <th>1</th>\n",
              "      <td>90.0</td>\n",
              "      <td>86</td>\n",
              "      <td>140</td>\n",
              "      <td>64.0</td>\n",
              "      <td>0</td>\n",
              "      <td>0</td>\n",
              "      <td>0</td>\n",
              "      <td>0</td>\n",
              "      <td>0</td>\n",
              "      <td>0</td>\n",
              "      <td>1</td>\n",
              "      <td>0</td>\n",
              "    </tr>\n",
              "    <tr>\n",
              "      <th>2</th>\n",
              "      <td>118.0</td>\n",
              "      <td>68</td>\n",
              "      <td>22</td>\n",
              "      <td>53.0</td>\n",
              "      <td>0</td>\n",
              "      <td>0</td>\n",
              "      <td>0</td>\n",
              "      <td>0</td>\n",
              "      <td>0</td>\n",
              "      <td>0</td>\n",
              "      <td>1</td>\n",
              "      <td>0</td>\n",
              "    </tr>\n",
              "    <tr>\n",
              "      <th>3</th>\n",
              "      <td>95.0</td>\n",
              "      <td>100</td>\n",
              "      <td>51</td>\n",
              "      <td>97.0</td>\n",
              "      <td>0</td>\n",
              "      <td>0</td>\n",
              "      <td>1</td>\n",
              "      <td>0</td>\n",
              "      <td>0</td>\n",
              "      <td>0</td>\n",
              "      <td>0</td>\n",
              "      <td>0</td>\n",
              "    </tr>\n",
              "    <tr>\n",
              "      <th>4</th>\n",
              "      <td>127.0</td>\n",
              "      <td>89</td>\n",
              "      <td>27</td>\n",
              "      <td>74.0</td>\n",
              "      <td>1</td>\n",
              "      <td>0</td>\n",
              "      <td>0</td>\n",
              "      <td>0</td>\n",
              "      <td>0</td>\n",
              "      <td>0</td>\n",
              "      <td>0</td>\n",
              "      <td>0</td>\n",
              "    </tr>\n",
              "  </tbody>\n",
              "</table>\n",
              "</div>\n",
              "    <div class=\"colab-df-buttons\">\n",
              "\n",
              "  <div class=\"colab-df-container\">\n",
              "    <button class=\"colab-df-convert\" onclick=\"convertToInteractive('df-9da088d3-52ec-42f1-abcd-a9644fabb693')\"\n",
              "            title=\"Convert this dataframe to an interactive table.\"\n",
              "            style=\"display:none;\">\n",
              "\n",
              "  <svg xmlns=\"http://www.w3.org/2000/svg\" height=\"24px\" viewBox=\"0 -960 960 960\">\n",
              "    <path d=\"M120-120v-720h720v720H120Zm60-500h600v-160H180v160Zm220 220h160v-160H400v160Zm0 220h160v-160H400v160ZM180-400h160v-160H180v160Zm440 0h160v-160H620v160ZM180-180h160v-160H180v160Zm440 0h160v-160H620v160Z\"/>\n",
              "  </svg>\n",
              "    </button>\n",
              "\n",
              "  <style>\n",
              "    .colab-df-container {\n",
              "      display:flex;\n",
              "      gap: 12px;\n",
              "    }\n",
              "\n",
              "    .colab-df-convert {\n",
              "      background-color: #E8F0FE;\n",
              "      border: none;\n",
              "      border-radius: 50%;\n",
              "      cursor: pointer;\n",
              "      display: none;\n",
              "      fill: #1967D2;\n",
              "      height: 32px;\n",
              "      padding: 0 0 0 0;\n",
              "      width: 32px;\n",
              "    }\n",
              "\n",
              "    .colab-df-convert:hover {\n",
              "      background-color: #E2EBFA;\n",
              "      box-shadow: 0px 1px 2px rgba(60, 64, 67, 0.3), 0px 1px 3px 1px rgba(60, 64, 67, 0.15);\n",
              "      fill: #174EA6;\n",
              "    }\n",
              "\n",
              "    .colab-df-buttons div {\n",
              "      margin-bottom: 4px;\n",
              "    }\n",
              "\n",
              "    [theme=dark] .colab-df-convert {\n",
              "      background-color: #3B4455;\n",
              "      fill: #D2E3FC;\n",
              "    }\n",
              "\n",
              "    [theme=dark] .colab-df-convert:hover {\n",
              "      background-color: #434B5C;\n",
              "      box-shadow: 0px 1px 3px 1px rgba(0, 0, 0, 0.15);\n",
              "      filter: drop-shadow(0px 1px 2px rgba(0, 0, 0, 0.3));\n",
              "      fill: #FFFFFF;\n",
              "    }\n",
              "  </style>\n",
              "\n",
              "    <script>\n",
              "      const buttonEl =\n",
              "        document.querySelector('#df-9da088d3-52ec-42f1-abcd-a9644fabb693 button.colab-df-convert');\n",
              "      buttonEl.style.display =\n",
              "        google.colab.kernel.accessAllowed ? 'block' : 'none';\n",
              "\n",
              "      async function convertToInteractive(key) {\n",
              "        const element = document.querySelector('#df-9da088d3-52ec-42f1-abcd-a9644fabb693');\n",
              "        const dataTable =\n",
              "          await google.colab.kernel.invokeFunction('convertToInteractive',\n",
              "                                                    [key], {});\n",
              "        if (!dataTable) return;\n",
              "\n",
              "        const docLinkHtml = 'Like what you see? Visit the ' +\n",
              "          '<a target=\"_blank\" href=https://colab.research.google.com/notebooks/data_table.ipynb>data table notebook</a>'\n",
              "          + ' to learn more about interactive tables.';\n",
              "        element.innerHTML = '';\n",
              "        dataTable['output_type'] = 'display_data';\n",
              "        await google.colab.output.renderOutput(dataTable, element);\n",
              "        const docLink = document.createElement('div');\n",
              "        docLink.innerHTML = docLinkHtml;\n",
              "        element.appendChild(docLink);\n",
              "      }\n",
              "    </script>\n",
              "  </div>\n",
              "\n",
              "\n",
              "<div id=\"df-29f5d57f-93f2-4f52-bef7-3b998ae072bf\">\n",
              "  <button class=\"colab-df-quickchart\" onclick=\"quickchart('df-29f5d57f-93f2-4f52-bef7-3b998ae072bf')\"\n",
              "            title=\"Suggest charts\"\n",
              "            style=\"display:none;\">\n",
              "\n",
              "<svg xmlns=\"http://www.w3.org/2000/svg\" height=\"24px\"viewBox=\"0 0 24 24\"\n",
              "     width=\"24px\">\n",
              "    <g>\n",
              "        <path d=\"M19 3H5c-1.1 0-2 .9-2 2v14c0 1.1.9 2 2 2h14c1.1 0 2-.9 2-2V5c0-1.1-.9-2-2-2zM9 17H7v-7h2v7zm4 0h-2V7h2v10zm4 0h-2v-4h2v4z\"/>\n",
              "    </g>\n",
              "</svg>\n",
              "  </button>\n",
              "\n",
              "<style>\n",
              "  .colab-df-quickchart {\n",
              "      --bg-color: #E8F0FE;\n",
              "      --fill-color: #1967D2;\n",
              "      --hover-bg-color: #E2EBFA;\n",
              "      --hover-fill-color: #174EA6;\n",
              "      --disabled-fill-color: #AAA;\n",
              "      --disabled-bg-color: #DDD;\n",
              "  }\n",
              "\n",
              "  [theme=dark] .colab-df-quickchart {\n",
              "      --bg-color: #3B4455;\n",
              "      --fill-color: #D2E3FC;\n",
              "      --hover-bg-color: #434B5C;\n",
              "      --hover-fill-color: #FFFFFF;\n",
              "      --disabled-bg-color: #3B4455;\n",
              "      --disabled-fill-color: #666;\n",
              "  }\n",
              "\n",
              "  .colab-df-quickchart {\n",
              "    background-color: var(--bg-color);\n",
              "    border: none;\n",
              "    border-radius: 50%;\n",
              "    cursor: pointer;\n",
              "    display: none;\n",
              "    fill: var(--fill-color);\n",
              "    height: 32px;\n",
              "    padding: 0;\n",
              "    width: 32px;\n",
              "  }\n",
              "\n",
              "  .colab-df-quickchart:hover {\n",
              "    background-color: var(--hover-bg-color);\n",
              "    box-shadow: 0 1px 2px rgba(60, 64, 67, 0.3), 0 1px 3px 1px rgba(60, 64, 67, 0.15);\n",
              "    fill: var(--button-hover-fill-color);\n",
              "  }\n",
              "\n",
              "  .colab-df-quickchart-complete:disabled,\n",
              "  .colab-df-quickchart-complete:disabled:hover {\n",
              "    background-color: var(--disabled-bg-color);\n",
              "    fill: var(--disabled-fill-color);\n",
              "    box-shadow: none;\n",
              "  }\n",
              "\n",
              "  .colab-df-spinner {\n",
              "    border: 2px solid var(--fill-color);\n",
              "    border-color: transparent;\n",
              "    border-bottom-color: var(--fill-color);\n",
              "    animation:\n",
              "      spin 1s steps(1) infinite;\n",
              "  }\n",
              "\n",
              "  @keyframes spin {\n",
              "    0% {\n",
              "      border-color: transparent;\n",
              "      border-bottom-color: var(--fill-color);\n",
              "      border-left-color: var(--fill-color);\n",
              "    }\n",
              "    20% {\n",
              "      border-color: transparent;\n",
              "      border-left-color: var(--fill-color);\n",
              "      border-top-color: var(--fill-color);\n",
              "    }\n",
              "    30% {\n",
              "      border-color: transparent;\n",
              "      border-left-color: var(--fill-color);\n",
              "      border-top-color: var(--fill-color);\n",
              "      border-right-color: var(--fill-color);\n",
              "    }\n",
              "    40% {\n",
              "      border-color: transparent;\n",
              "      border-right-color: var(--fill-color);\n",
              "      border-top-color: var(--fill-color);\n",
              "    }\n",
              "    60% {\n",
              "      border-color: transparent;\n",
              "      border-right-color: var(--fill-color);\n",
              "    }\n",
              "    80% {\n",
              "      border-color: transparent;\n",
              "      border-right-color: var(--fill-color);\n",
              "      border-bottom-color: var(--fill-color);\n",
              "    }\n",
              "    90% {\n",
              "      border-color: transparent;\n",
              "      border-bottom-color: var(--fill-color);\n",
              "    }\n",
              "  }\n",
              "</style>\n",
              "\n",
              "  <script>\n",
              "    async function quickchart(key) {\n",
              "      const quickchartButtonEl =\n",
              "        document.querySelector('#' + key + ' button');\n",
              "      quickchartButtonEl.disabled = true;  // To prevent multiple clicks.\n",
              "      quickchartButtonEl.classList.add('colab-df-spinner');\n",
              "      try {\n",
              "        const charts = await google.colab.kernel.invokeFunction(\n",
              "            'suggestCharts', [key], {});\n",
              "      } catch (error) {\n",
              "        console.error('Error during call to suggestCharts:', error);\n",
              "      }\n",
              "      quickchartButtonEl.classList.remove('colab-df-spinner');\n",
              "      quickchartButtonEl.classList.add('colab-df-quickchart-complete');\n",
              "    }\n",
              "    (() => {\n",
              "      let quickchartButtonEl =\n",
              "        document.querySelector('#df-29f5d57f-93f2-4f52-bef7-3b998ae072bf button');\n",
              "      quickchartButtonEl.style.display =\n",
              "        google.colab.kernel.accessAllowed ? 'block' : 'none';\n",
              "    })();\n",
              "  </script>\n",
              "</div>\n",
              "\n",
              "    </div>\n",
              "  </div>\n"
            ],
            "application/vnd.google.colaboratory.intrinsic+json": {
              "type": "dataframe",
              "variable_name": "df_feature",
              "summary": "{\n  \"name\": \"df_feature\",\n  \"rows\": 15382,\n  \"fields\": [\n    {\n      \"column\": \"runtime_in_minutes\",\n      \"properties\": {\n        \"dtype\": \"number\",\n        \"std\": 25.134644327108177,\n        \"min\": 1.0,\n        \"max\": 2000.0,\n        \"num_unique_values\": 200,\n        \"samples\": [\n          183.0,\n          86.0,\n          91.0\n        ],\n        \"semantic_type\": \"\",\n        \"description\": \"\"\n      }\n    },\n    {\n      \"column\": \"tomatometer_rating\",\n      \"properties\": {\n        \"dtype\": \"number\",\n        \"std\": 28,\n        \"min\": 0,\n        \"max\": 100,\n        \"num_unique_values\": 101,\n        \"samples\": [\n          94,\n          46,\n          79\n        ],\n        \"semantic_type\": \"\",\n        \"description\": \"\"\n      }\n    },\n    {\n      \"column\": \"tomatometer_count\",\n      \"properties\": {\n        \"dtype\": \"number\",\n        \"std\": 42,\n        \"min\": 5,\n        \"max\": 171,\n        \"num_unique_values\": 167,\n        \"samples\": [\n          165,\n          68,\n          136\n        ],\n        \"semantic_type\": \"\",\n        \"description\": \"\"\n      }\n    },\n    {\n      \"column\": \"audience_rating\",\n      \"properties\": {\n        \"dtype\": \"number\",\n        \"std\": 20.609205435382993,\n        \"min\": 0.0,\n        \"max\": 100.0,\n        \"num_unique_values\": 98,\n        \"samples\": [\n          18.0,\n          55.0,\n          99.0\n        ],\n        \"semantic_type\": \"\",\n        \"description\": \"\"\n      }\n    },\n    {\n      \"column\": \"G\",\n      \"properties\": {\n        \"dtype\": \"number\",\n        \"std\": 0,\n        \"min\": 0,\n        \"max\": 1,\n        \"num_unique_values\": 2,\n        \"samples\": [\n          1,\n          0\n        ],\n        \"semantic_type\": \"\",\n        \"description\": \"\"\n      }\n    },\n    {\n      \"column\": \"NC17\",\n      \"properties\": {\n        \"dtype\": \"number\",\n        \"std\": 0,\n        \"min\": 0,\n        \"max\": 1,\n        \"num_unique_values\": 2,\n        \"samples\": [\n          1,\n          0\n        ],\n        \"semantic_type\": \"\",\n        \"description\": \"\"\n      }\n    },\n    {\n      \"column\": \"NR\",\n      \"properties\": {\n        \"dtype\": \"number\",\n        \"std\": 0,\n        \"min\": 0,\n        \"max\": 1,\n        \"num_unique_values\": 2,\n        \"samples\": [\n          1,\n          0\n        ],\n        \"semantic_type\": \"\",\n        \"description\": \"\"\n      }\n    },\n    {\n      \"column\": \"PG\",\n      \"properties\": {\n        \"dtype\": \"number\",\n        \"std\": 0,\n        \"min\": 0,\n        \"max\": 1,\n        \"num_unique_values\": 2,\n        \"samples\": [\n          0,\n          1\n        ],\n        \"semantic_type\": \"\",\n        \"description\": \"\"\n      }\n    },\n    {\n      \"column\": \"PG-13\",\n      \"properties\": {\n        \"dtype\": \"number\",\n        \"std\": 0,\n        \"min\": 0,\n        \"max\": 1,\n        \"num_unique_values\": 2,\n        \"samples\": [\n          1,\n          0\n        ],\n        \"semantic_type\": \"\",\n        \"description\": \"\"\n      }\n    },\n    {\n      \"column\": \"PG-13)\",\n      \"properties\": {\n        \"dtype\": \"number\",\n        \"std\": 0,\n        \"min\": 0,\n        \"max\": 1,\n        \"num_unique_values\": 2,\n        \"samples\": [\n          1,\n          0\n        ],\n        \"semantic_type\": \"\",\n        \"description\": \"\"\n      }\n    },\n    {\n      \"column\": \"R\",\n      \"properties\": {\n        \"dtype\": \"number\",\n        \"std\": 0,\n        \"min\": 0,\n        \"max\": 1,\n        \"num_unique_values\": 2,\n        \"samples\": [\n          1,\n          0\n        ],\n        \"semantic_type\": \"\",\n        \"description\": \"\"\n      }\n    },\n    {\n      \"column\": \"R)\",\n      \"properties\": {\n        \"dtype\": \"number\",\n        \"std\": 0,\n        \"min\": 0,\n        \"max\": 1,\n        \"num_unique_values\": 2,\n        \"samples\": [\n          1,\n          0\n        ],\n        \"semantic_type\": \"\",\n        \"description\": \"\"\n      }\n    }\n  ]\n}"
            }
          },
          "metadata": {},
          "execution_count": 91
        }
      ]
    },
    {
      "cell_type": "markdown",
      "source": [
        "Scaling the data"
      ],
      "metadata": {
        "id": "ANg7hMKidndz"
      }
    },
    {
      "cell_type": "code",
      "source": [
        "scaler = StandardScaler()\n",
        "df_feature_scale = scaler.fit_transform(df_feature)\n",
        "df_feature_scale"
      ],
      "metadata": {
        "id": "lpMUx80ibw_1",
        "colab": {
          "base_uri": "https://localhost:8080/"
        },
        "outputId": "85344503-74ac-407c-a0d0-349e383196de"
      },
      "execution_count": 92,
      "outputs": [
        {
          "output_type": "execute_result",
          "data": {
            "text/plain": [
              "array([[-0.72783649, -0.3703541 ,  2.41969157, ..., -0.01396679,\n",
              "        -0.75163876, -0.00806321],\n",
              "       [-0.4493273 ,  0.90950399,  2.32455151, ..., -0.01396679,\n",
              "         1.33042633, -0.00806321],\n",
              "       [ 0.66470948,  0.28687033, -0.48208029, ..., -0.01396679,\n",
              "         1.33042633, -0.00806321],\n",
              "       ...,\n",
              "       [ 1.61959814,  0.63277792, -0.79128549, ..., -0.01396679,\n",
              "        -0.75163876, -0.00806321],\n",
              "       [ 1.50023706,  1.22082082, -0.50586531, ..., -0.01396679,\n",
              "        -0.75163876, -0.00806321],\n",
              "       [ 0.62492245, -0.09362802, -0.83885552, ..., -0.01396679,\n",
              "        -0.75163876, -0.00806321]])"
            ]
          },
          "metadata": {},
          "execution_count": 92
        }
      ]
    },
    {
      "cell_type": "markdown",
      "source": [
        "Splitting the data into train set and test set"
      ],
      "metadata": {
        "id": "7sriHufNdsBD"
      }
    },
    {
      "cell_type": "code",
      "source": [
        "X_train, X_test, y_train, y_test = train_test_split(df_feature_scale, target, test_size=0.2, random_state=42)"
      ],
      "metadata": {
        "id": "rkZesSR2dtID"
      },
      "execution_count": 93,
      "outputs": []
    },
    {
      "cell_type": "code",
      "source": [
        "print(f'Size of train data: {X_train.shape[0]}\\nSize of test data: {X_test.shape[0]}')"
      ],
      "metadata": {
        "colab": {
          "base_uri": "https://localhost:8080/"
        },
        "id": "F5m047qcdtGE",
        "outputId": "817b987f-28d3-47ff-af69-aa4c2e123f17"
      },
      "execution_count": 94,
      "outputs": [
        {
          "output_type": "stream",
          "name": "stdout",
          "text": [
            "Size of train data: 12305\n",
            "Size of test data: 3077\n"
          ]
        }
      ]
    },
    {
      "cell_type": "markdown",
      "source": [
        "# Models"
      ],
      "metadata": {
        "id": "P0J1pDuSfzvr"
      }
    },
    {
      "cell_type": "markdown",
      "source": [
        "# Decision Tree Model"
      ],
      "metadata": {
        "id": "hzi9OR9WeA2K"
      }
    },
    {
      "cell_type": "code",
      "source": [
        "#i will try default params\n",
        "tree = DecisionTreeClassifier(random_state=2)"
      ],
      "metadata": {
        "id": "79aKdTzidtDT"
      },
      "execution_count": 95,
      "outputs": []
    },
    {
      "cell_type": "code",
      "source": [
        "tree.fit(X_train, y_train)"
      ],
      "metadata": {
        "colab": {
          "base_uri": "https://localhost:8080/",
          "height": 80
        },
        "id": "NpnwOf0cdtA1",
        "outputId": "164b4233-31b9-42e7-c873-4918713bc91c"
      },
      "execution_count": 96,
      "outputs": [
        {
          "output_type": "execute_result",
          "data": {
            "text/plain": [
              "DecisionTreeClassifier(random_state=2)"
            ],
            "text/html": [
              "<style>#sk-container-id-1 {\n",
              "  /* Definition of color scheme common for light and dark mode */\n",
              "  --sklearn-color-text: #000;\n",
              "  --sklearn-color-text-muted: #666;\n",
              "  --sklearn-color-line: gray;\n",
              "  /* Definition of color scheme for unfitted estimators */\n",
              "  --sklearn-color-unfitted-level-0: #fff5e6;\n",
              "  --sklearn-color-unfitted-level-1: #f6e4d2;\n",
              "  --sklearn-color-unfitted-level-2: #ffe0b3;\n",
              "  --sklearn-color-unfitted-level-3: chocolate;\n",
              "  /* Definition of color scheme for fitted estimators */\n",
              "  --sklearn-color-fitted-level-0: #f0f8ff;\n",
              "  --sklearn-color-fitted-level-1: #d4ebff;\n",
              "  --sklearn-color-fitted-level-2: #b3dbfd;\n",
              "  --sklearn-color-fitted-level-3: cornflowerblue;\n",
              "\n",
              "  /* Specific color for light theme */\n",
              "  --sklearn-color-text-on-default-background: var(--sg-text-color, var(--theme-code-foreground, var(--jp-content-font-color1, black)));\n",
              "  --sklearn-color-background: var(--sg-background-color, var(--theme-background, var(--jp-layout-color0, white)));\n",
              "  --sklearn-color-border-box: var(--sg-text-color, var(--theme-code-foreground, var(--jp-content-font-color1, black)));\n",
              "  --sklearn-color-icon: #696969;\n",
              "\n",
              "  @media (prefers-color-scheme: dark) {\n",
              "    /* Redefinition of color scheme for dark theme */\n",
              "    --sklearn-color-text-on-default-background: var(--sg-text-color, var(--theme-code-foreground, var(--jp-content-font-color1, white)));\n",
              "    --sklearn-color-background: var(--sg-background-color, var(--theme-background, var(--jp-layout-color0, #111)));\n",
              "    --sklearn-color-border-box: var(--sg-text-color, var(--theme-code-foreground, var(--jp-content-font-color1, white)));\n",
              "    --sklearn-color-icon: #878787;\n",
              "  }\n",
              "}\n",
              "\n",
              "#sk-container-id-1 {\n",
              "  color: var(--sklearn-color-text);\n",
              "}\n",
              "\n",
              "#sk-container-id-1 pre {\n",
              "  padding: 0;\n",
              "}\n",
              "\n",
              "#sk-container-id-1 input.sk-hidden--visually {\n",
              "  border: 0;\n",
              "  clip: rect(1px 1px 1px 1px);\n",
              "  clip: rect(1px, 1px, 1px, 1px);\n",
              "  height: 1px;\n",
              "  margin: -1px;\n",
              "  overflow: hidden;\n",
              "  padding: 0;\n",
              "  position: absolute;\n",
              "  width: 1px;\n",
              "}\n",
              "\n",
              "#sk-container-id-1 div.sk-dashed-wrapped {\n",
              "  border: 1px dashed var(--sklearn-color-line);\n",
              "  margin: 0 0.4em 0.5em 0.4em;\n",
              "  box-sizing: border-box;\n",
              "  padding-bottom: 0.4em;\n",
              "  background-color: var(--sklearn-color-background);\n",
              "}\n",
              "\n",
              "#sk-container-id-1 div.sk-container {\n",
              "  /* jupyter's `normalize.less` sets `[hidden] { display: none; }`\n",
              "     but bootstrap.min.css set `[hidden] { display: none !important; }`\n",
              "     so we also need the `!important` here to be able to override the\n",
              "     default hidden behavior on the sphinx rendered scikit-learn.org.\n",
              "     See: https://github.com/scikit-learn/scikit-learn/issues/21755 */\n",
              "  display: inline-block !important;\n",
              "  position: relative;\n",
              "}\n",
              "\n",
              "#sk-container-id-1 div.sk-text-repr-fallback {\n",
              "  display: none;\n",
              "}\n",
              "\n",
              "div.sk-parallel-item,\n",
              "div.sk-serial,\n",
              "div.sk-item {\n",
              "  /* draw centered vertical line to link estimators */\n",
              "  background-image: linear-gradient(var(--sklearn-color-text-on-default-background), var(--sklearn-color-text-on-default-background));\n",
              "  background-size: 2px 100%;\n",
              "  background-repeat: no-repeat;\n",
              "  background-position: center center;\n",
              "}\n",
              "\n",
              "/* Parallel-specific style estimator block */\n",
              "\n",
              "#sk-container-id-1 div.sk-parallel-item::after {\n",
              "  content: \"\";\n",
              "  width: 100%;\n",
              "  border-bottom: 2px solid var(--sklearn-color-text-on-default-background);\n",
              "  flex-grow: 1;\n",
              "}\n",
              "\n",
              "#sk-container-id-1 div.sk-parallel {\n",
              "  display: flex;\n",
              "  align-items: stretch;\n",
              "  justify-content: center;\n",
              "  background-color: var(--sklearn-color-background);\n",
              "  position: relative;\n",
              "}\n",
              "\n",
              "#sk-container-id-1 div.sk-parallel-item {\n",
              "  display: flex;\n",
              "  flex-direction: column;\n",
              "}\n",
              "\n",
              "#sk-container-id-1 div.sk-parallel-item:first-child::after {\n",
              "  align-self: flex-end;\n",
              "  width: 50%;\n",
              "}\n",
              "\n",
              "#sk-container-id-1 div.sk-parallel-item:last-child::after {\n",
              "  align-self: flex-start;\n",
              "  width: 50%;\n",
              "}\n",
              "\n",
              "#sk-container-id-1 div.sk-parallel-item:only-child::after {\n",
              "  width: 0;\n",
              "}\n",
              "\n",
              "/* Serial-specific style estimator block */\n",
              "\n",
              "#sk-container-id-1 div.sk-serial {\n",
              "  display: flex;\n",
              "  flex-direction: column;\n",
              "  align-items: center;\n",
              "  background-color: var(--sklearn-color-background);\n",
              "  padding-right: 1em;\n",
              "  padding-left: 1em;\n",
              "}\n",
              "\n",
              "\n",
              "/* Toggleable style: style used for estimator/Pipeline/ColumnTransformer box that is\n",
              "clickable and can be expanded/collapsed.\n",
              "- Pipeline and ColumnTransformer use this feature and define the default style\n",
              "- Estimators will overwrite some part of the style using the `sk-estimator` class\n",
              "*/\n",
              "\n",
              "/* Pipeline and ColumnTransformer style (default) */\n",
              "\n",
              "#sk-container-id-1 div.sk-toggleable {\n",
              "  /* Default theme specific background. It is overwritten whether we have a\n",
              "  specific estimator or a Pipeline/ColumnTransformer */\n",
              "  background-color: var(--sklearn-color-background);\n",
              "}\n",
              "\n",
              "/* Toggleable label */\n",
              "#sk-container-id-1 label.sk-toggleable__label {\n",
              "  cursor: pointer;\n",
              "  display: flex;\n",
              "  width: 100%;\n",
              "  margin-bottom: 0;\n",
              "  padding: 0.5em;\n",
              "  box-sizing: border-box;\n",
              "  text-align: center;\n",
              "  align-items: start;\n",
              "  justify-content: space-between;\n",
              "  gap: 0.5em;\n",
              "}\n",
              "\n",
              "#sk-container-id-1 label.sk-toggleable__label .caption {\n",
              "  font-size: 0.6rem;\n",
              "  font-weight: lighter;\n",
              "  color: var(--sklearn-color-text-muted);\n",
              "}\n",
              "\n",
              "#sk-container-id-1 label.sk-toggleable__label-arrow:before {\n",
              "  /* Arrow on the left of the label */\n",
              "  content: \"▸\";\n",
              "  float: left;\n",
              "  margin-right: 0.25em;\n",
              "  color: var(--sklearn-color-icon);\n",
              "}\n",
              "\n",
              "#sk-container-id-1 label.sk-toggleable__label-arrow:hover:before {\n",
              "  color: var(--sklearn-color-text);\n",
              "}\n",
              "\n",
              "/* Toggleable content - dropdown */\n",
              "\n",
              "#sk-container-id-1 div.sk-toggleable__content {\n",
              "  max-height: 0;\n",
              "  max-width: 0;\n",
              "  overflow: hidden;\n",
              "  text-align: left;\n",
              "  /* unfitted */\n",
              "  background-color: var(--sklearn-color-unfitted-level-0);\n",
              "}\n",
              "\n",
              "#sk-container-id-1 div.sk-toggleable__content.fitted {\n",
              "  /* fitted */\n",
              "  background-color: var(--sklearn-color-fitted-level-0);\n",
              "}\n",
              "\n",
              "#sk-container-id-1 div.sk-toggleable__content pre {\n",
              "  margin: 0.2em;\n",
              "  border-radius: 0.25em;\n",
              "  color: var(--sklearn-color-text);\n",
              "  /* unfitted */\n",
              "  background-color: var(--sklearn-color-unfitted-level-0);\n",
              "}\n",
              "\n",
              "#sk-container-id-1 div.sk-toggleable__content.fitted pre {\n",
              "  /* unfitted */\n",
              "  background-color: var(--sklearn-color-fitted-level-0);\n",
              "}\n",
              "\n",
              "#sk-container-id-1 input.sk-toggleable__control:checked~div.sk-toggleable__content {\n",
              "  /* Expand drop-down */\n",
              "  max-height: 200px;\n",
              "  max-width: 100%;\n",
              "  overflow: auto;\n",
              "}\n",
              "\n",
              "#sk-container-id-1 input.sk-toggleable__control:checked~label.sk-toggleable__label-arrow:before {\n",
              "  content: \"▾\";\n",
              "}\n",
              "\n",
              "/* Pipeline/ColumnTransformer-specific style */\n",
              "\n",
              "#sk-container-id-1 div.sk-label input.sk-toggleable__control:checked~label.sk-toggleable__label {\n",
              "  color: var(--sklearn-color-text);\n",
              "  background-color: var(--sklearn-color-unfitted-level-2);\n",
              "}\n",
              "\n",
              "#sk-container-id-1 div.sk-label.fitted input.sk-toggleable__control:checked~label.sk-toggleable__label {\n",
              "  background-color: var(--sklearn-color-fitted-level-2);\n",
              "}\n",
              "\n",
              "/* Estimator-specific style */\n",
              "\n",
              "/* Colorize estimator box */\n",
              "#sk-container-id-1 div.sk-estimator input.sk-toggleable__control:checked~label.sk-toggleable__label {\n",
              "  /* unfitted */\n",
              "  background-color: var(--sklearn-color-unfitted-level-2);\n",
              "}\n",
              "\n",
              "#sk-container-id-1 div.sk-estimator.fitted input.sk-toggleable__control:checked~label.sk-toggleable__label {\n",
              "  /* fitted */\n",
              "  background-color: var(--sklearn-color-fitted-level-2);\n",
              "}\n",
              "\n",
              "#sk-container-id-1 div.sk-label label.sk-toggleable__label,\n",
              "#sk-container-id-1 div.sk-label label {\n",
              "  /* The background is the default theme color */\n",
              "  color: var(--sklearn-color-text-on-default-background);\n",
              "}\n",
              "\n",
              "/* On hover, darken the color of the background */\n",
              "#sk-container-id-1 div.sk-label:hover label.sk-toggleable__label {\n",
              "  color: var(--sklearn-color-text);\n",
              "  background-color: var(--sklearn-color-unfitted-level-2);\n",
              "}\n",
              "\n",
              "/* Label box, darken color on hover, fitted */\n",
              "#sk-container-id-1 div.sk-label.fitted:hover label.sk-toggleable__label.fitted {\n",
              "  color: var(--sklearn-color-text);\n",
              "  background-color: var(--sklearn-color-fitted-level-2);\n",
              "}\n",
              "\n",
              "/* Estimator label */\n",
              "\n",
              "#sk-container-id-1 div.sk-label label {\n",
              "  font-family: monospace;\n",
              "  font-weight: bold;\n",
              "  display: inline-block;\n",
              "  line-height: 1.2em;\n",
              "}\n",
              "\n",
              "#sk-container-id-1 div.sk-label-container {\n",
              "  text-align: center;\n",
              "}\n",
              "\n",
              "/* Estimator-specific */\n",
              "#sk-container-id-1 div.sk-estimator {\n",
              "  font-family: monospace;\n",
              "  border: 1px dotted var(--sklearn-color-border-box);\n",
              "  border-radius: 0.25em;\n",
              "  box-sizing: border-box;\n",
              "  margin-bottom: 0.5em;\n",
              "  /* unfitted */\n",
              "  background-color: var(--sklearn-color-unfitted-level-0);\n",
              "}\n",
              "\n",
              "#sk-container-id-1 div.sk-estimator.fitted {\n",
              "  /* fitted */\n",
              "  background-color: var(--sklearn-color-fitted-level-0);\n",
              "}\n",
              "\n",
              "/* on hover */\n",
              "#sk-container-id-1 div.sk-estimator:hover {\n",
              "  /* unfitted */\n",
              "  background-color: var(--sklearn-color-unfitted-level-2);\n",
              "}\n",
              "\n",
              "#sk-container-id-1 div.sk-estimator.fitted:hover {\n",
              "  /* fitted */\n",
              "  background-color: var(--sklearn-color-fitted-level-2);\n",
              "}\n",
              "\n",
              "/* Specification for estimator info (e.g. \"i\" and \"?\") */\n",
              "\n",
              "/* Common style for \"i\" and \"?\" */\n",
              "\n",
              ".sk-estimator-doc-link,\n",
              "a:link.sk-estimator-doc-link,\n",
              "a:visited.sk-estimator-doc-link {\n",
              "  float: right;\n",
              "  font-size: smaller;\n",
              "  line-height: 1em;\n",
              "  font-family: monospace;\n",
              "  background-color: var(--sklearn-color-background);\n",
              "  border-radius: 1em;\n",
              "  height: 1em;\n",
              "  width: 1em;\n",
              "  text-decoration: none !important;\n",
              "  margin-left: 0.5em;\n",
              "  text-align: center;\n",
              "  /* unfitted */\n",
              "  border: var(--sklearn-color-unfitted-level-1) 1pt solid;\n",
              "  color: var(--sklearn-color-unfitted-level-1);\n",
              "}\n",
              "\n",
              ".sk-estimator-doc-link.fitted,\n",
              "a:link.sk-estimator-doc-link.fitted,\n",
              "a:visited.sk-estimator-doc-link.fitted {\n",
              "  /* fitted */\n",
              "  border: var(--sklearn-color-fitted-level-1) 1pt solid;\n",
              "  color: var(--sklearn-color-fitted-level-1);\n",
              "}\n",
              "\n",
              "/* On hover */\n",
              "div.sk-estimator:hover .sk-estimator-doc-link:hover,\n",
              ".sk-estimator-doc-link:hover,\n",
              "div.sk-label-container:hover .sk-estimator-doc-link:hover,\n",
              ".sk-estimator-doc-link:hover {\n",
              "  /* unfitted */\n",
              "  background-color: var(--sklearn-color-unfitted-level-3);\n",
              "  color: var(--sklearn-color-background);\n",
              "  text-decoration: none;\n",
              "}\n",
              "\n",
              "div.sk-estimator.fitted:hover .sk-estimator-doc-link.fitted:hover,\n",
              ".sk-estimator-doc-link.fitted:hover,\n",
              "div.sk-label-container:hover .sk-estimator-doc-link.fitted:hover,\n",
              ".sk-estimator-doc-link.fitted:hover {\n",
              "  /* fitted */\n",
              "  background-color: var(--sklearn-color-fitted-level-3);\n",
              "  color: var(--sklearn-color-background);\n",
              "  text-decoration: none;\n",
              "}\n",
              "\n",
              "/* Span, style for the box shown on hovering the info icon */\n",
              ".sk-estimator-doc-link span {\n",
              "  display: none;\n",
              "  z-index: 9999;\n",
              "  position: relative;\n",
              "  font-weight: normal;\n",
              "  right: .2ex;\n",
              "  padding: .5ex;\n",
              "  margin: .5ex;\n",
              "  width: min-content;\n",
              "  min-width: 20ex;\n",
              "  max-width: 50ex;\n",
              "  color: var(--sklearn-color-text);\n",
              "  box-shadow: 2pt 2pt 4pt #999;\n",
              "  /* unfitted */\n",
              "  background: var(--sklearn-color-unfitted-level-0);\n",
              "  border: .5pt solid var(--sklearn-color-unfitted-level-3);\n",
              "}\n",
              "\n",
              ".sk-estimator-doc-link.fitted span {\n",
              "  /* fitted */\n",
              "  background: var(--sklearn-color-fitted-level-0);\n",
              "  border: var(--sklearn-color-fitted-level-3);\n",
              "}\n",
              "\n",
              ".sk-estimator-doc-link:hover span {\n",
              "  display: block;\n",
              "}\n",
              "\n",
              "/* \"?\"-specific style due to the `<a>` HTML tag */\n",
              "\n",
              "#sk-container-id-1 a.estimator_doc_link {\n",
              "  float: right;\n",
              "  font-size: 1rem;\n",
              "  line-height: 1em;\n",
              "  font-family: monospace;\n",
              "  background-color: var(--sklearn-color-background);\n",
              "  border-radius: 1rem;\n",
              "  height: 1rem;\n",
              "  width: 1rem;\n",
              "  text-decoration: none;\n",
              "  /* unfitted */\n",
              "  color: var(--sklearn-color-unfitted-level-1);\n",
              "  border: var(--sklearn-color-unfitted-level-1) 1pt solid;\n",
              "}\n",
              "\n",
              "#sk-container-id-1 a.estimator_doc_link.fitted {\n",
              "  /* fitted */\n",
              "  border: var(--sklearn-color-fitted-level-1) 1pt solid;\n",
              "  color: var(--sklearn-color-fitted-level-1);\n",
              "}\n",
              "\n",
              "/* On hover */\n",
              "#sk-container-id-1 a.estimator_doc_link:hover {\n",
              "  /* unfitted */\n",
              "  background-color: var(--sklearn-color-unfitted-level-3);\n",
              "  color: var(--sklearn-color-background);\n",
              "  text-decoration: none;\n",
              "}\n",
              "\n",
              "#sk-container-id-1 a.estimator_doc_link.fitted:hover {\n",
              "  /* fitted */\n",
              "  background-color: var(--sklearn-color-fitted-level-3);\n",
              "}\n",
              "</style><div id=\"sk-container-id-1\" class=\"sk-top-container\"><div class=\"sk-text-repr-fallback\"><pre>DecisionTreeClassifier(random_state=2)</pre><b>In a Jupyter environment, please rerun this cell to show the HTML representation or trust the notebook. <br />On GitHub, the HTML representation is unable to render, please try loading this page with nbviewer.org.</b></div><div class=\"sk-container\" hidden><div class=\"sk-item\"><div class=\"sk-estimator fitted sk-toggleable\"><input class=\"sk-toggleable__control sk-hidden--visually\" id=\"sk-estimator-id-1\" type=\"checkbox\" checked><label for=\"sk-estimator-id-1\" class=\"sk-toggleable__label fitted sk-toggleable__label-arrow\"><div><div>DecisionTreeClassifier</div></div><div><a class=\"sk-estimator-doc-link fitted\" rel=\"noreferrer\" target=\"_blank\" href=\"https://scikit-learn.org/1.6/modules/generated/sklearn.tree.DecisionTreeClassifier.html\">?<span>Documentation for DecisionTreeClassifier</span></a><span class=\"sk-estimator-doc-link fitted\">i<span>Fitted</span></span></div></label><div class=\"sk-toggleable__content fitted\"><pre>DecisionTreeClassifier(random_state=2)</pre></div> </div></div></div></div>"
            ]
          },
          "metadata": {},
          "execution_count": 96
        }
      ]
    },
    {
      "cell_type": "code",
      "source": [
        "plot_tree(tree)"
      ],
      "metadata": {
        "colab": {
          "base_uri": "https://localhost:8080/",
          "height": 1000
        },
        "id": "Lhvniv-bds-b",
        "outputId": "4abc11bc-1bf3-41f5-9a1e-e74c20c55060"
      },
      "execution_count": 97,
      "outputs": [
        {
          "output_type": "execute_result",
          "data": {
            "text/plain": [
              "[Text(0.31766732283464566, 0.9722222222222222, 'x[1] <= -0.007\\ngini = 0.613\\nsamples = 12305\\nvalue = [1795, 4954, 5556]'),\n",
              " Text(0.3097933070866142, 0.9166666666666666, 'gini = 0.0\\nsamples = 5556\\nvalue = [0, 0, 5556]'),\n",
              " Text(0.3137303149606299, 0.9444444444444444, 'True  '),\n",
              " Text(0.32554133858267714, 0.9166666666666666, 'x[2] <= -0.066\\ngini = 0.39\\nsamples = 6749\\nvalue = [1795, 4954, 0]'),\n",
              " Text(0.3216043307086614, 0.9444444444444444, '  False'),\n",
              " Text(0.10531496062992125, 0.8611111111111112, 'x[0] <= -1.424\\ngini = 0.005\\nsamples = 4353\\nvalue = [11, 4342, 0]'),\n",
              " Text(0.031496062992125984, 0.8055555555555556, 'x[2] <= -0.542\\ngini = 0.077\\nsamples = 124\\nvalue = [5, 119, 0]'),\n",
              " Text(0.023622047244094488, 0.75, 'gini = 0.0\\nsamples = 94\\nvalue = [0, 94, 0]'),\n",
              " Text(0.03937007874015748, 0.75, 'x[0] <= -1.703\\ngini = 0.278\\nsamples = 30\\nvalue = [5, 25, 0]'),\n",
              " Text(0.023622047244094488, 0.6944444444444444, 'x[2] <= -0.518\\ngini = 0.091\\nsamples = 21\\nvalue = [1, 20, 0]'),\n",
              " Text(0.015748031496062992, 0.6388888888888888, 'x[1] <= 1.048\\ngini = 0.375\\nsamples = 4\\nvalue = [1, 3, 0]'),\n",
              " Text(0.007874015748031496, 0.5833333333333334, 'gini = 0.0\\nsamples = 2\\nvalue = [0, 2, 0]'),\n",
              " Text(0.023622047244094488, 0.5833333333333334, 'x[1] <= 1.307\\ngini = 0.5\\nsamples = 2\\nvalue = [1, 1, 0]'),\n",
              " Text(0.015748031496062992, 0.5277777777777778, 'gini = 0.0\\nsamples = 1\\nvalue = [1, 0, 0]'),\n",
              " Text(0.031496062992125984, 0.5277777777777778, 'gini = 0.0\\nsamples = 1\\nvalue = [0, 1, 0]'),\n",
              " Text(0.031496062992125984, 0.6388888888888888, 'gini = 0.0\\nsamples = 17\\nvalue = [0, 17, 0]'),\n",
              " Text(0.05511811023622047, 0.6944444444444444, 'x[2] <= -0.494\\ngini = 0.494\\nsamples = 9\\nvalue = [4, 5, 0]'),\n",
              " Text(0.047244094488188976, 0.6388888888888888, 'gini = 0.0\\nsamples = 2\\nvalue = [2, 0, 0]'),\n",
              " Text(0.06299212598425197, 0.6388888888888888, 'x[3] <= -0.307\\ngini = 0.408\\nsamples = 7\\nvalue = [2, 5, 0]'),\n",
              " Text(0.05511811023622047, 0.5833333333333334, 'gini = 0.0\\nsamples = 1\\nvalue = [1, 0, 0]'),\n",
              " Text(0.07086614173228346, 0.5833333333333334, 'x[1] <= 1.082\\ngini = 0.278\\nsamples = 6\\nvalue = [1, 5, 0]'),\n",
              " Text(0.06299212598425197, 0.5277777777777778, 'gini = 0.0\\nsamples = 1\\nvalue = [1, 0, 0]'),\n",
              " Text(0.07874015748031496, 0.5277777777777778, 'gini = 0.0\\nsamples = 5\\nvalue = [0, 5, 0]'),\n",
              " Text(0.17913385826771652, 0.8055555555555556, 'x[2] <= -0.09\\ngini = 0.003\\nsamples = 4229\\nvalue = [6, 4223, 0]'),\n",
              " Text(0.12992125984251968, 0.75, 'x[0] <= 1.202\\ngini = 0.002\\nsamples = 4185\\nvalue = [4, 4181, 0]'),\n",
              " Text(0.10236220472440945, 0.6944444444444444, 'x[0] <= 0.446\\ngini = 0.001\\nsamples = 3909\\nvalue = [1, 3908, 0]'),\n",
              " Text(0.09448818897637795, 0.6388888888888888, 'gini = 0.0\\nsamples = 3345\\nvalue = [0, 3345, 0]'),\n",
              " Text(0.11023622047244094, 0.6388888888888888, 'x[0] <= 0.486\\ngini = 0.004\\nsamples = 564\\nvalue = [1, 563, 0]'),\n",
              " Text(0.10236220472440945, 0.5833333333333334, 'x[10] <= 0.289\\ngini = 0.049\\nsamples = 40\\nvalue = [1, 39, 0]'),\n",
              " Text(0.09448818897637795, 0.5277777777777778, 'gini = 0.0\\nsamples = 28\\nvalue = [0, 28, 0]'),\n",
              " Text(0.11023622047244094, 0.5277777777777778, 'x[3] <= 0.421\\ngini = 0.153\\nsamples = 12\\nvalue = [1, 11, 0]'),\n",
              " Text(0.10236220472440945, 0.4722222222222222, 'x[2] <= -0.482\\ngini = 0.375\\nsamples = 4\\nvalue = [1, 3, 0]'),\n",
              " Text(0.09448818897637795, 0.4166666666666667, 'gini = 0.0\\nsamples = 3\\nvalue = [0, 3, 0]'),\n",
              " Text(0.11023622047244094, 0.4166666666666667, 'gini = 0.0\\nsamples = 1\\nvalue = [1, 0, 0]'),\n",
              " Text(0.11811023622047244, 0.4722222222222222, 'gini = 0.0\\nsamples = 8\\nvalue = [0, 8, 0]'),\n",
              " Text(0.11811023622047244, 0.5833333333333334, 'gini = 0.0\\nsamples = 524\\nvalue = [0, 524, 0]'),\n",
              " Text(0.15748031496062992, 0.6944444444444444, 'x[0] <= 1.242\\ngini = 0.022\\nsamples = 276\\nvalue = [3, 273, 0]'),\n",
              " Text(0.14173228346456693, 0.6388888888888888, 'x[2] <= -0.232\\ngini = 0.245\\nsamples = 14\\nvalue = [2, 12, 0]'),\n",
              " Text(0.13385826771653545, 0.5833333333333334, 'gini = 0.0\\nsamples = 11\\nvalue = [0, 11, 0]'),\n",
              " Text(0.14960629921259844, 0.5833333333333334, 'x[1] <= 0.875\\ngini = 0.444\\nsamples = 3\\nvalue = [2, 1, 0]'),\n",
              " Text(0.14173228346456693, 0.5277777777777778, 'gini = 0.0\\nsamples = 1\\nvalue = [0, 1, 0]'),\n",
              " Text(0.15748031496062992, 0.5277777777777778, 'gini = 0.0\\nsamples = 2\\nvalue = [2, 0, 0]'),\n",
              " Text(0.1732283464566929, 0.6388888888888888, 'x[3] <= 1.634\\ngini = 0.008\\nsamples = 262\\nvalue = [1, 261, 0]'),\n",
              " Text(0.16535433070866143, 0.5833333333333334, 'gini = 0.0\\nsamples = 245\\nvalue = [0, 245, 0]'),\n",
              " Text(0.18110236220472442, 0.5833333333333334, 'x[0] <= 2.077\\ngini = 0.111\\nsamples = 17\\nvalue = [1, 16, 0]'),\n",
              " Text(0.1732283464566929, 0.5277777777777778, 'x[0] <= 1.998\\ngini = 0.245\\nsamples = 7\\nvalue = [1, 6, 0]'),\n",
              " Text(0.16535433070866143, 0.4722222222222222, 'gini = 0.0\\nsamples = 6\\nvalue = [0, 6, 0]'),\n",
              " Text(0.18110236220472442, 0.4722222222222222, 'gini = 0.0\\nsamples = 1\\nvalue = [1, 0, 0]'),\n",
              " Text(0.1889763779527559, 0.5277777777777778, 'gini = 0.0\\nsamples = 10\\nvalue = [0, 10, 0]'),\n",
              " Text(0.2283464566929134, 0.75, 'x[8] <= 0.962\\ngini = 0.087\\nsamples = 44\\nvalue = [2, 42, 0]'),\n",
              " Text(0.2125984251968504, 0.6944444444444444, 'x[1] <= 1.082\\ngini = 0.046\\nsamples = 42\\nvalue = [1, 41, 0]'),\n",
              " Text(0.2047244094488189, 0.6388888888888888, 'gini = 0.0\\nsamples = 28\\nvalue = [0, 28, 0]'),\n",
              " Text(0.2204724409448819, 0.6388888888888888, 'x[1] <= 1.169\\ngini = 0.133\\nsamples = 14\\nvalue = [1, 13, 0]'),\n",
              " Text(0.2125984251968504, 0.5833333333333334, 'x[3] <= 0.954\\ngini = 0.278\\nsamples = 6\\nvalue = [1, 5, 0]'),\n",
              " Text(0.2047244094488189, 0.5277777777777778, 'gini = 0.0\\nsamples = 3\\nvalue = [0, 3, 0]'),\n",
              " Text(0.2204724409448819, 0.5277777777777778, 'x[3] <= 1.051\\ngini = 0.444\\nsamples = 3\\nvalue = [1, 2, 0]'),\n",
              " Text(0.2125984251968504, 0.4722222222222222, 'gini = 0.0\\nsamples = 1\\nvalue = [1, 0, 0]'),\n",
              " Text(0.2283464566929134, 0.4722222222222222, 'gini = 0.0\\nsamples = 2\\nvalue = [0, 2, 0]'),\n",
              " Text(0.2283464566929134, 0.5833333333333334, 'gini = 0.0\\nsamples = 8\\nvalue = [0, 8, 0]'),\n",
              " Text(0.2440944881889764, 0.6944444444444444, 'x[0] <= 0.147\\ngini = 0.5\\nsamples = 2\\nvalue = [1, 1, 0]'),\n",
              " Text(0.23622047244094488, 0.6388888888888888, 'gini = 0.0\\nsamples = 1\\nvalue = [1, 0, 0]'),\n",
              " Text(0.25196850393700787, 0.6388888888888888, 'gini = 0.0\\nsamples = 1\\nvalue = [0, 1, 0]'),\n",
              " Text(0.5457677165354331, 0.8611111111111112, 'x[1] <= 0.477\\ngini = 0.38\\nsamples = 2396\\nvalue = [1784, 612, 0]'),\n",
              " Text(0.358759842519685, 0.8055555555555556, 'x[1] <= 0.408\\ngini = 0.113\\nsamples = 614\\nvalue = [37, 577, 0]'),\n",
              " Text(0.2755905511811024, 0.75, 'x[1] <= 0.339\\ngini = 0.035\\nsamples = 509\\nvalue = [9, 500, 0]'),\n",
              " Text(0.2677165354330709, 0.6944444444444444, 'gini = 0.0\\nsamples = 431\\nvalue = [0, 431, 0]'),\n",
              " Text(0.28346456692913385, 0.6944444444444444, 'x[2] <= 2.467\\ngini = 0.204\\nsamples = 78\\nvalue = [9, 69, 0]'),\n",
              " Text(0.2677165354330709, 0.6388888888888888, 'x[0] <= -0.927\\ngini = 0.151\\nsamples = 73\\nvalue = [6, 67, 0]'),\n",
              " Text(0.25984251968503935, 0.5833333333333334, 'gini = 0.0\\nsamples = 1\\nvalue = [1, 0, 0]'),\n",
              " Text(0.2755905511811024, 0.5833333333333334, 'x[2] <= 0.624\\ngini = 0.129\\nsamples = 72\\nvalue = [5, 67, 0]'),\n",
              " Text(0.2677165354330709, 0.5277777777777778, 'gini = 0.0\\nsamples = 38\\nvalue = [0, 38, 0]'),\n",
              " Text(0.28346456692913385, 0.5277777777777778, 'x[2] <= 0.779\\ngini = 0.251\\nsamples = 34\\nvalue = [5, 29, 0]'),\n",
              " Text(0.2637795275590551, 0.4722222222222222, 'x[1] <= 0.373\\ngini = 0.48\\nsamples = 5\\nvalue = [2, 3, 0]'),\n",
              " Text(0.2559055118110236, 0.4166666666666667, 'gini = 0.0\\nsamples = 2\\nvalue = [2, 0, 0]'),\n",
              " Text(0.27165354330708663, 0.4166666666666667, 'gini = 0.0\\nsamples = 3\\nvalue = [0, 3, 0]'),\n",
              " Text(0.3031496062992126, 0.4722222222222222, 'x[2] <= 1.896\\ngini = 0.185\\nsamples = 29\\nvalue = [3, 26, 0]'),\n",
              " Text(0.2874015748031496, 0.4166666666666667, 'x[4] <= 2.302\\ngini = 0.091\\nsamples = 21\\nvalue = [1, 20, 0]'),\n",
              " Text(0.2795275590551181, 0.3611111111111111, 'gini = 0.0\\nsamples = 19\\nvalue = [0, 19, 0]'),\n",
              " Text(0.2952755905511811, 0.3611111111111111, 'x[0] <= -0.23\\ngini = 0.5\\nsamples = 2\\nvalue = [1, 1, 0]'),\n",
              " Text(0.2874015748031496, 0.3055555555555556, 'gini = 0.0\\nsamples = 1\\nvalue = [0, 1, 0]'),\n",
              " Text(0.3031496062992126, 0.3055555555555556, 'gini = 0.0\\nsamples = 1\\nvalue = [1, 0, 0]'),\n",
              " Text(0.3188976377952756, 0.4166666666666667, 'x[2] <= 1.98\\ngini = 0.375\\nsamples = 8\\nvalue = [2, 6, 0]'),\n",
              " Text(0.3110236220472441, 0.3611111111111111, 'gini = 0.0\\nsamples = 1\\nvalue = [1, 0, 0]'),\n",
              " Text(0.32677165354330706, 0.3611111111111111, 'x[1] <= 0.373\\ngini = 0.245\\nsamples = 7\\nvalue = [1, 6, 0]'),\n",
              " Text(0.3188976377952756, 0.3055555555555556, 'gini = 0.0\\nsamples = 5\\nvalue = [0, 5, 0]'),\n",
              " Text(0.3346456692913386, 0.3055555555555556, 'x[10] <= 0.289\\ngini = 0.5\\nsamples = 2\\nvalue = [1, 1, 0]'),\n",
              " Text(0.32677165354330706, 0.25, 'gini = 0.0\\nsamples = 1\\nvalue = [0, 1, 0]'),\n",
              " Text(0.3425196850393701, 0.25, 'gini = 0.0\\nsamples = 1\\nvalue = [1, 0, 0]'),\n",
              " Text(0.2992125984251969, 0.6388888888888888, 'x[0] <= 0.028\\ngini = 0.48\\nsamples = 5\\nvalue = [3, 2, 0]'),\n",
              " Text(0.29133858267716534, 0.5833333333333334, 'gini = 0.0\\nsamples = 2\\nvalue = [2, 0, 0]'),\n",
              " Text(0.30708661417322836, 0.5833333333333334, 'x[2] <= 2.503\\ngini = 0.444\\nsamples = 3\\nvalue = [1, 2, 0]'),\n",
              " Text(0.2992125984251969, 0.5277777777777778, 'gini = 0.0\\nsamples = 1\\nvalue = [1, 0, 0]'),\n",
              " Text(0.31496062992125984, 0.5277777777777778, 'gini = 0.0\\nsamples = 2\\nvalue = [0, 2, 0]'),\n",
              " Text(0.4419291338582677, 0.75, 'x[1] <= 0.443\\ngini = 0.391\\nsamples = 105\\nvalue = [28, 77, 0]'),\n",
              " Text(0.3661417322834646, 0.6944444444444444, 'x[2] <= 0.315\\ngini = 0.282\\nsamples = 53\\nvalue = [9, 44, 0]'),\n",
              " Text(0.3464566929133858, 0.6388888888888888, 'x[10] <= 0.289\\ngini = 0.444\\nsamples = 12\\nvalue = [4, 8, 0]'),\n",
              " Text(0.33858267716535434, 0.5833333333333334, 'x[0] <= -0.549\\ngini = 0.32\\nsamples = 10\\nvalue = [2, 8, 0]'),\n",
              " Text(0.33070866141732286, 0.5277777777777778, 'x[6] <= 0.398\\ngini = 0.444\\nsamples = 3\\nvalue = [2, 1, 0]'),\n",
              " Text(0.3228346456692913, 0.4722222222222222, 'gini = 0.0\\nsamples = 1\\nvalue = [0, 1, 0]'),\n",
              " Text(0.33858267716535434, 0.4722222222222222, 'gini = 0.0\\nsamples = 2\\nvalue = [2, 0, 0]'),\n",
              " Text(0.3464566929133858, 0.5277777777777778, 'gini = 0.0\\nsamples = 7\\nvalue = [0, 7, 0]'),\n",
              " Text(0.3543307086614173, 0.5833333333333334, 'gini = 0.0\\nsamples = 2\\nvalue = [2, 0, 0]'),\n",
              " Text(0.3858267716535433, 0.6388888888888888, 'x[3] <= 1.561\\ngini = 0.214\\nsamples = 41\\nvalue = [5, 36, 0]'),\n",
              " Text(0.3700787401574803, 0.5833333333333334, 'x[2] <= 0.779\\ngini = 0.184\\nsamples = 39\\nvalue = [4, 35, 0]'),\n",
              " Text(0.36220472440944884, 0.5277777777777778, 'gini = 0.0\\nsamples = 13\\nvalue = [0, 13, 0]'),\n",
              " Text(0.3779527559055118, 0.5277777777777778, 'x[2] <= 0.862\\ngini = 0.26\\nsamples = 26\\nvalue = [4, 22, 0]'),\n",
              " Text(0.3700787401574803, 0.4722222222222222, 'gini = 0.0\\nsamples = 1\\nvalue = [1, 0, 0]'),\n",
              " Text(0.3858267716535433, 0.4722222222222222, 'x[3] <= 0.178\\ngini = 0.211\\nsamples = 25\\nvalue = [3, 22, 0]'),\n",
              " Text(0.3779527559055118, 0.4166666666666667, 'gini = 0.0\\nsamples = 10\\nvalue = [0, 10, 0]'),\n",
              " Text(0.3937007874015748, 0.4166666666666667, 'x[3] <= 0.226\\ngini = 0.32\\nsamples = 15\\nvalue = [3, 12, 0]'),\n",
              " Text(0.3858267716535433, 0.3611111111111111, 'gini = 0.0\\nsamples = 1\\nvalue = [1, 0, 0]'),\n",
              " Text(0.4015748031496063, 0.3611111111111111, 'x[7] <= 1.124\\ngini = 0.245\\nsamples = 14\\nvalue = [2, 12, 0]'),\n",
              " Text(0.3858267716535433, 0.3055555555555556, 'x[2] <= 1.587\\ngini = 0.153\\nsamples = 12\\nvalue = [1, 11, 0]'),\n",
              " Text(0.3779527559055118, 0.25, 'x[2] <= 1.433\\ngini = 0.375\\nsamples = 4\\nvalue = [1, 3, 0]'),\n",
              " Text(0.3700787401574803, 0.19444444444444445, 'gini = 0.0\\nsamples = 3\\nvalue = [0, 3, 0]'),\n",
              " Text(0.3858267716535433, 0.19444444444444445, 'gini = 0.0\\nsamples = 1\\nvalue = [1, 0, 0]'),\n",
              " Text(0.3937007874015748, 0.25, 'gini = 0.0\\nsamples = 8\\nvalue = [0, 8, 0]'),\n",
              " Text(0.41732283464566927, 0.3055555555555556, 'x[3] <= 0.784\\ngini = 0.5\\nsamples = 2\\nvalue = [1, 1, 0]'),\n",
              " Text(0.4094488188976378, 0.25, 'gini = 0.0\\nsamples = 1\\nvalue = [0, 1, 0]'),\n",
              " Text(0.4251968503937008, 0.25, 'gini = 0.0\\nsamples = 1\\nvalue = [1, 0, 0]'),\n",
              " Text(0.4015748031496063, 0.5833333333333334, 'x[0] <= 0.864\\ngini = 0.5\\nsamples = 2\\nvalue = [1, 1, 0]'),\n",
              " Text(0.3937007874015748, 0.5277777777777778, 'gini = 0.0\\nsamples = 1\\nvalue = [1, 0, 0]'),\n",
              " Text(0.4094488188976378, 0.5277777777777778, 'gini = 0.0\\nsamples = 1\\nvalue = [0, 1, 0]'),\n",
              " Text(0.5177165354330708, 0.6944444444444444, 'x[2] <= 0.184\\ngini = 0.464\\nsamples = 52\\nvalue = [19, 33, 0]'),\n",
              " Text(0.5098425196850394, 0.6388888888888888, 'gini = 0.0\\nsamples = 11\\nvalue = [0, 11, 0]'),\n",
              " Text(0.5255905511811023, 0.6388888888888888, 'x[7] <= 1.124\\ngini = 0.497\\nsamples = 41\\nvalue = [19, 22, 0]'),\n",
              " Text(0.5177165354330708, 0.5833333333333334, 'x[2] <= 2.253\\ngini = 0.5\\nsamples = 37\\nvalue = [19, 18, 0]'),\n",
              " Text(0.5098425196850394, 0.5277777777777778, 'x[3] <= -0.72\\ngini = 0.493\\nsamples = 34\\nvalue = [19, 15, 0]'),\n",
              " Text(0.5019685039370079, 0.4722222222222222, 'gini = 0.0\\nsamples = 2\\nvalue = [0, 2, 0]'),\n",
              " Text(0.5177165354330708, 0.4722222222222222, 'x[8] <= 0.962\\ngini = 0.482\\nsamples = 32\\nvalue = [19, 13, 0]'),\n",
              " Text(0.4921259842519685, 0.4166666666666667, 'x[0] <= -0.032\\ngini = 0.459\\nsamples = 28\\nvalue = [18, 10, 0]'),\n",
              " Text(0.4645669291338583, 0.3611111111111111, 'x[4] <= 2.302\\ngini = 0.337\\nsamples = 14\\nvalue = [11, 3, 0]'),\n",
              " Text(0.4566929133858268, 0.3055555555555556, 'x[3] <= -0.453\\ngini = 0.26\\nsamples = 13\\nvalue = [11, 2, 0]'),\n",
              " Text(0.4409448818897638, 0.25, 'x[2] <= 1.29\\ngini = 0.5\\nsamples = 2\\nvalue = [1, 1, 0]'),\n",
              " Text(0.4330708661417323, 0.19444444444444445, 'gini = 0.0\\nsamples = 1\\nvalue = [0, 1, 0]'),\n",
              " Text(0.44881889763779526, 0.19444444444444445, 'gini = 0.0\\nsamples = 1\\nvalue = [1, 0, 0]'),\n",
              " Text(0.47244094488188976, 0.25, 'x[0] <= -0.529\\ngini = 0.165\\nsamples = 11\\nvalue = [10, 1, 0]'),\n",
              " Text(0.4645669291338583, 0.19444444444444445, 'x[6] <= 0.398\\ngini = 0.444\\nsamples = 3\\nvalue = [2, 1, 0]'),\n",
              " Text(0.4566929133858268, 0.1388888888888889, 'gini = 0.0\\nsamples = 2\\nvalue = [2, 0, 0]'),\n",
              " Text(0.47244094488188976, 0.1388888888888889, 'gini = 0.0\\nsamples = 1\\nvalue = [0, 1, 0]'),\n",
              " Text(0.48031496062992124, 0.19444444444444445, 'gini = 0.0\\nsamples = 8\\nvalue = [8, 0, 0]'),\n",
              " Text(0.47244094488188976, 0.3055555555555556, 'gini = 0.0\\nsamples = 1\\nvalue = [0, 1, 0]'),\n",
              " Text(0.5196850393700787, 0.3611111111111111, 'x[0] <= 1.242\\ngini = 0.5\\nsamples = 14\\nvalue = [7, 7, 0]'),\n",
              " Text(0.5118110236220472, 0.3055555555555556, 'x[0] <= 1.003\\ngini = 0.486\\nsamples = 12\\nvalue = [5, 7, 0]'),\n",
              " Text(0.5039370078740157, 0.25, 'x[3] <= 0.323\\ngini = 0.5\\nsamples = 10\\nvalue = [5, 5, 0]'),\n",
              " Text(0.49606299212598426, 0.19444444444444445, 'x[3] <= 0.226\\ngini = 0.408\\nsamples = 7\\nvalue = [2, 5, 0]'),\n",
              " Text(0.4881889763779528, 0.1388888888888889, 'x[2] <= 0.529\\ngini = 0.5\\nsamples = 4\\nvalue = [2, 2, 0]'),\n",
              " Text(0.48031496062992124, 0.08333333333333333, 'gini = 0.0\\nsamples = 1\\nvalue = [0, 1, 0]'),\n",
              " Text(0.49606299212598426, 0.08333333333333333, 'x[3] <= -0.307\\ngini = 0.444\\nsamples = 3\\nvalue = [2, 1, 0]'),\n",
              " Text(0.4881889763779528, 0.027777777777777776, 'gini = 0.0\\nsamples = 1\\nvalue = [0, 1, 0]'),\n",
              " Text(0.5039370078740157, 0.027777777777777776, 'gini = 0.0\\nsamples = 2\\nvalue = [2, 0, 0]'),\n",
              " Text(0.5039370078740157, 0.1388888888888889, 'gini = 0.0\\nsamples = 3\\nvalue = [0, 3, 0]'),\n",
              " Text(0.5118110236220472, 0.19444444444444445, 'gini = 0.0\\nsamples = 3\\nvalue = [3, 0, 0]'),\n",
              " Text(0.5196850393700787, 0.25, 'gini = 0.0\\nsamples = 2\\nvalue = [0, 2, 0]'),\n",
              " Text(0.5275590551181102, 0.3055555555555556, 'gini = 0.0\\nsamples = 2\\nvalue = [2, 0, 0]'),\n",
              " Text(0.5433070866141733, 0.4166666666666667, 'x[0] <= 0.088\\ngini = 0.375\\nsamples = 4\\nvalue = [1, 3, 0]'),\n",
              " Text(0.5354330708661418, 0.3611111111111111, 'gini = 0.0\\nsamples = 3\\nvalue = [0, 3, 0]'),\n",
              " Text(0.5511811023622047, 0.3611111111111111, 'gini = 0.0\\nsamples = 1\\nvalue = [1, 0, 0]'),\n",
              " Text(0.5255905511811023, 0.5277777777777778, 'gini = 0.0\\nsamples = 3\\nvalue = [0, 3, 0]'),\n",
              " Text(0.5334645669291339, 0.5833333333333334, 'gini = 0.0\\nsamples = 4\\nvalue = [0, 4, 0]'),\n",
              " Text(0.7327755905511811, 0.8055555555555556, 'x[1] <= 0.512\\ngini = 0.039\\nsamples = 1782\\nvalue = [1747, 35, 0]'),\n",
              " Text(0.6417322834645669, 0.75, 'x[2] <= 1.742\\ngini = 0.497\\nsamples = 48\\nvalue = [26, 22, 0]'),\n",
              " Text(0.6141732283464567, 0.6944444444444444, 'x[2] <= 0.862\\ngini = 0.496\\nsamples = 35\\nvalue = [16, 19, 0]'),\n",
              " Text(0.5984251968503937, 0.6388888888888888, 'x[2] <= 0.671\\ngini = 0.494\\nsamples = 27\\nvalue = [15, 12, 0]'),\n",
              " Text(0.5905511811023622, 0.5833333333333334, 'x[3] <= 0.226\\ngini = 0.5\\nsamples = 24\\nvalue = [12, 12, 0]'),\n",
              " Text(0.5748031496062992, 0.5277777777777778, 'x[3] <= -0.356\\ngini = 0.444\\nsamples = 12\\nvalue = [4, 8, 0]'),\n",
              " Text(0.5669291338582677, 0.4722222222222222, 'x[3] <= -0.647\\ngini = 0.32\\nsamples = 5\\nvalue = [4, 1, 0]'),\n",
              " Text(0.5590551181102362, 0.4166666666666667, 'gini = 0.0\\nsamples = 1\\nvalue = [0, 1, 0]'),\n",
              " Text(0.5748031496062992, 0.4166666666666667, 'gini = 0.0\\nsamples = 4\\nvalue = [4, 0, 0]'),\n",
              " Text(0.5826771653543307, 0.4722222222222222, 'gini = 0.0\\nsamples = 7\\nvalue = [0, 7, 0]'),\n",
              " Text(0.6062992125984252, 0.5277777777777778, 'x[2] <= 0.6\\ngini = 0.444\\nsamples = 12\\nvalue = [8, 4, 0]'),\n",
              " Text(0.5984251968503937, 0.4722222222222222, 'x[3] <= 1.027\\ngini = 0.397\\nsamples = 11\\nvalue = [8, 3, 0]'),\n",
              " Text(0.5905511811023622, 0.4166666666666667, 'gini = 0.0\\nsamples = 5\\nvalue = [5, 0, 0]'),\n",
              " Text(0.6062992125984252, 0.4166666666666667, 'x[8] <= 0.962\\ngini = 0.5\\nsamples = 6\\nvalue = [3, 3, 0]'),\n",
              " Text(0.5984251968503937, 0.3611111111111111, 'x[3] <= 1.124\\ngini = 0.375\\nsamples = 4\\nvalue = [3, 1, 0]'),\n",
              " Text(0.5905511811023622, 0.3055555555555556, 'gini = 0.0\\nsamples = 1\\nvalue = [0, 1, 0]'),\n",
              " Text(0.6062992125984252, 0.3055555555555556, 'gini = 0.0\\nsamples = 3\\nvalue = [3, 0, 0]'),\n",
              " Text(0.6141732283464567, 0.3611111111111111, 'gini = 0.0\\nsamples = 2\\nvalue = [0, 2, 0]'),\n",
              " Text(0.6141732283464567, 0.4722222222222222, 'gini = 0.0\\nsamples = 1\\nvalue = [0, 1, 0]'),\n",
              " Text(0.6062992125984252, 0.5833333333333334, 'gini = 0.0\\nsamples = 3\\nvalue = [3, 0, 0]'),\n",
              " Text(0.6299212598425197, 0.6388888888888888, 'x[2] <= 1.147\\ngini = 0.219\\nsamples = 8\\nvalue = [1, 7, 0]'),\n",
              " Text(0.6220472440944882, 0.5833333333333334, 'gini = 0.0\\nsamples = 5\\nvalue = [0, 5, 0]'),\n",
              " Text(0.6377952755905512, 0.5833333333333334, 'x[2] <= 1.373\\ngini = 0.444\\nsamples = 3\\nvalue = [1, 2, 0]'),\n",
              " Text(0.6299212598425197, 0.5277777777777778, 'gini = 0.0\\nsamples = 1\\nvalue = [1, 0, 0]'),\n",
              " Text(0.6456692913385826, 0.5277777777777778, 'gini = 0.0\\nsamples = 2\\nvalue = [0, 2, 0]'),\n",
              " Text(0.6692913385826772, 0.6944444444444444, 'x[3] <= 1.294\\ngini = 0.355\\nsamples = 13\\nvalue = [10, 3, 0]'),\n",
              " Text(0.6614173228346457, 0.6388888888888888, 'x[10] <= 0.289\\ngini = 0.278\\nsamples = 12\\nvalue = [10, 2, 0]'),\n",
              " Text(0.6535433070866141, 0.5833333333333334, 'gini = 0.0\\nsamples = 7\\nvalue = [7, 0, 0]'),\n",
              " Text(0.6692913385826772, 0.5833333333333334, 'x[3] <= 0.105\\ngini = 0.48\\nsamples = 5\\nvalue = [3, 2, 0]'),\n",
              " Text(0.6614173228346457, 0.5277777777777778, 'gini = 0.0\\nsamples = 2\\nvalue = [2, 0, 0]'),\n",
              " Text(0.6771653543307087, 0.5277777777777778, 'x[0] <= -0.151\\ngini = 0.444\\nsamples = 3\\nvalue = [1, 2, 0]'),\n",
              " Text(0.6692913385826772, 0.4722222222222222, 'gini = 0.0\\nsamples = 2\\nvalue = [0, 2, 0]'),\n",
              " Text(0.6850393700787402, 0.4722222222222222, 'gini = 0.0\\nsamples = 1\\nvalue = [1, 0, 0]'),\n",
              " Text(0.6771653543307087, 0.6388888888888888, 'gini = 0.0\\nsamples = 1\\nvalue = [0, 1, 0]'),\n",
              " Text(0.8238188976377953, 0.75, 'x[2] <= -0.018\\ngini = 0.015\\nsamples = 1734\\nvalue = [1721, 13, 0]'),\n",
              " Text(0.7480314960629921, 0.6944444444444444, 'x[7] <= 1.124\\ngini = 0.144\\nsamples = 77\\nvalue = [71, 6, 0]'),\n",
              " Text(0.7165354330708661, 0.6388888888888888, 'x[3] <= -0.162\\ngini = 0.092\\nsamples = 62\\nvalue = [59, 3, 0]'),\n",
              " Text(0.7007874015748031, 0.5833333333333334, 'x[0] <= 0.307\\ngini = 0.375\\nsamples = 8\\nvalue = [6, 2, 0]'),\n",
              " Text(0.6929133858267716, 0.5277777777777778, 'gini = 0.0\\nsamples = 6\\nvalue = [6, 0, 0]'),\n",
              " Text(0.7086614173228346, 0.5277777777777778, 'gini = 0.0\\nsamples = 2\\nvalue = [0, 2, 0]'),\n",
              " Text(0.7322834645669292, 0.5833333333333334, 'x[0] <= 0.903\\ngini = 0.036\\nsamples = 54\\nvalue = [53, 1, 0]'),\n",
              " Text(0.7244094488188977, 0.5277777777777778, 'gini = 0.0\\nsamples = 42\\nvalue = [42, 0, 0]'),\n",
              " Text(0.7401574803149606, 0.5277777777777778, 'x[0] <= 0.963\\ngini = 0.153\\nsamples = 12\\nvalue = [11, 1, 0]'),\n",
              " Text(0.7322834645669292, 0.4722222222222222, 'gini = 0.0\\nsamples = 1\\nvalue = [0, 1, 0]'),\n",
              " Text(0.7480314960629921, 0.4722222222222222, 'gini = 0.0\\nsamples = 11\\nvalue = [11, 0, 0]'),\n",
              " Text(0.7795275590551181, 0.6388888888888888, 'x[0] <= -0.37\\ngini = 0.32\\nsamples = 15\\nvalue = [12, 3, 0]'),\n",
              " Text(0.7637795275590551, 0.5833333333333334, 'x[1] <= 1.1\\ngini = 0.444\\nsamples = 3\\nvalue = [1, 2, 0]'),\n",
              " Text(0.7559055118110236, 0.5277777777777778, 'gini = 0.0\\nsamples = 2\\nvalue = [0, 2, 0]'),\n",
              " Text(0.7716535433070866, 0.5277777777777778, 'gini = 0.0\\nsamples = 1\\nvalue = [1, 0, 0]'),\n",
              " Text(0.7952755905511811, 0.5833333333333334, 'x[1] <= 0.754\\ngini = 0.153\\nsamples = 12\\nvalue = [11, 1, 0]'),\n",
              " Text(0.7874015748031497, 0.5277777777777778, 'gini = 0.0\\nsamples = 1\\nvalue = [0, 1, 0]'),\n",
              " Text(0.8031496062992126, 0.5277777777777778, 'gini = 0.0\\nsamples = 11\\nvalue = [11, 0, 0]'),\n",
              " Text(0.8996062992125984, 0.6944444444444444, 'x[2] <= 0.101\\ngini = 0.008\\nsamples = 1657\\nvalue = [1650, 7, 0]'),\n",
              " Text(0.8543307086614174, 0.6388888888888888, 'x[1] <= 0.65\\ngini = 0.045\\nsamples = 172\\nvalue = [168, 4, 0]'),\n",
              " Text(0.8267716535433071, 0.5833333333333334, 'x[2] <= 0.077\\ngini = 0.219\\nsamples = 16\\nvalue = [14, 2, 0]'),\n",
              " Text(0.8188976377952756, 0.5277777777777778, 'gini = 0.0\\nsamples = 11\\nvalue = [11, 0, 0]'),\n",
              " Text(0.8346456692913385, 0.5277777777777778, 'x[0] <= 0.048\\ngini = 0.48\\nsamples = 5\\nvalue = [3, 2, 0]'),\n",
              " Text(0.8267716535433071, 0.4722222222222222, 'gini = 0.0\\nsamples = 2\\nvalue = [2, 0, 0]'),\n",
              " Text(0.84251968503937, 0.4722222222222222, 'x[7] <= 1.124\\ngini = 0.444\\nsamples = 3\\nvalue = [1, 2, 0]'),\n",
              " Text(0.8346456692913385, 0.4166666666666667, 'gini = 0.0\\nsamples = 2\\nvalue = [0, 2, 0]'),\n",
              " Text(0.8503937007874016, 0.4166666666666667, 'gini = 0.0\\nsamples = 1\\nvalue = [1, 0, 0]'),\n",
              " Text(0.8818897637795275, 0.5833333333333334, 'x[0] <= 1.978\\ngini = 0.025\\nsamples = 156\\nvalue = [154, 2, 0]'),\n",
              " Text(0.8661417322834646, 0.5277777777777778, 'x[4] <= 2.302\\ngini = 0.013\\nsamples = 151\\nvalue = [150, 1, 0]'),\n",
              " Text(0.8582677165354331, 0.4722222222222222, 'gini = 0.0\\nsamples = 139\\nvalue = [139, 0, 0]'),\n",
              " Text(0.8740157480314961, 0.4722222222222222, 'x[2] <= 0.077\\ngini = 0.153\\nsamples = 12\\nvalue = [11, 1, 0]'),\n",
              " Text(0.8661417322834646, 0.4166666666666667, 'gini = 0.0\\nsamples = 10\\nvalue = [10, 0, 0]'),\n",
              " Text(0.8818897637795275, 0.4166666666666667, 'x[1] <= 1.169\\ngini = 0.5\\nsamples = 2\\nvalue = [1, 1, 0]'),\n",
              " Text(0.8740157480314961, 0.3611111111111111, 'gini = 0.0\\nsamples = 1\\nvalue = [0, 1, 0]'),\n",
              " Text(0.889763779527559, 0.3611111111111111, 'gini = 0.0\\nsamples = 1\\nvalue = [1, 0, 0]'),\n",
              " Text(0.8976377952755905, 0.5277777777777778, 'x[0] <= 2.077\\ngini = 0.32\\nsamples = 5\\nvalue = [4, 1, 0]'),\n",
              " Text(0.889763779527559, 0.4722222222222222, 'gini = 0.0\\nsamples = 1\\nvalue = [0, 1, 0]'),\n",
              " Text(0.905511811023622, 0.4722222222222222, 'gini = 0.0\\nsamples = 4\\nvalue = [4, 0, 0]'),\n",
              " Text(0.9448818897637795, 0.6388888888888888, 'x[3] <= -0.647\\ngini = 0.004\\nsamples = 1485\\nvalue = [1482, 3, 0]'),\n",
              " Text(0.9212598425196851, 0.5833333333333334, 'x[1] <= 1.065\\ngini = 0.057\\nsamples = 34\\nvalue = [33, 1, 0]'),\n",
              " Text(0.9133858267716536, 0.5277777777777778, 'gini = 0.0\\nsamples = 30\\nvalue = [30, 0, 0]'),\n",
              " Text(0.9291338582677166, 0.5277777777777778, 'x[1] <= 1.117\\ngini = 0.375\\nsamples = 4\\nvalue = [3, 1, 0]'),\n",
              " Text(0.9212598425196851, 0.4722222222222222, 'gini = 0.0\\nsamples = 1\\nvalue = [0, 1, 0]'),\n",
              " Text(0.937007874015748, 0.4722222222222222, 'gini = 0.0\\nsamples = 3\\nvalue = [3, 0, 0]'),\n",
              " Text(0.968503937007874, 0.5833333333333334, 'x[2] <= 0.315\\ngini = 0.003\\nsamples = 1451\\nvalue = [1449, 2, 0]'),\n",
              " Text(0.9606299212598425, 0.5277777777777778, 'x[2] <= 0.267\\ngini = 0.013\\nsamples = 297\\nvalue = [295, 2, 0]'),\n",
              " Text(0.952755905511811, 0.4722222222222222, 'gini = 0.0\\nsamples = 234\\nvalue = [234, 0, 0]'),\n",
              " Text(0.968503937007874, 0.4722222222222222, 'x[3] <= 1.537\\ngini = 0.061\\nsamples = 63\\nvalue = [61, 2, 0]'),\n",
              " Text(0.952755905511811, 0.4166666666666667, 'x[3] <= 0.421\\ngini = 0.033\\nsamples = 59\\nvalue = [58, 1, 0]'),\n",
              " Text(0.9448818897637795, 0.3611111111111111, 'x[3] <= 0.372\\ngini = 0.133\\nsamples = 14\\nvalue = [13, 1, 0]'),\n",
              " Text(0.937007874015748, 0.3055555555555556, 'gini = 0.0\\nsamples = 12\\nvalue = [12, 0, 0]'),\n",
              " Text(0.952755905511811, 0.3055555555555556, 'x[1] <= 0.667\\ngini = 0.5\\nsamples = 2\\nvalue = [1, 1, 0]'),\n",
              " Text(0.9448818897637795, 0.25, 'gini = 0.0\\nsamples = 1\\nvalue = [1, 0, 0]'),\n",
              " Text(0.9606299212598425, 0.25, 'gini = 0.0\\nsamples = 1\\nvalue = [0, 1, 0]'),\n",
              " Text(0.9606299212598425, 0.3611111111111111, 'gini = 0.0\\nsamples = 45\\nvalue = [45, 0, 0]'),\n",
              " Text(0.984251968503937, 0.4166666666666667, 'x[7] <= 1.124\\ngini = 0.375\\nsamples = 4\\nvalue = [3, 1, 0]'),\n",
              " Text(0.9763779527559056, 0.3611111111111111, 'gini = 0.0\\nsamples = 3\\nvalue = [3, 0, 0]'),\n",
              " Text(0.9921259842519685, 0.3611111111111111, 'gini = 0.0\\nsamples = 1\\nvalue = [0, 1, 0]'),\n",
              " Text(0.9763779527559056, 0.5277777777777778, 'gini = 0.0\\nsamples = 1154\\nvalue = [1154, 0, 0]')]"
            ]
          },
          "metadata": {},
          "execution_count": 97
        },
        {
          "output_type": "display_data",
          "data": {
            "text/plain": [
              "<Figure size 640x480 with 1 Axes>"
            ],
            "image/png": "[encoded data removed]"
          },
          "metadata": {}
        }
      ]
    },
    {
      "cell_type": "code",
      "source": [
        "y_predict = tree.predict(X_test)"
      ],
      "metadata": {
        "id": "xvaad1IreQ2G"
      },
      "execution_count": 98,
      "outputs": []
    },
    {
      "cell_type": "markdown",
      "source": [
        "## Accuracy of Decision tree model"
      ],
      "metadata": {
        "id": "nA1ZK_I5f8bD"
      }
    },
    {
      "cell_type": "code",
      "source": [
        "print(accuracy_score(y_test, y_predict))\n",
        "print(classification_report(y_test, y_predict))"
      ],
      "metadata": {
        "colab": {
          "base_uri": "https://localhost:8080/"
        },
        "id": "_X0SkCRYeQzn",
        "outputId": "1e41d7e0-aed5-4e9f-f4ab-fc8c9a167335"
      },
      "execution_count": 99,
      "outputs": [
        {
          "output_type": "stream",
          "name": "stdout",
          "text": [
            "0.983750406239844\n",
            "                 precision    recall  f1-score   support\n",
            "\n",
            "Certified Fresh       0.95      0.94      0.95       464\n",
            "          Fresh       0.98      0.98      0.98      1296\n",
            "         Rotten       1.00      1.00      1.00      1317\n",
            "\n",
            "       accuracy                           0.98      3077\n",
            "      macro avg       0.98      0.98      0.98      3077\n",
            "   weighted avg       0.98      0.98      0.98      3077\n",
            "\n"
          ]
        }
      ]
    },
    {
      "cell_type": "code",
      "source": [
        "print(confusion_matrix(y_test, y_predict))\n",
        "sns.heatmap(confusion_matrix(y_test, y_predict), annot=True)\n",
        "plt.xlabel('PREDICT')\n",
        "plt.ylabel('ACTUAL')"
      ],
      "metadata": {
        "colab": {
          "base_uri": "https://localhost:8080/",
          "height": 518
        },
        "id": "OIAb4OT8eQxy",
        "outputId": "bb5c6233-febb-4411-fd2e-c8135b952959"
      },
      "execution_count": 100,
      "outputs": [
        {
          "output_type": "stream",
          "name": "stdout",
          "text": [
            "[[ 438   26    0]\n",
            " [  24 1272    0]\n",
            " [   0    0 1317]]\n"
          ]
        },
        {
          "output_type": "execute_result",
          "data": {
            "text/plain": [
              "Text(50.722222222222214, 0.5, 'ACTUAL')"
            ]
          },
          "metadata": {},
          "execution_count": 100
        },
        {
          "output_type": "display_data",
          "data": {
            "text/plain": [
              "<Figure size 640x480 with 2 Axes>"
            ],
            "image/png": "[encoded data removed]"
          },
          "metadata": {}
        }
      ]
    },
    {
      "cell_type": "markdown",
      "source": [
        "# Random Forest Model"
      ],
      "metadata": {
        "id": "waU9BwTBegRm"
      }
    },
    {
      "cell_type": "code",
      "source": [
        "#Using default parameters\n",
        "random_forest = RandomForestClassifier(random_state=2)"
      ],
      "metadata": {
        "id": "dUm28QL1eQuX"
      },
      "execution_count": 101,
      "outputs": []
    },
    {
      "cell_type": "code",
      "source": [
        "random_forest.fit(X_train, y_train)\n",
        "y_predict = random_forest.predict(X_test)"
      ],
      "metadata": {
        "id": "Zpmy_PDUeQrk"
      },
      "execution_count": 102,
      "outputs": []
    },
    {
      "cell_type": "code",
      "source": [
        "print(accuracy_score(y_test, y_predict))\n",
        "print(classification_report(y_test, y_predict))"
      ],
      "metadata": {
        "colab": {
          "base_uri": "https://localhost:8080/"
        },
        "id": "1auW8yU9eQpF",
        "outputId": "8fc8bbd9-7eb2-4a49-8469-bfa461f17df5"
      },
      "execution_count": 103,
      "outputs": [
        {
          "output_type": "stream",
          "name": "stdout",
          "text": [
            "0.9896002599935002\n",
            "                 precision    recall  f1-score   support\n",
            "\n",
            "Certified Fresh       0.97      0.96      0.97       464\n",
            "          Fresh       0.99      0.99      0.99      1296\n",
            "         Rotten       1.00      1.00      1.00      1317\n",
            "\n",
            "       accuracy                           0.99      3077\n",
            "      macro avg       0.99      0.98      0.98      3077\n",
            "   weighted avg       0.99      0.99      0.99      3077\n",
            "\n"
          ]
        }
      ]
    },
    {
      "cell_type": "markdown",
      "source": [
        "##Accuracy of Random forest model"
      ],
      "metadata": {
        "id": "8gsYdq63gFI2"
      }
    },
    {
      "cell_type": "code",
      "source": [
        "print(confusion_matrix(y_test, y_predict))\n",
        "sns.heatmap(confusion_matrix(y_test, y_predict), annot=True)\n",
        "plt.xlabel('PREDICT')\n",
        "plt.ylabel('ACTUAL')"
      ],
      "metadata": {
        "colab": {
          "base_uri": "https://localhost:8080/",
          "height": 518
        },
        "id": "6ujzk9nmeQmW",
        "outputId": "ac33afc8-2e20-419b-d658-66e22ff71492"
      },
      "execution_count": 104,
      "outputs": [
        {
          "output_type": "stream",
          "name": "stdout",
          "text": [
            "[[ 445   19    0]\n",
            " [  13 1283    0]\n",
            " [   0    0 1317]]\n"
          ]
        },
        {
          "output_type": "execute_result",
          "data": {
            "text/plain": [
              "Text(50.722222222222214, 0.5, 'ACTUAL')"
            ]
          },
          "metadata": {},
          "execution_count": 104
        },
        {
          "output_type": "display_data",
          "data": {
            "text/plain": [
              "<Figure size 640x480 with 2 Axes>"
            ],
            "image/png": "[encoded data removed]"
          },
          "metadata": {}
        }
      ]
    },
    {
      "cell_type": "code",
      "source": [
        "feature_importances = random_forest.feature_importances_\n",
        "for index, feature in enumerate(df_feature.columns):\n",
        "    print(f'f{feature}: {feature_importances[index]}')\n",
        "\n",
        "plt.barh(np.arange(len(feature_importances)), feature_importances)\n",
        "plt.title('Feature Importance')\n",
        "plt.xlabel('Importance')\n",
        "plt.yticks(np.arange(len(feature_importances)), df_feature.columns)"
      ],
      "metadata": {
        "colab": {
          "base_uri": "https://localhost:8080/",
          "height": 1000
        },
        "id": "P3S71e55eQj0",
        "outputId": "46aa3b1b-0f46-49e5-8a44-46e66afe21cf"
      },
      "execution_count": 105,
      "outputs": [
        {
          "output_type": "stream",
          "name": "stdout",
          "text": [
            "fruntime_in_minutes: 0.015674096637869027\n",
            "ftomatometer_rating: 0.6414913179029514\n",
            "ftomatometer_count: 0.19927781908814762\n",
            "faudience_rating: 0.10353249459152326\n",
            "fG: 0.001155284986533397\n",
            "fNC17: 7.97607580703279e-05\n",
            "fNR: 0.02476377040473439\n",
            "fPG: 0.0010476966812899343\n",
            "fPG-13: 0.006751094004832531\n",
            "fPG-13): 8.499357760914588e-06\n",
            "fR: 0.0061899925972718605\n",
            "fR): 2.817298901544461e-05\n"
          ]
        },
        {
          "output_type": "execute_result",
          "data": {
            "text/plain": [
              "([<matplotlib.axis.YTick at 0x78141f89b5b0>,\n",
              "  <matplotlib.axis.YTick at 0x78141f89af50>,\n",
              "  <matplotlib.axis.YTick at 0x78141f8c7fa0>,\n",
              "  <matplotlib.axis.YTick at 0x781420b78250>,\n",
              "  <matplotlib.axis.YTick at 0x781420b78af0>,\n",
              "  <matplotlib.axis.YTick at 0x781420b792d0>,\n",
              "  <matplotlib.axis.YTick at 0x781420b78c40>,\n",
              "  <matplotlib.axis.YTick at 0x781420b79a20>,\n",
              "  <matplotlib.axis.YTick at 0x781420b7a200>,\n",
              "  <matplotlib.axis.YTick at 0x781420b7a9e0>,\n",
              "  <matplotlib.axis.YTick at 0x781420b7b1c0>,\n",
              "  <matplotlib.axis.YTick at 0x781420b7a740>],\n",
              " [Text(0, 0, 'runtime_in_minutes'),\n",
              "  Text(0, 1, 'tomatometer_rating'),\n",
              "  Text(0, 2, 'tomatometer_count'),\n",
              "  Text(0, 3, 'audience_rating'),\n",
              "  Text(0, 4, 'G'),\n",
              "  Text(0, 5, 'NC17'),\n",
              "  Text(0, 6, 'NR'),\n",
              "  Text(0, 7, 'PG'),\n",
              "  Text(0, 8, 'PG-13'),\n",
              "  Text(0, 9, 'PG-13)'),\n",
              "  Text(0, 10, 'R'),\n",
              "  Text(0, 11, 'R)')])"
            ]
          },
          "metadata": {},
          "execution_count": 105
        },
        {
          "output_type": "display_data",
          "data": {
            "text/plain": [
              "<Figure size 640x480 with 1 Axes>"
            ],
            "image/png": "[encoded data removed]"
          },
          "metadata": {}
        }
      ]
    },
    {
      "cell_type": "markdown",
      "source": [
        "Feature Selection"
      ],
      "metadata": {
        "id": "VQ2vlji-ev7V"
      }
    },
    {
      "cell_type": "code",
      "source": [
        "scaler = StandardScaler()\n",
        "df_feature_scale = scaler.fit_transform(df_feature.drop(['R', 'PG-13', 'PG', 'NR', 'NC17', 'G', 'runtime_in_minutes'], axis=1))\n",
        "df_feature_scale"
      ],
      "metadata": {
        "colab": {
          "base_uri": "https://localhost:8080/"
        },
        "id": "ksUbBWjXeQhT",
        "outputId": "0c542e36-9afe-41c6-8522-eea36d926abf"
      },
      "execution_count": 108,
      "outputs": [
        {
          "output_type": "execute_result",
          "data": {
            "text/plain": [
              "array([[-0.3703541 ,  2.41969157, -0.3316058 , -0.01396679, -0.00806321],\n",
              "       [ 0.90950399,  2.32455151,  0.20215391, -0.01396679, -0.00806321],\n",
              "       [ 0.28687033, -0.48208029, -0.3316058 , -0.01396679, -0.00806321],\n",
              "       ...,\n",
              "       [ 0.63277792, -0.79128549,  1.31819695, -0.01396679, -0.00806321],\n",
              "       [ 1.22082082, -0.50586531,  1.51229139, -0.01396679, -0.00806321],\n",
              "       [-0.09362802, -0.83885552,  0.10510669, -0.01396679, -0.00806321]])"
            ]
          },
          "metadata": {},
          "execution_count": 108
        }
      ]
    },
    {
      "cell_type": "code",
      "source": [
        "X_train, X_test, y_train, y_test = train_test_split(df_feature_scale, target, test_size=0.2, random_state=42)\n",
        "print(f'Size of train data: {X_train.shape[0]}\\nSize of test data: {X_test.shape[0]}')"
      ],
      "metadata": {
        "colab": {
          "base_uri": "https://localhost:8080/"
        },
        "id": "gt2SqctUeQe-",
        "outputId": "b7e839db-84aa-404d-c29d-529c865a9622"
      },
      "execution_count": 109,
      "outputs": [
        {
          "output_type": "stream",
          "name": "stdout",
          "text": [
            "Size of train data: 12305\n",
            "Size of test data: 3077\n"
          ]
        }
      ]
    },
    {
      "cell_type": "code",
      "source": [
        "random_forest = RandomForestClassifier(random_state=2)"
      ],
      "metadata": {
        "id": "M8HDzEsMeQcz"
      },
      "execution_count": 110,
      "outputs": []
    },
    {
      "cell_type": "code",
      "source": [
        "random_forest.fit(X_train, y_train)\n",
        "y_predict = random_forest.predict(X_test)"
      ],
      "metadata": {
        "id": "Pgx1MFD7eQZC"
      },
      "execution_count": 111,
      "outputs": []
    },
    {
      "cell_type": "code",
      "source": [
        "print(accuracy_score(y_test, y_predict))\n",
        "print(classification_report(y_test, y_predict))"
      ],
      "metadata": {
        "id": "hHNT-kWQbw9V",
        "colab": {
          "base_uri": "https://localhost:8080/"
        },
        "outputId": "5f8f3d72-5246-4120-fcc1-5a85edfb3ab9"
      },
      "execution_count": 112,
      "outputs": [
        {
          "output_type": "stream",
          "name": "stdout",
          "text": [
            "0.9886252843678908\n",
            "                 precision    recall  f1-score   support\n",
            "\n",
            "Certified Fresh       0.97      0.96      0.96       464\n",
            "          Fresh       0.98      0.99      0.99      1296\n",
            "         Rotten       1.00      1.00      1.00      1317\n",
            "\n",
            "       accuracy                           0.99      3077\n",
            "      macro avg       0.98      0.98      0.98      3077\n",
            "   weighted avg       0.99      0.99      0.99      3077\n",
            "\n"
          ]
        }
      ]
    },
    {
      "cell_type": "code",
      "source": [
        "print(confusion_matrix(y_test, y_predict))\n",
        "sns.heatmap(confusion_matrix(y_test, y_predict), annot=True)\n",
        "plt.xlabel('PREDICT')\n",
        "plt.ylabel('ACTUAL')"
      ],
      "metadata": {
        "id": "AnStGhqubw69",
        "colab": {
          "base_uri": "https://localhost:8080/",
          "height": 518
        },
        "outputId": "fc1980e2-a188-4e47-fa57-e742a34f86b7"
      },
      "execution_count": 113,
      "outputs": [
        {
          "output_type": "stream",
          "name": "stdout",
          "text": [
            "[[ 444   20    0]\n",
            " [  15 1281    0]\n",
            " [   0    0 1317]]\n"
          ]
        },
        {
          "output_type": "execute_result",
          "data": {
            "text/plain": [
              "Text(50.722222222222214, 0.5, 'ACTUAL')"
            ]
          },
          "metadata": {},
          "execution_count": 113
        },
        {
          "output_type": "display_data",
          "data": {
            "text/plain": [
              "<Figure size 640x480 with 2 Axes>"
            ],
            "image/png": "[encoded data removed]"
          },
          "metadata": {}
        }
      ]
    },
    {
      "cell_type": "code",
      "source": [],
      "metadata": {
        "id": "17tnA6erfLZ_"
      },
      "execution_count": 116,
      "outputs": []
    },
    {
      "cell_type": "code",
      "source": [],
      "metadata": {
        "id": "sKhu7bi5fLXY"
      },
      "execution_count": null,
      "outputs": []
    },
    {
      "cell_type": "code",
      "source": [],
      "metadata": {
        "id": "WjGJTV-AfLVN"
      },
      "execution_count": null,
      "outputs": []
    },
    {
      "cell_type": "code",
      "source": [],
      "metadata": {
        "id": "iHHlOBhsfLS3"
      },
      "execution_count": null,
      "outputs": []
    },
    {
      "cell_type": "code",
      "source": [],
      "metadata": {
        "id": "jljrurrJfLQq"
      },
      "execution_count": null,
      "outputs": []
    },
    {
      "cell_type": "code",
      "source": [],
      "metadata": {
        "id": "PDtOevpFfLOt"
      },
      "execution_count": null,
      "outputs": []
    },
    {
      "cell_type": "code",
      "source": [],
      "metadata": {
        "id": "LF8puGA6fLMV"
      },
      "execution_count": null,
      "outputs": []
    },
    {
      "cell_type": "code",
      "source": [],
      "metadata": {
        "id": "O8p8tcZza0rL"
      },
      "execution_count": 19,
      "outputs": []
    }
  ]
}